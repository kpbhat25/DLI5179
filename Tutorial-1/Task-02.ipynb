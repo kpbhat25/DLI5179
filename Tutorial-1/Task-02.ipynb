{
 "cells": [
  {
   "cell_type": "markdown",
   "metadata": {},
   "source": [
    "## Task: 02\n",
    "\n",
    "The goal of this task is to implement **Gradient Descent** algorithm in Python. Gradient Descent dictates how the weights get updated from an inital value to ensure we reach a minimal loss value."
   ]
  },
  {
   "cell_type": "code",
   "execution_count": 2,
   "metadata": {},
   "outputs": [],
   "source": [
    "#import necessary libraries\n",
    "import numpy as np\n",
    "import pandas as pd\n",
    "import matplotlib.pyplot as plt"
   ]
  },
  {
   "cell_type": "markdown",
   "metadata": {},
   "source": [
    "Let us make use of a randomly-created sample dataset as follows"
   ]
  },
  {
   "cell_type": "code",
   "execution_count": 3,
   "metadata": {},
   "outputs": [],
   "source": [
    "#sample-dataset\n",
    "x_data = [1.0, 2.0, 3.0]\n",
    "y_data = [2.0, 4.0, 6.0]\n",
    "\n",
    "# Let us initialize our weight value (w) with 1.0\n",
    "w = 1.0"
   ]
  },
  {
   "cell_type": "markdown",
   "metadata": {},
   "source": [
    "## Task: 02 - a\n",
    "Implement the forward and loss functions"
   ]
  },
  {
   "cell_type": "code",
   "execution_count": 4,
   "metadata": {},
   "outputs": [],
   "source": [
    "#forward function to calculate y_pred for a given x according to the linear model defined above\n",
    "def forward(x):\n",
    "    #implement the forward model to compute y_pred as w*x\n",
    "    ## YOUR CODE STARTS HERE\n",
    "    return (w*x)\n",
    "\n",
    "    ## YOUR CODE ENDS HERE\n",
    "\n",
    "#loss-function to compute the mean-squared error between y_pred and y_actual\n",
    "def loss(y_pred, y_actual):\n",
    "    #calculate the mean-squared-error between y_pred and y_actual\n",
    "    ## YOUR CODE STARTS HERE\n",
    "    return ((y_pred - y_actual)**2)\n",
    "\n",
    "    ## YOUR CODE ENDS HERE"
   ]
  },
  {
   "cell_type": "markdown",
   "metadata": {},
   "source": [
    "### Gradient Descent\n",
    "\n",
    "We update the `w` such that loss is minimum. The factor by which `w` is updated each time is called `alpha(learning rate)`.\n",
    "\n",
    "New `w` is `w` minus `alpha` times derivative of `loss` against `w`, which can be mathematically expressed as follows:\n",
    "\n",
    "$w=w-\\alpha*\\frac{d(loss)}{dw}$\n",
    "\n",
    "This equation is dependent on how the loss function has been defined. \n",
    "In the current case below formula will dictate how to update the value of w for each pass. \n",
    "\n",
    "$w = w - \\alpha*(2x)*(y_{pred}-y_{actual})$\n"
   ]
  },
  {
   "cell_type": "markdown",
   "metadata": {},
   "source": [
    "## Task: 02 - b\n",
    "Complete the gradient function"
   ]
  },
  {
   "cell_type": "code",
   "execution_count": 8,
   "metadata": {},
   "outputs": [],
   "source": [
    "# Function to calculate the gradient for w to be updated and get min loss.\n",
    "# Gradient = derivative of the loss for constant x and y with respect to the weight w\n",
    "\n",
    "def gradient(x,y):\n",
    "    #implement the gradient of loss with respect to the weight (w)\n",
    "    ## YOUR CODE STARTS HERE\n",
    "    return (2*x)*(x-y)\n",
    "\n",
    "    ## YOUR CODE ENDS HERE"
   ]
  },
  {
   "cell_type": "markdown",
   "metadata": {},
   "source": [
    "Calculate $y_{pred}$ for $x=4$ without training the model"
   ]
  },
  {
   "cell_type": "code",
   "execution_count": 5,
   "metadata": {},
   "outputs": [],
   "source": [
    "y_pred_without_train = forward(4)"
   ]
  },
  {
   "cell_type": "markdown",
   "metadata": {},
   "source": [
    "Begin Training"
   ]
  },
  {
   "cell_type": "code",
   "execution_count": 10,
   "metadata": {},
   "outputs": [
    {
     "name": "stdout",
     "output_type": "stream",
     "text": [
      "Progress:  0 w= 1.2781691518156801 loss= 4.044039469738666\n",
      "Progress:  1 w= 1.5249963751247337 loss= 2.025612224472239\n",
      "Progress:  2 w= 1.7122186064854195 loss= 0.8471382579194353\n",
      "Progress:  3 w= 1.8362951427474148 loss= 0.30287559461054236\n",
      "Progress:  4 w= 1.9106973615072778 loss= 0.0963204167479248\n",
      "Progress:  5 w= 1.9524954696789971 loss= 0.028366810978317003\n",
      "Progress:  6 w= 1.97508516851224 loss= 0.007980313256689919\n",
      "Progress:  7 w= 1.9870324934460457 loss= 0.0021882573516342164\n",
      "Progress:  8 w= 1.9932780346715335 loss= 0.0005917967107410784\n",
      "Progress:  9 w= 1.9965229051743878 loss= 0.00015888186040234655\n",
      "Progress:  10 w= 1.9982033684372251 loss= 4.249311599791234e-05\n",
      "Progress:  11 w= 1.9990722006304151 loss= 1.13423206331625e-05\n",
      "Progress:  12 w= 1.9995210158018568 loss= 3.024401664462905e-06\n",
      "Progress:  13 w= 1.999752758021285 loss= 8.060213583108322e-07\n",
      "Progress:  14 w= 1.9998723887065253 loss= 2.1475069770097435e-07\n",
      "Progress:  15 w= 1.999934137472199 loss= 5.7208577411083136e-08\n",
      "Progress:  16 w= 1.9999660078537662 loss= 1.5238982918796542e-08\n",
      "Progress:  17 w= 1.9999824565871027 loss= 4.059143807590572e-09\n",
      "Progress:  18 w= 1.9999909458609209 loss= 1.0811960242165275e-09\n",
      "Progress:  19 w= 1.9999953271806927 loss= 2.8798514041568e-10\n",
      "Progress:  20 w= 1.9999975883728258 loss= 7.670672962343803e-11\n",
      "Progress:  21 w= 1.9999987553678442 loss= 2.0431285508883732e-11\n",
      "Progress:  22 w= 1.9999993576500519 loss= 5.441984725845563e-12\n",
      "Progress:  23 w= 1.9999996684856889 loss= 1.4495013855707174e-12\n",
      "Progress:  24 w= 1.9999998289067709 loss= 3.860822111635735e-13\n",
      "Progress:  25 w= 1.9999999116994638 loss= 1.0283497958077339e-13\n",
      "Progress:  26 w= 1.999999954428445 loss= 2.739062199221258e-14\n",
      "Progress:  27 w= 1.9999999764807024 loss= 7.295631774062847e-15\n",
      "Progress:  28 w= 1.9999999878617845 loss= 1.943228676846626e-15\n",
      "Progress:  29 w= 1.9999999937355155 loss= 5.175888146205401e-16\n",
      "Progress:  30 w= 1.9999999967669246 loss= 1.378624248252959e-16\n",
      "Progress:  31 w= 1.9999999983314227 loss= 3.67203570256264e-17\n",
      "Progress:  32 w= 1.999999999138854 loss= 9.780654519758389e-18\n",
      "Progress:  33 w= 1.999999999555566 loss= 2.605126923387936e-18\n",
      "Progress:  34 w= 1.9999999997706295 loss= 6.938886226625894e-19\n",
      "Progress:  35 w= 1.999999999881623 loss= 1.8482052645257509e-19\n",
      "Progress:  36 w= 1.999999999938906 loss= 4.922766865250748e-20\n",
      "Progress:  37 w= 1.9999999999684697 loss= 1.3112058091910297e-20\n",
      "Progress:  38 w= 1.9999999999837272 loss= 3.492485369288335e-21\n",
      "Progress:  39 w= 1.9999999999916018 loss= 9.30264444546223e-22\n",
      "Progress:  40 w= 1.9999999999956657 loss= 2.4777015983488264e-22\n",
      "Progress:  41 w= 1.9999999999977631 loss= 6.599704108919093e-23\n",
      "Progress:  42 w= 1.9999999999988456 loss= 1.7578332569969548e-23\n",
      "Progress:  43 w= 1.9999999999994043 loss= 4.680997090022276e-24\n",
      "Progress:  44 w= 1.9999999999996925 loss= 1.2471834540858678e-24\n",
      "Progress:  45 w= 1.9999999999998412 loss= 3.324675485690782e-25\n",
      "Progress:  46 w= 1.999999999999918 loss= 8.841147091042956e-26\n",
      "Progress:  47 w= 1.9999999999999578 loss= 2.355224762088072e-26\n",
      "Progress:  48 w= 1.9999999999999782 loss= 6.248370015029329e-27\n",
      "Progress:  49 w= 1.9999999999999887 loss= 1.6540441030221565e-27\n",
      "Progress:  50 w= 1.9999999999999942 loss= 4.532827630604318e-28\n",
      "Progress:  51 w= 1.9999999999999971 loss= 1.1951242714098329e-28\n",
      "Progress:  52 w= 1.9999999999999987 loss= 2.9072811277832704e-29\n",
      "Progress:  53 w= 1.9999999999999993 loss= 7.165486555757524e-30\n",
      "Progress:  54 w= 1.9999999999999996 loss= 1.791371638939381e-30\n",
      "Progress:  55 w= 1.9999999999999998 loss= 1.3805065841367707e-30\n",
      "Progress:  56 w= 1.9999999999999998 loss= 3.4512664603419266e-31\n",
      "Progress:  57 w= 1.9999999999999998 loss= 3.4512664603419266e-31\n",
      "Progress:  58 w= 1.9999999999999998 loss= 3.4512664603419266e-31\n",
      "Progress:  59 w= 1.9999999999999998 loss= 3.4512664603419266e-31\n",
      "Progress:  60 w= 1.9999999999999998 loss= 3.4512664603419266e-31\n",
      "Progress:  61 w= 1.9999999999999998 loss= 3.4512664603419266e-31\n",
      "Progress:  62 w= 1.9999999999999998 loss= 3.4512664603419266e-31\n",
      "Progress:  63 w= 1.9999999999999998 loss= 3.4512664603419266e-31\n",
      "Progress:  64 w= 1.9999999999999998 loss= 3.4512664603419266e-31\n",
      "Progress:  65 w= 1.9999999999999998 loss= 3.4512664603419266e-31\n",
      "Progress:  66 w= 1.9999999999999998 loss= 3.4512664603419266e-31\n",
      "Progress:  67 w= 1.9999999999999998 loss= 3.4512664603419266e-31\n",
      "Progress:  68 w= 1.9999999999999998 loss= 3.4512664603419266e-31\n",
      "Progress:  69 w= 1.9999999999999998 loss= 3.4512664603419266e-31\n",
      "Progress:  70 w= 1.9999999999999998 loss= 3.4512664603419266e-31\n",
      "Progress:  71 w= 1.9999999999999998 loss= 3.4512664603419266e-31\n",
      "Progress:  72 w= 1.9999999999999998 loss= 3.4512664603419266e-31\n",
      "Progress:  73 w= 1.9999999999999998 loss= 3.4512664603419266e-31\n",
      "Progress:  74 w= 1.9999999999999998 loss= 3.4512664603419266e-31\n",
      "Progress:  75 w= 1.9999999999999998 loss= 3.4512664603419266e-31\n",
      "Progress:  76 w= 1.9999999999999998 loss= 3.4512664603419266e-31\n",
      "Progress:  77 w= 1.9999999999999998 loss= 3.4512664603419266e-31\n",
      "Progress:  78 w= 1.9999999999999998 loss= 3.4512664603419266e-31\n",
      "Progress:  79 w= 1.9999999999999998 loss= 3.4512664603419266e-31\n",
      "Progress:  80 w= 1.9999999999999998 loss= 3.4512664603419266e-31\n",
      "Progress:  81 w= 1.9999999999999998 loss= 3.4512664603419266e-31\n",
      "Progress:  82 w= 1.9999999999999998 loss= 3.4512664603419266e-31\n",
      "Progress:  83 w= 1.9999999999999998 loss= 3.4512664603419266e-31\n",
      "Progress:  84 w= 1.9999999999999998 loss= 3.4512664603419266e-31\n",
      "Progress:  85 w= 1.9999999999999998 loss= 3.4512664603419266e-31\n",
      "Progress:  86 w= 1.9999999999999998 loss= 3.4512664603419266e-31\n",
      "Progress:  87 w= 1.9999999999999998 loss= 3.4512664603419266e-31\n",
      "Progress:  88 w= 1.9999999999999998 loss= 3.4512664603419266e-31\n",
      "Progress:  89 w= 1.9999999999999998 loss= 3.4512664603419266e-31\n",
      "Progress:  90 w= 1.9999999999999998 loss= 3.4512664603419266e-31\n",
      "Progress:  91 w= 1.9999999999999998 loss= 3.4512664603419266e-31\n",
      "Progress:  92 w= 1.9999999999999998 loss= 3.4512664603419266e-31\n",
      "Progress:  93 w= 1.9999999999999998 loss= 3.4512664603419266e-31\n",
      "Progress:  94 w= 1.9999999999999998 loss= 3.4512664603419266e-31\n",
      "Progress:  95 w= 1.9999999999999998 loss= 3.4512664603419266e-31\n",
      "Progress:  96 w= 1.9999999999999998 loss= 3.4512664603419266e-31\n",
      "Progress:  97 w= 1.9999999999999998 loss= 3.4512664603419266e-31\n",
      "Progress:  98 w= 1.9999999999999998 loss= 3.4512664603419266e-31\n",
      "Progress:  99 w= 1.9999999999999998 loss= 3.4512664603419266e-31\n"
     ]
    }
   ],
   "source": [
    "# In this method, we learn the dataset multiple times (called epochs)\n",
    "# Each time, the weight (w) gets updates using the graident decent algorithm based on weights of the previous epoch\n",
    "\n",
    "alpha = 0.01 # Let us set learning rate as 0.01\n",
    "weight_list = []\n",
    "loss_list=[]\n",
    "\n",
    "for epoch in range(100):\n",
    "    total_loss=0\n",
    "    count = 0\n",
    "    for x, y in zip(x_data, y_data):\n",
    "        \n",
    "        #call the forward function to calculate y_pred\n",
    "        ## YOUR CODE STARTS HERE\n",
    "        y_pred = forward(x)\n",
    "        ## YOUR CODE ENDS HERE\n",
    "        \n",
    "        #call the gradient function to obtain the grad for the given data-pair and update the weight\n",
    "        ## YOUR CODE STARTS HERE\n",
    "        grad = gradient(y_pred,y)\n",
    "        w = w - ((alpha) * grad) \n",
    "        ## YOUR CODE ENDS HERE\n",
    "        \n",
    "        #call the loss function to obtain the mean_squared_error of the current sample\n",
    "        ## YOUR CODE STARTS HERE\n",
    "        current_loss = loss(y_pred , y)\n",
    "        ## YOUR CODE ENDS HERE\n",
    "        \n",
    "        total_loss+=current_loss\n",
    "        \n",
    "        count += 1\n",
    "    \n",
    "    avg_mse = total_loss / count\n",
    "    print('Progress: ', epoch, 'w=', w, 'loss=', avg_mse)\n",
    "    weight_list.append(w)\n",
    "    loss_list.append(avg_mse) "
   ]
  },
  {
   "cell_type": "markdown",
   "metadata": {},
   "source": [
    "Calculate $y_{pred}$ for $x=4$ after training the model"
   ]
  },
  {
   "cell_type": "code",
   "execution_count": 11,
   "metadata": {},
   "outputs": [
    {
     "name": "stdout",
     "output_type": "stream",
     "text": [
      "Actual Y Value for x=4 : 8\n",
      "Predicted Y Value before training :  4.0\n",
      "Predicted Y Value after training :  7.999999999999999\n"
     ]
    }
   ],
   "source": [
    "y_pred_with_train = forward(4)\n",
    "\n",
    "print(\"Actual Y Value for x=4 : 8\")\n",
    "print(\"Predicted Y Value before training : \" , y_pred_without_train)\n",
    "print(\"Predicted Y Value after training : \" , y_pred_with_train)"
   ]
  },
  {
   "cell_type": "markdown",
   "metadata": {},
   "source": [
    "### Visualize Loss as a function of weight"
   ]
  },
  {
   "cell_type": "code",
   "execution_count": 12,
   "metadata": {
    "scrolled": true
   },
   "outputs": [
    {
     "data": {
      "image/png": "[encoded data removed]",
      "text/plain": [
       "<Figure size 432x288 with 1 Axes>"
      ]
     },
     "metadata": {
      "needs_background": "light"
     },
     "output_type": "display_data"
    }
   ],
   "source": [
    "plt.plot(weight_list, loss_list)\n",
    "plt.ylabel('Loss')\n",
    "plt.xlabel('w')\n",
    "plt.show()"
   ]
  }
 ],
 "metadata": {
  "kernelspec": {
   "display_name": "Python 3.9.12 ('kpb')",
   "language": "python",
   "name": "python3"
  },
  "language_info": {
   "codemirror_mode": {
    "name": "ipython",
    "version": 3
   },
   "file_extension": ".py",
   "mimetype": "text/x-python",
   "name": "python",
   "nbconvert_exporter": "python",
   "pygments_lexer": "ipython3",
   "version": "3.9.12"
  },
  "vscode": {
   "interpreter": {
    "hash": "af5fc8c4b92f5405777167d61885746fb25c699dcf067d7c9e129d8b58c7734d"
   }
  }
 },
 "nbformat": 4,
 "nbformat_minor": 4
}
