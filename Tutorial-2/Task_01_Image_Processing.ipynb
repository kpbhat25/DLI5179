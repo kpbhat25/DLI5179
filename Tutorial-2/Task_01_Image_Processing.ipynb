{
 "cells": [
  {
   "cell_type": "markdown",
   "metadata": {
    "id": "5Gid2eqNvtQc"
   },
   "source": [
    "## Image Processing Basics in Python\n",
    "\n",
    "As far as computers are concerned, images are simply numerical data representations. You can use statistical techniques to manipulate and analyze the numerical properties of images.\n",
    "\n",
    "In this task, you are required to understand and get familiar with commonly-used syntax involved in image-processing. Further, you should implement some basic geometric transformations and verify them with outputs obtained from libraries."
   ]
  },
  {
   "cell_type": "code",
   "execution_count": null,
   "metadata": {
    "colab": {
     "base_uri": "https://localhost:8080/"
    },
    "id": "z8DWiLPtvvcw",
    "outputId": "48b6d83f-a428-4806-b61c-8532dc6a6055"
   },
   "outputs": [],
   "source": [
    "!git clone https://github.com/SanVik2000/EE5179-Final.git"
   ]
  },
  {
   "cell_type": "markdown",
   "metadata": {
    "id": "GCR_gaQlvtQi"
   },
   "source": [
    "## Loading and Displaying an Image\n",
    "Let's start by loading a PNG file and examining its properties. Run the following cell to load and display an image using the **matplotlib.image** library. You are requested to execute the cells one-by-one after going through the syntax of each cell."
   ]
  },
  {
   "cell_type": "code",
   "execution_count": null,
   "metadata": {
    "colab": {
     "base_uri": "https://localhost:8080/",
     "height": 286
    },
    "id": "xI4NaoYrvtQi",
    "outputId": "3f628592-be78-45d9-a060-ac76c6997e1a"
   },
   "outputs": [],
   "source": [
    "from matplotlib import image as mpimg\n",
    "from matplotlib import pyplot as plt\n",
    "import numpy as np\n",
    "%matplotlib inline\n",
    "\n",
    "img1 = mpimg.imread('/content/EE5179-Final/Tutorial-2/lena.png')\n",
    "plt.imshow(img1)\n",
    "type(img1)"
   ]
  },
  {
   "cell_type": "markdown",
   "metadata": {
    "id": "6shNfUBMvtQk"
   },
   "source": [
    "So we can see the file is definitely an image, but note that the data type of the **img1** object is actually a multidimensional numpy array.\n",
    "\n",
    "Let's take a closer look at this array by printing it's shape:"
   ]
  },
  {
   "cell_type": "code",
   "execution_count": null,
   "metadata": {
    "colab": {
     "base_uri": "https://localhost:8080/"
    },
    "id": "Mzvkoi0TvtQl",
    "outputId": "4a3b8159-18ef-46e3-b335-a4e87859fefe"
   },
   "outputs": [],
   "source": [
    "print(\"Image Shape : \" , img1.shape)"
   ]
  },
  {
   "cell_type": "markdown",
   "metadata": {
    "id": "tUqjL4B1vtQl"
   },
   "source": [
    "The image is actually composed of three \"layers, or *channels*, for red, green, and blue (RGB) pixel intensities. Each layer of the image represents 512 x 512 pixels (the dimensions of the image).\n",
    "\n",
    "Now let's load and display the same image but this time we'll use another popular Python library for working with images - **cv2**."
   ]
  },
  {
   "cell_type": "code",
   "execution_count": null,
   "metadata": {
    "colab": {
     "base_uri": "https://localhost:8080/",
     "height": 286
    },
    "id": "MFdEg2R7vtQp",
    "outputId": "df3ecace-4693-460a-e008-dc2b4b388b20"
   },
   "outputs": [],
   "source": [
    "import cv2\n",
    "import matplotlib.pyplot as plt\n",
    "import numpy as np\n",
    "%matplotlib inline\n",
    "\n",
    "img2 = cv2.imread('/content/EE5179-Final/Tutorial-2/lena.png')\n",
    "plt.imshow(img2)\n",
    "type(img2)"
   ]
  },
  {
   "cell_type": "markdown",
   "metadata": {
    "id": "djF6454jvtQq"
   },
   "source": [
    "Once again we've got a multidimensional array; but the image appears with a blue-tint\n",
    "\n",
    "The problem is that cv2 loads the array of image data with the channels ordered as blue, green, red (BGR) instead of red, green blue (RGB). This can be fixed as follows:"
   ]
  },
  {
   "cell_type": "code",
   "execution_count": null,
   "metadata": {
    "colab": {
     "base_uri": "https://localhost:8080/",
     "height": 286
    },
    "id": "Ez8l7_kBvtQq",
    "outputId": "f9ba1e70-ef44-43d5-9c13-2af7e2464963"
   },
   "outputs": [],
   "source": [
    "img2 = cv2.cvtColor(img2, cv2.COLOR_BGR2RGB)\n",
    "plt.imshow(img2)"
   ]
  },
  {
   "cell_type": "markdown",
   "metadata": {
    "id": "eSMI3I7TvtQr"
   },
   "source": [
    "That's better - now the image is a numpy array with 3 dimensions for red, green, and blue.\n",
    "\n",
    "There's one more commonly used library for image processing in Python we should consider - **PIL**:"
   ]
  },
  {
   "cell_type": "code",
   "execution_count": null,
   "metadata": {
    "colab": {
     "base_uri": "https://localhost:8080/",
     "height": 286
    },
    "id": "ThfEZftPvtQr",
    "outputId": "835ffde2-6193-4030-ddbb-e17f09b5d653"
   },
   "outputs": [],
   "source": [
    "from PIL import Image\n",
    "import matplotlib.pyplot as plt\n",
    "%matplotlib inline\n",
    "\n",
    "img3 = Image.open('/content/EE5179-Final/Tutorial-2/lena.png')\n",
    "plt.imshow(img3)\n",
    "type(img3)"
   ]
  },
  {
   "cell_type": "markdown",
   "metadata": {
    "id": "blm1CU4GvtQs"
   },
   "source": [
    "This time, the data type is a JpegImageFile - not a numpy array. That's great if we only want to manipulate it using PIL methods; but sometimes we'll want to be flexible and process images using mulitple libraries; so we need a consistent format.\n",
    "\n",
    "Fortunately, it's easy to convert a PIL JpegImageFile to a numpy array:"
   ]
  },
  {
   "cell_type": "code",
   "execution_count": null,
   "metadata": {
    "colab": {
     "base_uri": "https://localhost:8080/"
    },
    "id": "2qGVsOTDvtQs",
    "outputId": "5d95f97e-cf42-41d2-ea8f-2fee31f91520"
   },
   "outputs": [],
   "source": [
    "import numpy as np\n",
    "\n",
    "img3 = np.array(img3)\n",
    "img3.shape"
   ]
  },
  {
   "cell_type": "markdown",
   "metadata": {
    "id": "pjrRi0CRvtQs"
   },
   "source": [
    "So fundamentally, the common format for image libraries is a numpy array. Using this as the standard format for your image processing workflow, converting to and from other formats as required, is the best way to take advantage of the particular strengths in each library while keeping your code consistent.\n",
    "\n",
    "You can even save a numpy array in an optimized format, should you need to persist images into storage:"
   ]
  },
  {
   "cell_type": "code",
   "execution_count": null,
   "metadata": {
    "colab": {
     "base_uri": "https://localhost:8080/",
     "height": 286
    },
    "id": "PGStKSUSvtQt",
    "outputId": "306f4dc3-5b7b-415d-c05b-e2fce3e3b583"
   },
   "outputs": [],
   "source": [
    "import numpy as np\n",
    "\n",
    "# Save the image\n",
    "np.save('img.npy', img3)\n",
    "\n",
    "#Load the image\n",
    "img3 = np.load('img.npy')\n",
    "\n",
    "plt.imshow(img3)"
   ]
  },
  {
   "cell_type": "markdown",
   "metadata": {
    "id": "gur8yJ-vvtQt"
   },
   "source": [
    "## Resizing an Image\n",
    "One of the most common manipulations of an image is to resize it. This can be particularly important when you're preparing multiple images to train a machine learning model, as you'll generally want to ensure that all of your training images have consistent dimensions."
   ]
  },
  {
   "cell_type": "code",
   "execution_count": null,
   "metadata": {
    "colab": {
     "base_uri": "https://localhost:8080/",
     "height": 716
    },
    "id": "LfSW0NW8vtQt",
    "outputId": "b5dec90c-0664-44d6-a196-096bd1a62a84"
   },
   "outputs": [],
   "source": [
    "from PIL import Image, ImageOps\n",
    "import matplotlib.pyplot as plt\n",
    "%matplotlib inline\n",
    "\n",
    "img2_resized = cv2.resize(img2, (1050, 1610))\n",
    "\n",
    "# Show the original and resized images\n",
    "# Create a figure\n",
    "fig = plt.figure(figsize=(12, 12))\n",
    "\n",
    "# Subplot for original image\n",
    "a=fig.add_subplot(2,1,1)\n",
    "imgplot = plt.imshow(img2)\n",
    "a.set_title('Before')\n",
    "\n",
    "# Subplot for resized image\n",
    "a=fig.add_subplot(2,1,2)\n",
    "imgplot = plt.imshow(img2_resized)\n",
    "a.set_title('After')\n",
    "\n",
    "plt.show()\n"
   ]
  },
  {
   "cell_type": "markdown",
   "metadata": {
    "id": "47IKyvEhvtQu"
   },
   "source": [
    "## Examining Numerical Properties of the Image Array\n",
    "So we've seen that an image is inherently an array of values. Let's examine that in more detail. What type of values are in the array?"
   ]
  },
  {
   "cell_type": "code",
   "execution_count": null,
   "metadata": {
    "colab": {
     "base_uri": "https://localhost:8080/"
    },
    "id": "K7fgG-YyvtQu",
    "outputId": "4127399c-d6aa-482c-b694-bb01d03a66de"
   },
   "outputs": [],
   "source": [
    "img3.dtype"
   ]
  },
  {
   "cell_type": "markdown",
   "metadata": {
    "id": "S_qboYr5vtQu"
   },
   "source": [
    "OK, so the array consists of 8-bit integer values. In other words, whole numbers between 0 and 255. These represent the possible pixel intensities for the RGB color channels in each pixel of the image."
   ]
  },
  {
   "cell_type": "markdown",
   "metadata": {
    "id": "pBwVmsRDvtQv"
   },
   "source": [
    "## Center Cropping\n",
    "In this task, you are expected to complete the following function, that takes in an image in numpy format and the target_crop_size, and returns the center cropped image as output."
   ]
  },
  {
   "cell_type": "code",
   "execution_count": null,
   "metadata": {
    "colab": {
     "base_uri": "https://localhost:8080/",
     "height": 716
    },
    "id": "U-y1hfM_vtQv",
    "outputId": "fe340653-f7b9-45fe-a0fe-9a85462617b7"
   },
   "outputs": [],
   "source": [
    "def center_crop(img_arr, target_size):\n",
    "    center_w = int(img_arr.shape[0]/2)\n",
    "    center_h = int(img_arr.shape[1]/2)\n",
    "    \n",
    "    width = int(target_size[0]/2)\n",
    "    height = int(target_size[1]/2)\n",
    "    \n",
    "    cropped_img = img_arr[center_w-width:center_w+width, center_h-height:center_h+height, :]\n",
    "    return cropped_img\n",
    "\n",
    "img2_cropped = center_crop(img2, (128, 128))\n",
    "\n",
    "# Show the original and resized images\n",
    "# Create a figure\n",
    "fig = plt.figure(figsize=(12, 12))\n",
    "\n",
    "# Subplot for original image\n",
    "a=fig.add_subplot(2,1,1)\n",
    "imgplot = plt.imshow(img2)\n",
    "a.set_title('Original Image')\n",
    "\n",
    "# Subplot for center-crop-custom image\n",
    "a=fig.add_subplot(2,1,2)\n",
    "imgplot = plt.imshow(img2_cropped)\n",
    "a.set_title('Center Cropped using custom-function')\n",
    "\n",
    "plt.show()"
   ]
  },
  {
   "cell_type": "markdown",
   "metadata": {
    "id": "36I3klInvtQv"
   },
   "source": [
    "## RGB to GrayScale\n",
    "In this task, you are expected to complete the following function, that takes in an RGB-image in numpy format and returns the gray-scale version of the image as output.\n",
    "\n",
    "An RGB image can be converted to a gray-scale image using the formula below:\n",
    "\n",
    "$Gray = 0.2989 * R + 0.5870 * G + 0.1140 * B$\n",
    "\n",
    "where R,G and B represent the Red, Green and Blue channels of the RGB image."
   ]
  },
  {
   "cell_type": "code",
   "execution_count": null,
   "metadata": {
    "colab": {
     "base_uri": "https://localhost:8080/",
     "height": 716
    },
    "id": "-BmGMy5XvtQw",
    "outputId": "d859eb5b-b109-4ed2-df92-1f6e2bcb999e"
   },
   "outputs": [],
   "source": [
    "def rgb_2_grayscale(img):\n",
    "    R, G, B = img[:,:,0], img[:,:,1], img[:,:,2]\n",
    "    imgGray = 0.2989 * R + 0.5870 * G + 0.1140 * B\n",
    "    return imgGray\n",
    "\n",
    "img2_gray = rgb_2_grayscale(img2)\n",
    "img2_pil = Image.fromarray(img2)\n",
    "img2_gray_pil = np.array(img2_pil.convert('L'))\n",
    "\n",
    "# Show the original and gray-scale images\n",
    "# Create a figure\n",
    "fig = plt.figure(figsize=(12, 12))\n",
    "\n",
    "# Subplot for original image\n",
    "a=fig.add_subplot(3,1,1)\n",
    "imgplot = plt.imshow(img2)\n",
    "a.set_title('Original RGB Image')\n",
    "\n",
    "# Subplot for gray-scale-custom image\n",
    "a=fig.add_subplot(3,1,2)\n",
    "imgplot = plt.imshow(img2_gray, cmap='gray')\n",
    "a.set_title('Gray-Scale Image using custom-function')\n",
    "\n",
    "# Subplot for gray-scale-custom image\n",
    "a=fig.add_subplot(3,1,3)\n",
    "imgplot = plt.imshow(img2_gray_pil, cmap='gray')\n",
    "a.set_title('Gray-Scale Image using PIL Library')\n",
    "\n",
    "plt.show()"
   ]
  }
 ],
 "metadata": {
  "colab": {
   "name": "Task-01 - Image Processing.ipynb",
   "provenance": []
  },
  "kernelspec": {
   "display_name": "Python 3 (ipykernel)",
   "language": "python",
   "name": "python3"
  },
  "language_info": {
   "codemirror_mode": {
    "name": "ipython",
    "version": 3
   },
   "file_extension": ".py",
   "mimetype": "text/x-python",
   "name": "python",
   "nbconvert_exporter": "python",
   "pygments_lexer": "ipython3",
   "version": "3.10.4"
  }
 },
 "nbformat": 4,
 "nbformat_minor": 1
}
