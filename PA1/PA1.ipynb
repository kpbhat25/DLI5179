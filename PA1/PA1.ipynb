{
 "cells": [
  {
   "cell_type": "code",
   "execution_count": 1,
   "metadata": {},
   "outputs": [
    {
     "name": "stderr",
     "output_type": "stream",
     "text": [
      "/home/koushikbhat/anaconda3/envs/DLI/lib/python3.9/site-packages/scipy/__init__.py:146: UserWarning: A NumPy version >=1.16.5 and <1.23.0 is required for this version of SciPy (detected version 1.23.1\n",
      "  warnings.warn(f\"A NumPy version >={np_minversion} and <{np_maxversion}\"\n"
     ]
    }
   ],
   "source": [
    "import numpy as np\n",
    "import matplotlib.pyplot as plt\n",
    "import scipy\n",
    "from PIL import Image\n",
    "from scipy import ndimage\n",
    "import os\n",
    "\n",
    "%matplotlib inline"
   ]
  },
  {
   "cell_type": "markdown",
   "metadata": {},
   "source": [
    "######## Ref : https://www.kaggle.com/code/hojjatk/read-mnist-dataset/notebook"
   ]
  },
  {
   "cell_type": "code",
   "execution_count": 2,
   "metadata": {},
   "outputs": [],
   "source": [
    "import numpy as np # linear algebra\n",
    "import struct\n",
    "from array import array\n",
    "from os.path  import join\n",
    "\n",
    "#\n",
    "# MNIST Data Loader Class\n",
    "#\n",
    "class MnistDataloader(object):\n",
    "    def __init__(self, training_images_filepath,training_labels_filepath,\n",
    "                 test_images_filepath, test_labels_filepath):\n",
    "        self.training_images_filepath = training_images_filepath\n",
    "        self.training_labels_filepath = training_labels_filepath\n",
    "        self.test_images_filepath = test_images_filepath\n",
    "        self.test_labels_filepath = test_labels_filepath\n",
    "    \n",
    "    def read_images_labels(self, images_filepath, labels_filepath):        \n",
    "        labels = []\n",
    "        with open(labels_filepath, 'rb') as file:\n",
    "            magic, size = struct.unpack(\">II\", file.read(8))\n",
    "            if magic != 2049:\n",
    "                raise ValueError('Magic number mismatch, expected 2049, got {}'.format(magic))\n",
    "            labels = array(\"B\", file.read())        \n",
    "        \n",
    "        with open(images_filepath, 'rb') as file:\n",
    "            magic, size, rows, cols = struct.unpack(\">IIII\", file.read(16))\n",
    "            if magic != 2051:\n",
    "                raise ValueError('Magic number mismatch, expected 2051, got {}'.format(magic))\n",
    "            image_data = array(\"B\", file.read())        \n",
    "        images = []\n",
    "        for i in range(size):\n",
    "            images.append([0] * rows * cols)\n",
    "        for i in range(size):\n",
    "            img = np.array(image_data[i * rows * cols:(i + 1) * rows * cols])\n",
    "            img = img.reshape(28, 28)\n",
    "            images[i][:] = img            \n",
    "        \n",
    "        return images, labels\n",
    "            \n",
    "    def load_data(self):\n",
    "        x_train, y_train = self.read_images_labels(self.training_images_filepath, self.training_labels_filepath)\n",
    "        x_test, y_test = self.read_images_labels(self.test_images_filepath, self.test_labels_filepath)\n",
    "        return (x_train, y_train),(x_test, y_test)        "
   ]
  },
  {
   "cell_type": "code",
   "execution_count": 3,
   "metadata": {},
   "outputs": [],
   "source": [
    "#DLI5179/PA1/t10k-images.idx3-ubyte\n",
    "# Set file paths based on added MNIST Datasets\n",
    "#\n",
    "input_path = '/home/koushikbhat/Documents/DLI5179/PA1/'\n",
    "training_images_filepath = join(input_path, 'train-images.idx3-ubyte')\n",
    "training_labels_filepath = join(input_path, 'train-labels.idx1-ubyte')\n",
    "test_images_filepath = join(input_path, 't10k-images.idx3-ubyte')\n",
    "test_labels_filepath = join(input_path, 't10k-labels.idx1-ubyte')\n",
    "\n",
    "#\n",
    "# Helper function to show a list of images with their relating titles\n",
    "#\n",
    "def show_images(images, title_texts):\n",
    "    cols = 5\n",
    "    rows = int(len(images)/cols) + 1\n",
    "    plt.figure(figsize=(30,20))\n",
    "    index = 1    \n",
    "    for x in zip(images, title_texts):        \n",
    "        image = x[0]        \n",
    "        title_text = x[1]\n",
    "        plt.subplot(rows, cols, index)        \n",
    "        plt.imshow(image, cmap=plt.cm.gray)\n",
    "        if (title_text != ''):\n",
    "            plt.title(title_text, fontsize = 15);        \n",
    "        index += 1\n",
    "\n",
    "#\n",
    "# Load MINST dataset\n",
    "#\n",
    "mnist_dataloader = MnistDataloader(training_images_filepath, training_labels_filepath, test_images_filepath, test_labels_filepath)\n",
    "(x_train, y_train), (x_test, y_test) = mnist_dataloader.load_data()\n",
    "\n",
    "        "
   ]
  },
  {
   "cell_type": "code",
   "execution_count": 4,
   "metadata": {},
   "outputs": [
    {
     "name": "stdout",
     "output_type": "stream",
     "text": [
      "Train labels:  {0: 5923, 1: 6742, 2: 5958, 3: 6131, 4: 5842, 5: 5421, 6: 5918, 7: 6265, 8: 5851, 9: 5949}\n"
     ]
    },
    {
     "data": {
      "text/plain": [
       "60000"
      ]
     },
     "execution_count": 4,
     "metadata": {},
     "output_type": "execute_result"
    }
   ],
   "source": [
    "unique, counts = np.unique(y_train, return_counts=True)\n",
    "print(\"Train labels: \", dict(zip(unique, counts)))\n",
    "np.sum(counts)"
   ]
  },
  {
   "cell_type": "code",
   "execution_count": 5,
   "metadata": {},
   "outputs": [
    {
     "name": "stdout",
     "output_type": "stream",
     "text": [
      "\n",
      "Test labels:  {0: 980, 1: 1135, 2: 1032, 3: 1010, 4: 982, 5: 892, 6: 958, 7: 1028, 8: 974, 9: 1009}\n"
     ]
    },
    {
     "data": {
      "text/plain": [
       "10000"
      ]
     },
     "execution_count": 5,
     "metadata": {},
     "output_type": "execute_result"
    }
   ],
   "source": [
    "# count the number of unique test labels\n",
    "unique, counts = np.unique(y_test, return_counts=True)\n",
    "print(\"\\nTest labels: \", dict(zip(unique, counts)))\n",
    "\n",
    "np.sum(counts)"
   ]
  },
  {
   "cell_type": "code",
   "execution_count": 6,
   "metadata": {},
   "outputs": [
    {
     "name": "stdout",
     "output_type": "stream",
     "text": [
      "(60000, 28, 28) (60000,)\n",
      "(10000, 28, 28) (10000,)\n"
     ]
    }
   ],
   "source": [
    "x_train = np.array(x_train)\n",
    "y_train = np.array(y_train)\n",
    "\n",
    "x_test = np.array(x_test)\n",
    "y_test = np.array(y_test)\n",
    "\n",
    "print(x_train.shape,y_train.shape)\n",
    "print(x_test.shape,y_test.shape)"
   ]
  },
  {
   "cell_type": "code",
   "execution_count": 7,
   "metadata": {},
   "outputs": [
    {
     "name": "stdout",
     "output_type": "stream",
     "text": [
      "Number of training examples: m_train = 60000\n",
      "Number of testing examples: m_test = 10000\n",
      "Height/Width of each image: num_px = 28\n",
      "train_set_x shape: (60000, 28, 28)\n",
      "train_set_y shape: (60000,)\n",
      "test_set_x shape: (10000, 28, 28)\n",
      "test_set_y shape: (10000,)\n"
     ]
    }
   ],
   "source": [
    "m_train = x_train.shape[0]\n",
    "m_test =  x_test.shape[0]\n",
    "num_px = x_test.shape[1]\n",
    "\n",
    "print (\"Number of training examples: m_train = \" + str(m_train))\n",
    "print (\"Number of testing examples: m_test = \" + str(m_test))\n",
    "print (\"Height/Width of each image: num_px = \" + str(num_px))\n",
    "print (\"train_set_x shape: \" + str(x_train.shape))\n",
    "print (\"train_set_y shape: \" + str(y_train.shape))\n",
    "print (\"test_set_x shape: \" + str(x_test.shape))\n",
    "print (\"test_set_y shape: \" + str(y_test.shape))"
   ]
  },
  {
   "cell_type": "code",
   "execution_count": 8,
   "metadata": {},
   "outputs": [
    {
     "data": {
      "image/png": "[encoded data removed]",
      "text/plain": [
       "<Figure size 720x288 with 5 Axes>"
      ]
     },
     "metadata": {
      "needs_background": "light"
     },
     "output_type": "display_data"
    }
   ],
   "source": [
    "fig, axes = plt.subplots(ncols=5, sharex=False, \n",
    "    sharey=True, figsize=(10, 4))\n",
    "for i in range(5):\n",
    "    axes[i].set_title(y_train[i])\n",
    "    axes[i].imshow(x_train[i], cmap='gray')\n",
    "    axes[i].get_xaxis().set_visible(False)\n",
    "    axes[i].get_yaxis().set_visible(False)\n",
    "plt.show()"
   ]
  },
  {
   "cell_type": "code",
   "execution_count": 9,
   "metadata": {},
   "outputs": [
    {
     "data": {
      "text/plain": [
       "(60000,)"
      ]
     },
     "execution_count": 9,
     "metadata": {},
     "output_type": "execute_result"
    }
   ],
   "source": [
    "y_train.shape"
   ]
  },
  {
   "cell_type": "code",
   "execution_count": 10,
   "metadata": {},
   "outputs": [
    {
     "name": "stdout",
     "output_type": "stream",
     "text": [
      "(60000, 10) (10000, 10)\n"
     ]
    }
   ],
   "source": [
    "from sklearn.preprocessing import OneHotEncoder\n",
    "enc = OneHotEncoder()\n",
    "# 0 -> (1, 0, 0, 0), 1 -> (0, 1, 0, 0), 2 -> (0, 0, 1, 0), 3 -> (0, 0, 0, 1)\n",
    "y_OH_train = enc.fit_transform(np.expand_dims(y_train,1)).toarray()\n",
    "y_OH_test = enc.fit_transform(np.expand_dims(y_test,1)).toarray()\n",
    "print(y_OH_train.shape, y_OH_test.shape)"
   ]
  },
  {
   "cell_type": "code",
   "execution_count": 11,
   "metadata": {},
   "outputs": [],
   "source": [
    "y_train = y_OH_train.T\n",
    "y_test =y_OH_test.T"
   ]
  },
  {
   "cell_type": "code",
   "execution_count": 12,
   "metadata": {},
   "outputs": [
    {
     "data": {
      "text/plain": [
       "'\\n# Convert y_train into one-hot format\\nfrom tensorflow.keras.utils import to_categorical\\ntemp = []\\nfor i in range(len(y_train)):\\n    temp.append(to_categorical(y_train[i], num_classes=10))\\ny_train = np.array(temp)# Convert y_test into one-hot format\\ntemp = []\\nfor i in range(len(y_test)):    \\n    temp.append(to_categorical(y_test[i], num_classes=10))\\ny_test = np.array(temp)\\n'"
      ]
     },
     "execution_count": 12,
     "metadata": {},
     "output_type": "execute_result"
    }
   ],
   "source": [
    "\"\"\"\n",
    "# Convert y_train into one-hot format\n",
    "from tensorflow.keras.utils import to_categorical\n",
    "temp = []\n",
    "for i in range(len(y_train)):\n",
    "    temp.append(to_categorical(y_train[i], num_classes=10))\n",
    "y_train = np.array(temp)# Convert y_test into one-hot format\n",
    "temp = []\n",
    "for i in range(len(y_test)):    \n",
    "    temp.append(to_categorical(y_test[i], num_classes=10))\n",
    "y_test = np.array(temp)\n",
    "\"\"\""
   ]
  },
  {
   "cell_type": "code",
   "execution_count": 13,
   "metadata": {},
   "outputs": [
    {
     "name": "stdout",
     "output_type": "stream",
     "text": [
      "(10, 60000)\n",
      "(10, 10000)\n"
     ]
    }
   ],
   "source": [
    "print(y_train.shape)\n",
    "print(y_test.shape)"
   ]
  },
  {
   "cell_type": "code",
   "execution_count": 14,
   "metadata": {},
   "outputs": [
    {
     "data": {
      "text/plain": [
       "(60000, 28, 28)"
      ]
     },
     "execution_count": 14,
     "metadata": {},
     "output_type": "execute_result"
    }
   ],
   "source": [
    "x_train.shape"
   ]
  },
  {
   "cell_type": "code",
   "execution_count": 15,
   "metadata": {},
   "outputs": [
    {
     "name": "stdout",
     "output_type": "stream",
     "text": [
      "train_set_x_flatten shape: (60000, 784)\n",
      "test_set_x_flatten shape: (10000, 784)\n"
     ]
    }
   ],
   "source": [
    "# Reshape the training and test examples\n",
    "\n",
    "train_set_x_flatten = x_train.reshape(x_train.shape[0], -1)\n",
    "test_set_x_flatten = x_test.reshape(x_test.shape[0], -1)\n",
    "\n",
    "\n",
    "print (\"train_set_x_flatten shape: \" + str(train_set_x_flatten.shape))\n",
    "print (\"test_set_x_flatten shape: \" + str(test_set_x_flatten.shape))"
   ]
  },
  {
   "cell_type": "code",
   "execution_count": 16,
   "metadata": {},
   "outputs": [],
   "source": [
    "train_set_x = train_set_x_flatten/255.\n",
    "test_set_x = test_set_x_flatten/255."
   ]
  },
  {
   "cell_type": "code",
   "execution_count": 17,
   "metadata": {},
   "outputs": [],
   "source": [
    "train_set_x = train_set_x.transpose()\n",
    "test_set_x = test_set_x.T.transpose()"
   ]
  },
  {
   "cell_type": "code",
   "execution_count": 18,
   "metadata": {},
   "outputs": [
    {
     "data": {
      "text/plain": [
       "(10, 60000)"
      ]
     },
     "execution_count": 18,
     "metadata": {},
     "output_type": "execute_result"
    }
   ],
   "source": [
    "y_train.shape"
   ]
  },
  {
   "cell_type": "code",
   "execution_count": 19,
   "metadata": {},
   "outputs": [
    {
     "data": {
      "text/plain": [
       "(784, 60000)"
      ]
     },
     "execution_count": 19,
     "metadata": {},
     "output_type": "execute_result"
    }
   ],
   "source": [
    "train_set_x.shape"
   ]
  },
  {
   "cell_type": "code",
   "execution_count": 20,
   "metadata": {},
   "outputs": [
    {
     "name": "stdout",
     "output_type": "stream",
     "text": [
      "(784, 1000)\n",
      "(10, 1000)\n"
     ]
    }
   ],
   "source": [
    "train_set_x = train_set_x[:, :1000]\n",
    "print(train_set_x.shape)\n",
    "y_train = y_train[:,:1000]\n",
    "print(y_train.shape)"
   ]
  },
  {
   "cell_type": "code",
   "execution_count": 21,
   "metadata": {},
   "outputs": [],
   "source": [
    "def sigmoid(x):\n",
    "    return 1/(1+np.exp(-x))\n",
    "\n",
    "def relu(x):\n",
    "    return np.maximum(0, x)\n",
    "\n",
    "def softmax(x):\n",
    "    return np.exp(x)/sum(np.exp(x))\n",
    "\n"
   ]
  },
  {
   "cell_type": "code",
   "execution_count": 22,
   "metadata": {},
   "outputs": [],
   "source": [
    "def grad_sigmoid(x):\n",
    "    return sigmoid(x) * (1- sigmoid(x))\n",
    "\n",
    "def grad_relu(x):\n",
    "    return x>0\n",
    "\n",
    "def derivative_of_softmax(x):\n",
    "\n",
    "    return softmax(x)*(1-softmax(x))"
   ]
  },
  {
   "cell_type": "code",
   "execution_count": 23,
   "metadata": {},
   "outputs": [],
   "source": [
    "def init_weights(ni,nh):  # Glorot uniform\n",
    "  nin = ni; nout = nh\n",
    "  sd = np.sqrt(6.0 / (nin + nout))\n",
    "  #print(sd)\n",
    "  W = []\n",
    "  for i in range(ni):\n",
    "    for j in range(nh):\n",
    "      x = np.float32(np.random.uniform(-sd, sd))\n",
    "      print(x)\n",
    "      W.append(x)\n",
    "  return W\n",
    "      "
   ]
  },
  {
   "cell_type": "code",
   "execution_count": 24,
   "metadata": {},
   "outputs": [],
   "source": [
    "#I/P → h 1 (500) → h 2 (250) → h 3 (100) → O/P"
   ]
  },
  {
   "cell_type": "code",
   "execution_count": 25,
   "metadata": {},
   "outputs": [
    {
     "data": {
      "text/plain": [
       "'\\ndef initialize_parameters(n_x, n_h1,n_h2,n_h3, n_y):\\n    W1 = init_weights(n_h1, n_x)\\n    W2 = init_weights(n_h2, n_h1)\\n    W3 = init_weights(n_h3, n_h2)\\n    W4 = init_weights(n_y, n_h3)\\n    b1 = np.zeros((n_h1, 1))\\n    b2 = np.zeros((n_h2, 1))\\n    b3 = np.zeros((n_h3, 1))\\n    b4 = np.zeros((n_y, 1))\\n    return W1, W2, W3, W4 ,b1, b2, b3 ,b4\\n    '"
      ]
     },
     "execution_count": 25,
     "metadata": {},
     "output_type": "execute_result"
    }
   ],
   "source": [
    "\n",
    "\"\"\"\n",
    "def initialize_parameters(n_x, n_h1,n_h2,n_h3, n_y):\n",
    "    W1 = init_weights(n_h1, n_x)\n",
    "    W2 = init_weights(n_h2, n_h1)\n",
    "    W3 = init_weights(n_h3, n_h2)\n",
    "    W4 = init_weights(n_y, n_h3)\n",
    "    b1 = np.zeros((n_h1, 1))\n",
    "    b2 = np.zeros((n_h2, 1))\n",
    "    b3 = np.zeros((n_h3, 1))\n",
    "    b4 = np.zeros((n_y, 1))\n",
    "    return W1, W2, W3, W4 ,b1, b2, b3 ,b4\n",
    "    \"\"\""
   ]
  },
  {
   "cell_type": "code",
   "execution_count": 26,
   "metadata": {},
   "outputs": [],
   "source": [
    "def initialize_parameters(layer_dims):\n",
    "    \"\"\"\n",
    "    Arguments:\n",
    "    layer_dims -- python array (list) containing the dimensions of each layer in our network\n",
    "    \n",
    "    Returns:\n",
    "    parameters -- python dictionary containing your parameters \"W1\", \"b1\", ..., \"WL\", \"bL\":\n",
    "                    W1 -- weight matrix of shape (layer_dims[l], layer_dims[l-1])\n",
    "                    b1 -- bias vector of shape (layer_dims[l], 1)\n",
    "                    Wl -- weight matrix of shape (layer_dims[l-1], layer_dims[l])\n",
    "                    bl -- bias vector of shape (1, layer_dims[l])\n",
    "                    \n",
    "    Tips:\n",
    "    - For example: the layer_dims for the \"Planar Data classification model\" would have been [2,2,1]. \n",
    "    This means W1's shape was (2,2), b1 was (1,2), W2 was (2,1) and b2 was (1,1). Now you have to generalize it!\n",
    "    - In the for loop, use parameters['W' + str(l)] to access Wl, where l is the iterative integer.\n",
    "    \"\"\"\n",
    "    \n",
    "    np.random.seed(3)\n",
    "    parameters = {}\n",
    "    L = len(layer_dims) # number of layers in the network\n",
    "\n",
    "    for l in range(1, L):\n",
    "        parameters['W' + str(l)] = np.random.randn(layer_dims[l], layer_dims[l-1]) / np.sqrt(layer_dims[l-1])\n",
    "        parameters['b' + str(l)] = np.zeros((layer_dims[l], 1))\n",
    "        \n",
    "        assert(parameters['W' + str(l)].shape == (layer_dims[l], layer_dims[l-1]))\n",
    "        assert(parameters['b' + str(l)].shape == (layer_dims[l], 1))\n",
    "\n",
    "        \n",
    "    return parameters"
   ]
  },
  {
   "cell_type": "code",
   "execution_count": 27,
   "metadata": {},
   "outputs": [],
   "source": [
    "def forward_propagation(X, parameters):\n",
    "    \"\"\"\n",
    "    Implements the forward propagation (and computes the loss) presented in Figure 2.\n",
    "    \n",
    "    Arguments:\n",
    "    X -- input dataset, of shape (input size, number of examples)\n",
    "    parameters -- python dictionary containing your parameters \"W1\", \"b1\", \"W2\", \"b2\", \"W3\", \"b3\":\n",
    "                    W1 -- weight matrix of shape ()\n",
    "                    b1 -- bias vector of shape ()\n",
    "                    W2 -- weight matrix of shape ()\n",
    "                    b2 -- bias vector of shape ()\n",
    "                    W3 -- weight matrix of shape ()\n",
    "                    b3 -- bias vector of shape ()\n",
    "                    W4\n",
    "                    b4\n",
    "    Returns:\n",
    "    loss -- the loss function (vanilla logistic loss)\n",
    "    \"\"\"\n",
    "        \n",
    "    # retrieve parameters\n",
    "    W1 = parameters[\"W1\"]\n",
    "    b1 = parameters[\"b1\"]\n",
    "    W2 = parameters[\"W2\"]\n",
    "    b2 = parameters[\"b2\"]\n",
    "    W3 = parameters[\"W3\"]\n",
    "    b3 = parameters[\"b3\"]\n",
    "    W4 = parameters[\"W4\"]\n",
    "    b4 = parameters[\"b4\"]\n",
    "\n",
    "    print(\"input X \", X.shape)\n",
    "    print(\"W1\",W1.shape)\n",
    "    print(\"b1\",b1.shape)\n",
    "    print(\"W2\",W2.shape)\n",
    "    print(\"b2\",b2.shape)\n",
    "    print(\"W3\",W3.shape)\n",
    "    print(\"b3\",b3.shape)\n",
    "    print(\"W4\",W4.shape)\n",
    "    print(\"b4\",b4.shape)\n",
    "\n",
    "    \n",
    "    Z1 = np.dot(W1, X) + b1\n",
    "    print(\"Z1\",Z1.shape)\n",
    "    A1 = sigmoid(Z1)\n",
    "    Z2 = np.dot(W2, A1) + b2\n",
    "    print(\"Z2\",Z2.shape)\n",
    "    A2 = sigmoid(Z2)\n",
    "    Z3 = np.dot(W3, A2) + b3\n",
    "    print(\"Z3\",Z3.shape)\n",
    "    A3 = sigmoid(Z3)\n",
    "    print(\"A3\",A3.shape)\n",
    "    Z4 = np.dot(W4, A3) + b4\n",
    "    print(\"Z4\",Z4.shape)\n",
    "    A4 = softmax(Z4)\n",
    "    \n",
    "    cache = (Z1, A1, W1, b1, Z2, A2, W2, b2, Z3, A3, W3, b3, Z4 , A4 ,W4 ,b4)\n",
    "    \n",
    "    return A4, cache"
   ]
  },
  {
   "cell_type": "code",
   "execution_count": 28,
   "metadata": {},
   "outputs": [],
   "source": [
    "def backward_propagation(X, Y, cache):\n",
    "    \"\"\"\n",
    "    Implement the backward propagation presented in figure 2.\n",
    "    \n",
    "    Arguments:\n",
    "    X -- input dataset, of shape (input size, number of examples)\n",
    "    Y -- true \"label\" vector (containing 0 if cat, 1 if non-cat)\n",
    "    cache -- cache output from forward_propagation()\n",
    "    \n",
    "    Returns:\n",
    "    gradients -- A dictionary with the gradients with respect to each parameter, activation and pre-activation variables\n",
    "    \"\"\"\n",
    "    m = X.shape[1]\n",
    "    (Z1, A1, W1, b1, Z2, A2, W2, b2, Z3, A3, W3, b3 ,Z4 , A4 ,W4 ,b4 ) = cache\n",
    "    print(\"W1\",W1.shape)\n",
    "    print(\"b1\",b1.shape)\n",
    "    print(\"W2\",W2.shape)\n",
    "    print(\"b2\",b2.shape)\n",
    "    print(\"W3\",W3.shape)\n",
    "    print(\"b3\",b3.shape)\n",
    "    print(\"W4\",W4.shape)\n",
    "    print(\"b4\",b4.shape)\n",
    "    print(\"A1\",A1.shape)\n",
    "    print(\"A2\",A2.shape)\n",
    "    print(\"A3\",A3.shape)\n",
    "    print(\"A4\",A4.shape)\n",
    "    \n",
    "    \"\"\"W1 (500, 784)\n",
    "            b1 (500, 1)\n",
    "            W2 (250, 500)\n",
    "            b2 (250, 1)\n",
    "            W3 (100, 250)\n",
    "            b3 (100, 1)\n",
    "            W4 (10, 1000) #error\n",
    "            b4 (10, 1000)\n",
    "            A1 (500, 1000)\n",
    "            A2 (250, 1000)\n",
    "            A3 (100, 1000)\n",
    "            A4 (10, 1)\n",
    "\n",
    "dW4 (10, 100)\n",
    "dZ4 (10, 1000)\n",
    "db4(10, 1)\n",
    "dA3 (1000, 1000)\"\"\"\n",
    "\n",
    "    dZ4 = A4 - Y\n",
    "    dW4 = 1./m * np.dot(dZ4, A3.T)\n",
    "    db4 = 1./m * np.sum(dZ4, axis=1, keepdims = True)\n",
    "    print(\"dW4\",dW4.shape)\n",
    "    print(\"dZ4\",dZ4.shape)\n",
    "    print(\"db4\",db4.shape)\n",
    "    \n",
    "    dA3 = np.dot(W4.T, dZ4)\n",
    "    dZ3 = np.multiply(dA3, np.int64(A3 > 0))\n",
    "    dW3 = 1./m * np.dot(dZ3, A2.T)\n",
    "    db3 = 1./m * np.sum(dZ3, axis=1, keepdims = True)\n",
    "    \n",
    "    print(\"dA3\",dA3.shape)\n",
    "    print(\"dZ3\",dZ3.shape)\n",
    "    print(\"dW3\",dW3.shape)\n",
    "    print(\"db3\",db3.shape)\n",
    "\n",
    "    dA2 = np.dot(W3.T, dZ3)\n",
    "    dZ2 = np.multiply(dA2, np.int64(A2 > 0))\n",
    "    dW2 = 1./m * np.dot(dZ2, A1.T)\n",
    "    db2 = 1./m * np.sum(dZ2, axis=1, keepdims = True)\n",
    "    print(\"dA2\",dA2.shape)\n",
    "    print(\"dZ2\",dZ2.shape)\n",
    "    print(\"dW2\",dW2.shape)\n",
    "    print(\"db2\",db2.shape)\n",
    "    \n",
    "    dA1 = np.dot(W2.T, dZ2)\n",
    "    dZ1 = np.multiply(dA1, np.int64(A1 > 0))\n",
    "    dW1 = 1./m * np.dot(dZ1, X.T)\n",
    "    db1 = 1./m * np.sum(dZ1, axis=1, keepdims = True)\n",
    "    print(\"dA1\",dA1.shape)\n",
    "    print(\"dZ1\",dZ1.shape)\n",
    "    print(\"dW1\",dW1.shape)\n",
    "    print(\"db1\",db1.shape)\n",
    "    \n",
    "    gradients = {\"dZ4\": dZ4, \"dW4\": dW4, \"db4\": db4,\n",
    "                 \"dA3\": dA3, \"dZ3\": dZ3, \"dW3\": dW3, \"db3\": db3,\n",
    "                 \"dA2\": dA2, \"dZ2\": dZ2, \"dW2\": dW2, \"db2\": db2,\n",
    "                 \"dA1\": dA1, \"dZ1\": dZ1, \"dW1\": dW1, \"db1\": db1}\n",
    "    \n",
    "    return gradients"
   ]
  },
  {
   "cell_type": "code",
   "execution_count": 29,
   "metadata": {},
   "outputs": [],
   "source": [
    "def update_parameters(parameters, grads, learning_rate):\n",
    "    \"\"\"\n",
    "    Update parameters using gradient descent\n",
    "    \n",
    "    Arguments:\n",
    "    parameters -- python dictionary containing your parameters:\n",
    "                    parameters['W' + str(i)] = Wi\n",
    "                    parameters['b' + str(i)] = bi\n",
    "    grads -- python dictionary containing your gradients for each parameters:\n",
    "                    grads['dW' + str(i)] = dWi\n",
    "                    grads['db' + str(i)] = dbi\n",
    "    learning_rate -- the learning rate, scalar.\n",
    "    \n",
    "    Returns:\n",
    "    parameters -- python dictionary containing your updated parameters \n",
    "    \"\"\"\n",
    "    \n",
    "    n = len(parameters) // 2 # number of layers in the neural networks\n",
    "\n",
    "    # Update rule for each parameter\n",
    "    for k in range(n):\n",
    "        parameters[\"W\" + str(k+1)] = parameters[\"W\" + str(k+1)] - learning_rate * grads[\"dW\" + str(k+1)]\n",
    "        parameters[\"b\" + str(k+1)] = parameters[\"b\" + str(k+1)] - learning_rate * grads[\"db\" + str(k+1)]\n",
    "        \n",
    "    return parameters"
   ]
  },
  {
   "cell_type": "code",
   "execution_count": 30,
   "metadata": {},
   "outputs": [],
   "source": [
    "def predict(X, y, parameters):\n",
    "    \"\"\"\n",
    "    This function is used to predict the results of a  n-layer neural network.\n",
    "    \n",
    "    Arguments:\n",
    "    X -- data set of examples you would like to label\n",
    "    parameters -- parameters of the trained model\n",
    "    \n",
    "    Returns:\n",
    "    p -- predictions for the given dataset X\n",
    "    \"\"\"\n",
    "    \n",
    "    m = X.shape[1]\n",
    "    p = np.zeros((1,m), dtype = np.int)\n",
    "    \n",
    "    # Forward propagation\n",
    "    a4, caches = forward_propagation(X, parameters)\n",
    "    \n",
    "    # convert probas to 0/1 predictions\n",
    "    for i in range(0, a4.shape[1]):\n",
    "        if a4[0,i] > 0.5:\n",
    "            p[0,i] = 1\n",
    "        else:\n",
    "            p[0,i] = 0\n",
    "\n",
    "    # print results\n",
    "\n",
    "    #print (\"predictions: \" + str(p[0,:]))\n",
    "    #print (\"true labels: \" + str(y[0,:]))\n",
    "    print(\"Accuracy: \"  + str(np.mean((p[0,:] == y[0,:]))))\n",
    "    \n",
    "    return p"
   ]
  },
  {
   "cell_type": "code",
   "execution_count": 31,
   "metadata": {},
   "outputs": [],
   "source": [
    "def compute_cost(a4, Y):\n",
    "    \"\"\"\n",
    "    Implement the cost function\n",
    "    \n",
    "    Arguments:\n",
    "    a4 -- post-activation, output of forward propagation\n",
    "    Y -- \"true\" labels vector, same shape as a4\n",
    "    \n",
    "    Returns:\n",
    "    cost - value of the cost function\n",
    "    \"\"\"\n",
    "    m = Y.shape[1]\n",
    "    \n",
    "    logprobs = np.multiply(-np.log(a4),Y) + np.multiply(-np.log(1 - a4), 1 - Y)\n",
    "    cost = 1./m * np.nansum(logprobs)\n",
    "    \n",
    "    return cost"
   ]
  },
  {
   "cell_type": "code",
   "execution_count": 32,
   "metadata": {},
   "outputs": [
    {
     "data": {
      "text/plain": [
       "(784, 1000)"
      ]
     },
     "execution_count": 32,
     "metadata": {},
     "output_type": "execute_result"
    }
   ],
   "source": [
    "train_set_x.shape"
   ]
  },
  {
   "cell_type": "code",
   "execution_count": 33,
   "metadata": {},
   "outputs": [
    {
     "name": "stdout",
     "output_type": "stream",
     "text": [
      "input X  (784, 1000)\n",
      "W1 (500, 784)\n",
      "b1 (500, 1)\n",
      "W2 (250, 500)\n",
      "b2 (250, 1)\n",
      "W3 (100, 250)\n",
      "b3 (100, 1)\n",
      "W4 (10, 100)\n",
      "b4 (10, 1)\n",
      "Z1 (500, 1000)\n",
      "Z2 (250, 1000)\n",
      "Z3 (100, 1000)\n",
      "A3 (100, 1000)\n",
      "Z4 (10, 1000)\n",
      "a4 (10, 1000)\n"
     ]
    }
   ],
   "source": [
    "grads = {}\n",
    "costs = []                            # to keep track of the cost\n",
    "m = train_set_x[0]                        # number of examples\n",
    "layers_dims = [train_set_x.shape[0], 500, 250, 100,10]\n",
    "\n",
    "\n",
    "parameters = initialize_parameters(layers_dims)\n",
    "a4, cache = forward_propagation(train_set_x, parameters)\n",
    "print('a4',a4.shape)"
   ]
  },
  {
   "cell_type": "code",
   "execution_count": 34,
   "metadata": {},
   "outputs": [],
   "source": [
    "cost = compute_cost(a4, y_train)"
   ]
  },
  {
   "cell_type": "code",
   "execution_count": 35,
   "metadata": {},
   "outputs": [
    {
     "name": "stdout",
     "output_type": "stream",
     "text": [
      "W1 (500, 784)\n",
      "b1 (500, 1)\n",
      "W2 (250, 500)\n",
      "b2 (250, 1)\n",
      "W3 (100, 250)\n",
      "b3 (100, 1)\n",
      "W4 (10, 100)\n",
      "b4 (10, 1)\n",
      "A1 (500, 1000)\n",
      "A2 (250, 1000)\n",
      "A3 (100, 1000)\n",
      "A4 (10, 1000)\n",
      "dW4 (10, 100)\n",
      "dZ4 (10, 1000)\n",
      "db4 (10, 1)\n",
      "dA3 (100, 1000)\n",
      "dZ3 (100, 1000)\n",
      "dW3 (100, 250)\n",
      "db3 (100, 1)\n",
      "dA2 (250, 1000)\n",
      "dZ2 (250, 1000)\n",
      "dW2 (250, 500)\n",
      "db2 (250, 1)\n",
      "dA1 (500, 1000)\n",
      "dZ1 (500, 1000)\n",
      "dW1 (500, 784)\n",
      "db1 (500, 1)\n"
     ]
    }
   ],
   "source": [
    "grads = backward_propagation(train_set_x,y_train, cache)"
   ]
  },
  {
   "cell_type": "code",
   "execution_count": 36,
   "metadata": {},
   "outputs": [],
   "source": [
    "def model(X, Y, learning_rate = 0.001, num_iterations = 10, print_cost = True, lambd = 0, keep_prob = 1):\n",
    "    \"\"\"\n",
    "    Implements a three-layer neural network: LINEAR->RELU->LINEAR->RELU->LINEAR->SIGMOID.\n",
    "    \n",
    "    Arguments:\n",
    "    X -- input data, of shape (input size, number of examples)\n",
    "    Y -- true \"label\" vector (1 for blue dot / 0 for red dot), of shape (output size, number of examples)\n",
    "    learning_rate -- learning rate of the optimization\n",
    "    num_iterations -- number of iterations of the optimization loop\n",
    "    print_cost -- If True, print the cost every 10000 iterations\n",
    "    lambd -- regularization hyperparameter, scalar\n",
    "    keep_prob - probability of keeping a neuron active during drop-out, scalar.\n",
    "    \n",
    "    Returns:\n",
    "    parameters -- parameters learned by the model. They can then be used to predict.\n",
    "    \"\"\"\n",
    "        \n",
    "    grads = {}\n",
    "    costs = []                            # to keep track of the cost\n",
    "    m = X.shape[1]                        # number of examples\n",
    "    layers_dims = [X.shape[0], 500, 250, 100,10]\n",
    "    \n",
    "    # Initialize parameters dictionary.\n",
    "    parameters = initialize_parameters(layers_dims)\n",
    "\n",
    "    # Loop (gradient descent)\n",
    "    a4, cache = forward_propagation(X, parameters)\n",
    "    \n",
    "    for i in range(0, num_iterations):\n",
    "\n",
    "        # Forward propagation: LINEAR -> RELU -> LINEAR -> RELU -> LINEAR -> SIGMOID.\n",
    "        if keep_prob == 1:\n",
    "            a4, cache = forward_propagation(X, parameters)\n",
    "        elif keep_prob < 1:\n",
    "            a3, cache = forward_propagation_with_dropout(X, parameters, keep_prob)\n",
    "        \n",
    "        # Cost function\n",
    "        if lambd == 0:\n",
    "            cost = compute_cost(a4, Y)\n",
    "        else:\n",
    "            cost = compute_cost_with_regularization(a3, Y, parameters, lambd)\n",
    "            \n",
    "        # Backward propagation.\n",
    "        assert(lambd==0 or keep_prob==1)    # it is possible to use both L2 regularization and dropout, \n",
    "                                            # but this assignment will only explore one at a time\n",
    "        if lambd == 0 and keep_prob == 1:\n",
    "            grads = backward_propagation(X, Y, cache)\n",
    "        elif lambd != 0:\n",
    "            grads = backward_propagation_with_regularization(X, Y, cache, lambd)\n",
    "        elif keep_prob < 1:\n",
    "            grads = backward_propagation_with_dropout(X, Y, cache, keep_prob)\n",
    "        \n",
    "        # Update parameters.\n",
    "        parameters = update_parameters(parameters, grads, learning_rate)\n",
    "        \n",
    "        # Print the loss every 10000 iterations\n",
    "        if print_cost and i % 10000 == 0:\n",
    "            print(\"Cost after iteration {}: {}\".format(i, cost))\n",
    "        if print_cost and i % 1000 == 0:\n",
    "            costs.append(cost)\n",
    "    \n",
    "    # plot the cost\n",
    "    plt.plot(costs)\n",
    "    plt.ylabel('cost')\n",
    "    plt.xlabel('iterations (x1,000)')\n",
    "    plt.title(\"Learning rate =\" + str(learning_rate))\n",
    "    plt.show()\n",
    "\n",
    "    return parameters"
   ]
  },
  {
   "cell_type": "code",
   "execution_count": 38,
   "metadata": {},
   "outputs": [],
   "source": [
    "# https://www.geeksforgeeks.org/ml-mini-batch-gradient-descent-with-python/ \n",
    "# use this to create mini batches and run it "
   ]
  },
  {
   "cell_type": "code",
   "execution_count": 37,
   "metadata": {},
   "outputs": [
    {
     "name": "stdout",
     "output_type": "stream",
     "text": [
      "input X  (784, 1000)\n",
      "W1 (500, 784)\n",
      "b1 (500, 1)\n",
      "W2 (250, 500)\n",
      "b2 (250, 1)\n",
      "W3 (100, 250)\n",
      "b3 (100, 1)\n",
      "W4 (10, 100)\n",
      "b4 (10, 1)\n",
      "Z1 (500, 1000)\n",
      "Z2 (250, 1000)\n",
      "Z3 (100, 1000)\n",
      "A3 (100, 1000)\n",
      "Z4 (10, 1000)\n",
      "input X  (784, 1000)\n",
      "W1 (500, 784)\n",
      "b1 (500, 1)\n",
      "W2 (250, 500)\n",
      "b2 (250, 1)\n",
      "W3 (100, 250)\n",
      "b3 (100, 1)\n",
      "W4 (10, 100)\n",
      "b4 (10, 1)\n",
      "Z1 (500, 1000)\n",
      "Z2 (250, 1000)\n",
      "Z3 (100, 1000)\n",
      "A3 (100, 1000)\n",
      "Z4 (10, 1000)\n",
      "W1 (500, 784)\n",
      "b1 (500, 1)\n",
      "W2 (250, 500)\n",
      "b2 (250, 1)\n",
      "W3 (100, 250)\n",
      "b3 (100, 1)\n",
      "W4 (10, 100)\n",
      "b4 (10, 1)\n",
      "A1 (500, 1000)\n",
      "A2 (250, 1000)\n",
      "A3 (100, 1000)\n",
      "A4 (10, 1000)\n",
      "dW4 (10, 100)\n",
      "dZ4 (10, 1000)\n",
      "db4 (10, 1)\n",
      "dA3 (100, 1000)\n",
      "dZ3 (100, 1000)\n",
      "dW3 (100, 250)\n",
      "db3 (100, 1)\n",
      "dA2 (250, 1000)\n",
      "dZ2 (250, 1000)\n",
      "dW2 (250, 500)\n",
      "db2 (250, 1)\n",
      "dA1 (500, 1000)\n",
      "dZ1 (500, 1000)\n",
      "dW1 (500, 784)\n",
      "db1 (500, 1)\n",
      "Cost after iteration 0: 3.3480753501027922\n",
      "input X  (784, 1000)\n",
      "W1 (500, 784)\n",
      "b1 (500, 1)\n",
      "W2 (250, 500)\n",
      "b2 (250, 1)\n",
      "W3 (100, 250)\n",
      "b3 (100, 1)\n",
      "W4 (10, 100)\n",
      "b4 (10, 1)\n",
      "Z1 (500, 1000)\n",
      "Z2 (250, 1000)\n",
      "Z3 (100, 1000)\n",
      "A3 (100, 1000)\n",
      "Z4 (10, 1000)\n",
      "W1 (500, 784)\n",
      "b1 (500, 1)\n",
      "W2 (250, 500)\n",
      "b2 (250, 1)\n",
      "W3 (100, 250)\n",
      "b3 (100, 1)\n",
      "W4 (10, 100)\n",
      "b4 (10, 1)\n",
      "A1 (500, 1000)\n",
      "A2 (250, 1000)\n",
      "A3 (100, 1000)\n",
      "A4 (10, 1000)\n",
      "dW4 (10, 100)\n",
      "dZ4 (10, 1000)\n",
      "db4 (10, 1)\n",
      "dA3 (100, 1000)\n",
      "dZ3 (100, 1000)\n",
      "dW3 (100, 250)\n",
      "db3 (100, 1)\n",
      "dA2 (250, 1000)\n",
      "dZ2 (250, 1000)\n",
      "dW2 (250, 500)\n",
      "db2 (250, 1)\n",
      "dA1 (500, 1000)\n",
      "dZ1 (500, 1000)\n",
      "dW1 (500, 784)\n",
      "db1 (500, 1)\n",
      "input X  (784, 1000)\n",
      "W1 (500, 784)\n",
      "b1 (500, 1)\n",
      "W2 (250, 500)\n",
      "b2 (250, 1)\n",
      "W3 (100, 250)\n",
      "b3 (100, 1)\n",
      "W4 (10, 100)\n",
      "b4 (10, 1)\n",
      "Z1 (500, 1000)\n",
      "Z2 (250, 1000)\n",
      "Z3 (100, 1000)\n",
      "A3 (100, 1000)\n",
      "Z4 (10, 1000)\n",
      "W1 (500, 784)\n",
      "b1 (500, 1)\n",
      "W2 (250, 500)\n",
      "b2 (250, 1)\n",
      "W3 (100, 250)\n",
      "b3 (100, 1)\n",
      "W4 (10, 100)\n",
      "b4 (10, 1)\n",
      "A1 (500, 1000)\n",
      "A2 (250, 1000)\n",
      "A3 (100, 1000)\n",
      "A4 (10, 1000)\n",
      "dW4 (10, 100)\n",
      "dZ4 (10, 1000)\n",
      "db4 (10, 1)\n",
      "dA3 (100, 1000)\n",
      "dZ3 (100, 1000)\n",
      "dW3 (100, 250)\n",
      "db3 (100, 1)\n",
      "dA2 (250, 1000)\n",
      "dZ2 (250, 1000)\n",
      "dW2 (250, 500)\n",
      "db2 (250, 1)\n",
      "dA1 (500, 1000)\n",
      "dZ1 (500, 1000)\n",
      "dW1 (500, 784)\n",
      "db1 (500, 1)\n",
      "input X  (784, 1000)\n",
      "W1 (500, 784)\n",
      "b1 (500, 1)\n",
      "W2 (250, 500)\n",
      "b2 (250, 1)\n",
      "W3 (100, 250)\n",
      "b3 (100, 1)\n",
      "W4 (10, 100)\n",
      "b4 (10, 1)\n",
      "Z1 (500, 1000)\n",
      "Z2 (250, 1000)\n",
      "Z3 (100, 1000)\n",
      "A3 (100, 1000)\n",
      "Z4 (10, 1000)\n",
      "W1 (500, 784)\n",
      "b1 (500, 1)\n",
      "W2 (250, 500)\n",
      "b2 (250, 1)\n",
      "W3 (100, 250)\n",
      "b3 (100, 1)\n",
      "W4 (10, 100)\n",
      "b4 (10, 1)\n",
      "A1 (500, 1000)\n",
      "A2 (250, 1000)\n",
      "A3 (100, 1000)\n",
      "A4 (10, 1000)\n",
      "dW4 (10, 100)\n",
      "dZ4 (10, 1000)\n",
      "db4 (10, 1)\n",
      "dA3 (100, 1000)\n",
      "dZ3 (100, 1000)\n",
      "dW3 (100, 250)\n",
      "db3 (100, 1)\n",
      "dA2 (250, 1000)\n",
      "dZ2 (250, 1000)\n",
      "dW2 (250, 500)\n",
      "db2 (250, 1)\n",
      "dA1 (500, 1000)\n",
      "dZ1 (500, 1000)\n",
      "dW1 (500, 784)\n",
      "db1 (500, 1)\n",
      "input X  (784, 1000)\n",
      "W1 (500, 784)\n",
      "b1 (500, 1)\n",
      "W2 (250, 500)\n",
      "b2 (250, 1)\n",
      "W3 (100, 250)\n",
      "b3 (100, 1)\n",
      "W4 (10, 100)\n",
      "b4 (10, 1)\n",
      "Z1 (500, 1000)\n",
      "Z2 (250, 1000)\n",
      "Z3 (100, 1000)\n",
      "A3 (100, 1000)\n",
      "Z4 (10, 1000)\n",
      "W1 (500, 784)\n",
      "b1 (500, 1)\n",
      "W2 (250, 500)\n",
      "b2 (250, 1)\n",
      "W3 (100, 250)\n",
      "b3 (100, 1)\n",
      "W4 (10, 100)\n",
      "b4 (10, 1)\n",
      "A1 (500, 1000)\n",
      "A2 (250, 1000)\n",
      "A3 (100, 1000)\n",
      "A4 (10, 1000)\n",
      "dW4 (10, 100)\n",
      "dZ4 (10, 1000)\n",
      "db4 (10, 1)\n",
      "dA3 (100, 1000)\n",
      "dZ3 (100, 1000)\n",
      "dW3 (100, 250)\n",
      "db3 (100, 1)\n",
      "dA2 (250, 1000)\n",
      "dZ2 (250, 1000)\n",
      "dW2 (250, 500)\n",
      "db2 (250, 1)\n",
      "dA1 (500, 1000)\n",
      "dZ1 (500, 1000)\n",
      "dW1 (500, 784)\n",
      "db1 (500, 1)\n",
      "input X  (784, 1000)\n",
      "W1 (500, 784)\n",
      "b1 (500, 1)\n",
      "W2 (250, 500)\n",
      "b2 (250, 1)\n",
      "W3 (100, 250)\n",
      "b3 (100, 1)\n",
      "W4 (10, 100)\n",
      "b4 (10, 1)\n",
      "Z1 (500, 1000)\n",
      "Z2 (250, 1000)\n",
      "Z3 (100, 1000)\n",
      "A3 (100, 1000)\n",
      "Z4 (10, 1000)\n",
      "W1 (500, 784)\n",
      "b1 (500, 1)\n",
      "W2 (250, 500)\n",
      "b2 (250, 1)\n",
      "W3 (100, 250)\n",
      "b3 (100, 1)\n",
      "W4 (10, 100)\n",
      "b4 (10, 1)\n",
      "A1 (500, 1000)\n",
      "A2 (250, 1000)\n",
      "A3 (100, 1000)\n",
      "A4 (10, 1000)\n",
      "dW4 (10, 100)\n",
      "dZ4 (10, 1000)\n",
      "db4 (10, 1)\n",
      "dA3 (100, 1000)\n",
      "dZ3 (100, 1000)\n",
      "dW3 (100, 250)\n",
      "db3 (100, 1)\n",
      "dA2 (250, 1000)\n",
      "dZ2 (250, 1000)\n",
      "dW2 (250, 500)\n",
      "db2 (250, 1)\n",
      "dA1 (500, 1000)\n",
      "dZ1 (500, 1000)\n",
      "dW1 (500, 784)\n",
      "db1 (500, 1)\n",
      "input X  (784, 1000)\n",
      "W1 (500, 784)\n",
      "b1 (500, 1)\n",
      "W2 (250, 500)\n",
      "b2 (250, 1)\n",
      "W3 (100, 250)\n",
      "b3 (100, 1)\n",
      "W4 (10, 100)\n",
      "b4 (10, 1)\n",
      "Z1 (500, 1000)\n",
      "Z2 (250, 1000)\n",
      "Z3 (100, 1000)\n",
      "A3 (100, 1000)\n",
      "Z4 (10, 1000)\n",
      "W1 (500, 784)\n",
      "b1 (500, 1)\n",
      "W2 (250, 500)\n",
      "b2 (250, 1)\n",
      "W3 (100, 250)\n",
      "b3 (100, 1)\n",
      "W4 (10, 100)\n",
      "b4 (10, 1)\n",
      "A1 (500, 1000)\n",
      "A2 (250, 1000)\n",
      "A3 (100, 1000)\n",
      "A4 (10, 1000)\n",
      "dW4 (10, 100)\n",
      "dZ4 (10, 1000)\n",
      "db4 (10, 1)\n",
      "dA3 (100, 1000)\n",
      "dZ3 (100, 1000)\n",
      "dW3 (100, 250)\n",
      "db3 (100, 1)\n",
      "dA2 (250, 1000)\n",
      "dZ2 (250, 1000)\n",
      "dW2 (250, 500)\n",
      "db2 (250, 1)\n",
      "dA1 (500, 1000)\n",
      "dZ1 (500, 1000)\n",
      "dW1 (500, 784)\n",
      "db1 (500, 1)\n",
      "input X  (784, 1000)\n",
      "W1 (500, 784)\n",
      "b1 (500, 1)\n",
      "W2 (250, 500)\n",
      "b2 (250, 1)\n",
      "W3 (100, 250)\n",
      "b3 (100, 1)\n",
      "W4 (10, 100)\n",
      "b4 (10, 1)\n",
      "Z1 (500, 1000)\n",
      "Z2 (250, 1000)\n",
      "Z3 (100, 1000)\n",
      "A3 (100, 1000)\n",
      "Z4 (10, 1000)\n",
      "W1 (500, 784)\n",
      "b1 (500, 1)\n",
      "W2 (250, 500)\n",
      "b2 (250, 1)\n",
      "W3 (100, 250)\n",
      "b3 (100, 1)\n",
      "W4 (10, 100)\n",
      "b4 (10, 1)\n",
      "A1 (500, 1000)\n",
      "A2 (250, 1000)\n",
      "A3 (100, 1000)\n",
      "A4 (10, 1000)\n",
      "dW4 (10, 100)\n",
      "dZ4 (10, 1000)\n",
      "db4 (10, 1)\n",
      "dA3 (100, 1000)\n",
      "dZ3 (100, 1000)\n",
      "dW3 (100, 250)\n",
      "db3 (100, 1)\n",
      "dA2 (250, 1000)\n",
      "dZ2 (250, 1000)\n",
      "dW2 (250, 500)\n",
      "db2 (250, 1)\n",
      "dA1 (500, 1000)\n",
      "dZ1 (500, 1000)\n",
      "dW1 (500, 784)\n",
      "db1 (500, 1)\n",
      "input X  (784, 1000)\n",
      "W1 (500, 784)\n",
      "b1 (500, 1)\n",
      "W2 (250, 500)\n",
      "b2 (250, 1)\n",
      "W3 (100, 250)\n",
      "b3 (100, 1)\n",
      "W4 (10, 100)\n",
      "b4 (10, 1)\n",
      "Z1 (500, 1000)\n",
      "Z2 (250, 1000)\n",
      "Z3 (100, 1000)\n",
      "A3 (100, 1000)\n",
      "Z4 (10, 1000)\n",
      "W1 (500, 784)\n",
      "b1 (500, 1)\n",
      "W2 (250, 500)\n",
      "b2 (250, 1)\n",
      "W3 (100, 250)\n",
      "b3 (100, 1)\n",
      "W4 (10, 100)\n",
      "b4 (10, 1)\n",
      "A1 (500, 1000)\n",
      "A2 (250, 1000)\n",
      "A3 (100, 1000)\n",
      "A4 (10, 1000)\n",
      "dW4 (10, 100)\n",
      "dZ4 (10, 1000)\n",
      "db4 (10, 1)\n",
      "dA3 (100, 1000)\n",
      "dZ3 (100, 1000)\n",
      "dW3 (100, 250)\n",
      "db3 (100, 1)\n",
      "dA2 (250, 1000)\n",
      "dZ2 (250, 1000)\n",
      "dW2 (250, 500)\n",
      "db2 (250, 1)\n",
      "dA1 (500, 1000)\n",
      "dZ1 (500, 1000)\n",
      "dW1 (500, 784)\n",
      "db1 (500, 1)\n",
      "input X  (784, 1000)\n",
      "W1 (500, 784)\n",
      "b1 (500, 1)\n",
      "W2 (250, 500)\n",
      "b2 (250, 1)\n",
      "W3 (100, 250)\n",
      "b3 (100, 1)\n",
      "W4 (10, 100)\n",
      "b4 (10, 1)\n",
      "Z1 (500, 1000)\n",
      "Z2 (250, 1000)\n",
      "Z3 (100, 1000)\n",
      "A3 (100, 1000)\n",
      "Z4 (10, 1000)\n",
      "W1 (500, 784)\n",
      "b1 (500, 1)\n",
      "W2 (250, 500)\n",
      "b2 (250, 1)\n",
      "W3 (100, 250)\n",
      "b3 (100, 1)\n",
      "W4 (10, 100)\n",
      "b4 (10, 1)\n",
      "A1 (500, 1000)\n",
      "A2 (250, 1000)\n",
      "A3 (100, 1000)\n",
      "A4 (10, 1000)\n",
      "dW4 (10, 100)\n",
      "dZ4 (10, 1000)\n",
      "db4 (10, 1)\n",
      "dA3 (100, 1000)\n",
      "dZ3 (100, 1000)\n",
      "dW3 (100, 250)\n",
      "db3 (100, 1)\n",
      "dA2 (250, 1000)\n",
      "dZ2 (250, 1000)\n",
      "dW2 (250, 500)\n",
      "db2 (250, 1)\n",
      "dA1 (500, 1000)\n",
      "dZ1 (500, 1000)\n",
      "dW1 (500, 784)\n",
      "db1 (500, 1)\n"
     ]
    },
    {
     "data": {
      "image/png": "[encoded data removed]",
      "text/plain": [
       "<Figure size 432x288 with 1 Axes>"
      ]
     },
     "metadata": {
      "needs_background": "light"
     },
     "output_type": "display_data"
    },
    {
     "name": "stdout",
     "output_type": "stream",
     "text": [
      "On the training set:\n",
      "input X  (784, 1000)\n",
      "W1 (500, 784)\n",
      "b1 (500, 1)\n",
      "W2 (250, 500)\n",
      "b2 (250, 1)\n",
      "W3 (100, 250)\n",
      "b3 (100, 1)\n",
      "W4 (10, 100)\n",
      "b4 (10, 1)\n",
      "Z1 (500, 1000)\n",
      "Z2 (250, 1000)\n",
      "Z3 (100, 1000)\n",
      "A3 (100, 1000)\n",
      "Z4 (10, 1000)\n",
      "Accuracy: 0.903\n"
     ]
    },
    {
     "name": "stderr",
     "output_type": "stream",
     "text": [
      "/tmp/ipykernel_41478/2396437680.py:14: DeprecationWarning: `np.int` is a deprecated alias for the builtin `int`. To silence this warning, use `int` by itself. Doing this will not modify any behavior and is safe. When replacing `np.int`, you may wish to use e.g. `np.int64` or `np.int32` to specify the precision. If you wish to review your current use, check the release note link for additional information.\n",
      "Deprecated in NumPy 1.20; for more details and guidance: https://numpy.org/devdocs/release/1.20.0-notes.html#deprecations\n",
      "  p = np.zeros((1,m), dtype = np.int)\n"
     ]
    }
   ],
   "source": [
    "parameters = model(train_set_x, y_train)\n",
    "print (\"On the training set:\")\n",
    "predictions_train = predict(train_set_x, y_train, parameters)\n"
   ]
  }
 ],
 "metadata": {
  "kernelspec": {
   "display_name": "Python 3.9.12 ('DLI')",
   "language": "python",
   "name": "python3"
  },
  "language_info": {
   "codemirror_mode": {
    "name": "ipython",
    "version": 3
   },
   "file_extension": ".py",
   "mimetype": "text/x-python",
   "name": "python",
   "nbconvert_exporter": "python",
   "pygments_lexer": "ipython3",
   "version": "3.9.12"
  },
  "vscode": {
   "interpreter": {
    "hash": "00a1ae1e6deaa37076d141dc26cd1e058ef740ecaf1a0d690f5f0ccaa51e4cb2"
   }
  }
 },
 "nbformat": 4,
 "nbformat_minor": 2
}
