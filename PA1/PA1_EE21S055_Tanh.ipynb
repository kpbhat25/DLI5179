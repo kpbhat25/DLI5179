{
 "cells": [
  {
   "cell_type": "markdown",
   "id": "62152c51",
   "metadata": {},
   "source": [
    "### Tanh\n",
    "##### All the parameters are set in the block \"*Specifying the input parametes*\" any changes to be made are to changed here \n",
    "NOTE : Model is designed for the baseline model as given in the assignment , any addition or deletion of the layers are to be done \\\n",
    "please change the codes in the relevant blocks \\\n",
    "LINEAR -> TANH -> LINEAR -> TANH -> LINEAR -> TANH -> LINEAR -> SOFTMAX \\\n",
    "[I/P , 500 ,250,100, O/P]"
   ]
  },
  {
   "cell_type": "markdown",
   "id": "42932491",
   "metadata": {},
   "source": [
    "##### Importing Libraries"
   ]
  },
  {
   "cell_type": "code",
   "execution_count": 1,
   "id": "69ae1489",
   "metadata": {},
   "outputs": [],
   "source": [
    "## Importing Libraries \n",
    "#The dataset of the MNIST Digit is obtained from the Dataloader function of the pytorch\n",
    "import numpy as np\n",
    "import matplotlib.pyplot as plt\n",
    "import torch\n",
    "import torch.nn as nn \n",
    "import torchvision\n",
    "import torchvision.transforms as transforms"
   ]
  },
  {
   "cell_type": "code",
   "execution_count": 2,
   "id": "04a50af7",
   "metadata": {},
   "outputs": [
    {
     "name": "stdout",
     "output_type": "stream",
     "text": [
      "1.12.1\n"
     ]
    }
   ],
   "source": [
    "print(torch.__version__)"
   ]
  },
  {
   "cell_type": "markdown",
   "id": "78655ab8",
   "metadata": {},
   "source": [
    "##### Specifying the input parameters"
   ]
  },
  {
   "cell_type": "code",
   "execution_count": 3,
   "id": "769ca2f4",
   "metadata": {},
   "outputs": [],
   "source": [
    "input_size = 784 # 28x28\n",
    "hidden_layer1= 500 \n",
    "hidden_layer2=250\n",
    "hidden_layer3=100\n",
    "num_classes = 10\n",
    "numEpochs = 15\n",
    "batch_Size = 64\n",
    "learning_rate = 0.01\n"
   ]
  },
  {
   "cell_type": "markdown",
   "id": "e885eee1",
   "metadata": {},
   "source": [
    "##### Loading the Dataset(Test and Train)"
   ]
  },
  {
   "cell_type": "code",
   "execution_count": 4,
   "id": "cb6203cf",
   "metadata": {},
   "outputs": [],
   "source": [
    "\n",
    "#Loading the dataset from the Torch Vision Libraires \n",
    "\"\"\"#arguments passed are\n",
    "root =  location of the dataset where it is to be downloaded \n",
    "train -> a bool argument is set to true if you are downloading the train dataset and False if you are downloading the Test Dataset \n",
    "transform ->ToTensor converts a PIL image or NumPy ndarray into a FloatTensor. and scales the image’s pixel intensity values in the range [0., 1.]\n",
    "Download is a Bool values set to True to download the dataset\"\"\"\n",
    "train_dataset = torchvision.datasets.MNIST(root='./data', train=True, transform=transforms.ToTensor(),  download=True)\n",
    "test_dataset = torchvision.datasets.MNIST(root='./data', train=False, transform=transforms.ToTensor())"
   ]
  },
  {
   "cell_type": "markdown",
   "id": "7831891f",
   "metadata": {},
   "source": [
    "##### Look up for the distribution of the data "
   ]
  },
  {
   "cell_type": "code",
   "execution_count": 5,
   "id": "5f2fcc22",
   "metadata": {},
   "outputs": [
    {
     "name": "stdout",
     "output_type": "stream",
     "text": [
      "Train labels:  {0: 5923, 1: 6742, 2: 5958, 3: 6131, 4: 5842, 5: 5421, 6: 5918, 7: 6265, 8: 5851, 9: 5949}\n",
      "60000\n"
     ]
    },
    {
     "data": {
      "image/png": "[encoded data removed]",
      "text/plain": [
       "<Figure size 720x288 with 1 Axes>"
      ]
     },
     "metadata": {
      "needs_background": "light"
     },
     "output_type": "display_data"
    }
   ],
   "source": [
    "# To check the data of the x_train is equally distributed or not \n",
    "# in case of unequal distribution of the data or skewed distribution , we need to apply certain data preprocessing steps \n",
    "# so that the model does not skew/ be oriented to a class of dataset but equally learn all the classes \n",
    "loader_train = torch.utils.data.DataLoader(dataset=train_dataset,batch_size = 60000 ,shuffle=True)  # Dataloder with shuffling and batchsize mentioned \n",
    "dataiter = iter(loader_train)   # iter is the function to iterate through the entire dataset\n",
    "data = next(dataiter)       #Python built-in next() function to get the next data element in the stream of data\n",
    "X_train,y_train = data\n",
    "\n",
    "X_train=X_train.numpy()      # Convertibg the tensors to numpy \n",
    "y_train=y_train.numpy()          \n",
    "\n",
    "unique, counts = np.unique(y_train, return_counts=True)      # Using the numpy unique function to see the distribution of the each class of digit \n",
    "print(\"Train labels: \", dict(zip(unique, counts)))               \n",
    "print(np.sum(counts))                                   \n",
    "fig = plt.subplots(figsize =(10, 4))\n",
    "plt.bar(unique,counts,color ='green',width=0.8)                      # plotting the Bar graph \n",
    "plt.xlabel(\"Numbers from 0-9\")\n",
    "plt.ylabel(\"Total Count for each number \")\n",
    "plt.title(\"Train Data\")\n",
    "plt.show()\n"
   ]
  },
  {
   "cell_type": "code",
   "execution_count": 6,
   "id": "d3b6a8c9",
   "metadata": {},
   "outputs": [
    {
     "name": "stdout",
     "output_type": "stream",
     "text": [
      "Train labels:  {0: 980, 1: 1135, 2: 1032, 3: 1010, 4: 982, 5: 892, 6: 958, 7: 1028, 8: 974, 9: 1009}\n",
      "10000\n"
     ]
    },
    {
     "data": {
      "image/png": "[encoded data removed]",
      "text/plain": [
       "<Figure size 720x288 with 1 Axes>"
      ]
     },
     "metadata": {
      "needs_background": "light"
     },
     "output_type": "display_data"
    }
   ],
   "source": [
    "#Similar to the train , checked the test dataset to see the distribution , so that one can compare the numbers \n",
    "# distributed in the each label \n",
    "# All the functions are same as used in the above test case\n",
    "loader = torch.utils.data.DataLoader(dataset=test_dataset,batch_size = 10000 ,shuffle=True)\n",
    "dataiter = iter(loader)\n",
    "data = next(dataiter)\n",
    "X_test,y_test = data\n",
    "\n",
    "X_test=X_test.numpy()\n",
    "y_test=y_test.numpy()\n",
    "unique, counts = np.unique(y_test, return_counts=True)\n",
    "print(\"Train labels: \", dict(zip(unique, counts)))\n",
    "print(np.sum(counts))\n",
    "fig = plt.subplots(figsize =(10, 4))\n",
    "plt.bar(unique,counts,color ='green',width=0.8)\n",
    "plt.xlabel(\"Numbers from 0-9\")\n",
    "plt.ylabel(\"Total Count for each number \")\n",
    "plt.title(\"Test Data\")\n",
    "plt.show()\n"
   ]
  },
  {
   "cell_type": "markdown",
   "id": "d92ab489",
   "metadata": {},
   "source": [
    "##### One hot encoding"
   ]
  },
  {
   "cell_type": "code",
   "execution_count": 7,
   "id": "c0dc432b",
   "metadata": {},
   "outputs": [],
   "source": [
    "\"\"\"Converting the y or the label from number to array sequences \n",
    "using the one hot encode\n",
    "if the label has the class [5] we need to convert it as [0,0,0,0,0,1,0,0,0,0]\n",
    "\"\"\"\n",
    "def convert_to_onehot(labels,num_classes):            \n",
    "    output = np.eye(num_classes)[np.array(labels).reshape(-1)]                        # An array where all elements are equal to zero, except for the k-th diagonal, whose values are equal to one.\n",
    "    return output.reshape(list(np.shape(labels))+[num_classes])                       # reshaping the above sequences as required for the input in the code"
   ]
  },
  {
   "cell_type": "markdown",
   "id": "993687b2",
   "metadata": {},
   "source": [
    "##### Activation function and their derivatives"
   ]
  },
  {
   "cell_type": "code",
   "execution_count": 8,
   "id": "df3e3a27",
   "metadata": {},
   "outputs": [],
   "source": [
    "# Activation Functions \n",
    "# these are the activation function we will be using in the forward pass \n",
    "def sigmoid(x): \n",
    "    return 1/(1+np.exp(-x))            \n",
    "\n",
    "def relu(x):\n",
    "    return np.maximum(0, x)\n",
    "\n",
    "def softmax(x):\n",
    "    return np.exp(x)/sum(np.exp(x))\n",
    "\n",
    "def tanh(x):\n",
    "    t=(np.exp(x)-np.exp(-x))/(np.exp(x)+np.exp(-x))\n",
    "    return t"
   ]
  },
  {
   "cell_type": "code",
   "execution_count": 9,
   "id": "713f4b7c",
   "metadata": {},
   "outputs": [],
   "source": [
    "#Derivatives of the activation function \n",
    "# used in the back propogation algorithm\n",
    "\n",
    "def sigmoid_derivative(x):\n",
    "    return sigmoid(x) * (1- sigmoid(x))\n",
    "\n",
    "def relu_derivative(x):\n",
    "    return x>0\n",
    "\n",
    "def tanh_derivative(x):\n",
    "    return 1-(tanh(x)**2)"
   ]
  },
  {
   "cell_type": "markdown",
   "id": "b9c94cef",
   "metadata": {},
   "source": [
    "##### Initialization"
   ]
  },
  {
   "cell_type": "code",
   "execution_count": 10,
   "id": "3bccfe5d",
   "metadata": {},
   "outputs": [],
   "source": [
    "#Initialization\n",
    "#Glorot /Xavier Initialization for the weights and zero initialization for the biases \n",
    "# No is the out layer \n",
    "# Ni is the in layer \n",
    "#Picking up a random sample from the uniform distribution of the [-M,M]\n",
    "def init_weights(No,Ni):\n",
    "    M=np.sqrt(6/(Ni+No))\n",
    "    weights=np.asarray(np.random.uniform(-M, M, (No, Ni)), dtype=np.float64)\n",
    "    biases  = np.zeros((No,1))\n",
    "    return weights,biases"
   ]
  },
  {
   "cell_type": "code",
   "execution_count": 11,
   "id": "5630ea11",
   "metadata": {},
   "outputs": [],
   "source": [
    "# Weight and biases initialization  initialization \n",
    "# Given format of the layer dimension are [i/p -> 500 ->250 -> 100-> o/p]\n",
    "# All the shape of the weight and biases are written down in the documentation \n",
    "# all the required parameters are stored in as a dictionary and are called in the next steps \n",
    "# the function returns the parameter (dictionary of the weights and biases)\n",
    "# Caution !! Note and remember to call them in the same order as they are defined here , else you might end up in making a blunder\n",
    "def initialize_parameters(layers_dims):\n",
    "    W1,b1=init_weights(layers_dims[1],layers_dims[0])\n",
    "    W2,b2=init_weights(layers_dims[2],layers_dims[1])\n",
    "    W3,b3=init_weights(layers_dims[3],layers_dims[2])\n",
    "    W4,b4=init_weights(layers_dims[4],layers_dims[3])\n",
    "    parameters={ \"W1\":W1,\"W2\":W2,\"W3\":W3,\"W4\":W4,\n",
    "                 \"b1\":b1,\"b2\":b2,\"b3\":b3,\"b4\":b4}\n",
    "    return parameters  "
   ]
  },
  {
   "cell_type": "markdown",
   "id": "58d9c565",
   "metadata": {},
   "source": [
    "##### Forward Propogation"
   ]
  },
  {
   "cell_type": "code",
   "execution_count": 12,
   "id": "13beabbe",
   "metadata": {},
   "outputs": [],
   "source": [
    "# Forward Propogation \n",
    "# Function take the input vector X as the arugment and the initialized parameters dictionary as the other \n",
    "# X input dataset of the size (features , number of samples )\n",
    "# Parameters are from the dicrionary W1...W4, b1...b4\n",
    "\"\"\"Returns:\n",
    "A4 -- the output of the sigmoid function \n",
    "cache --  a dicrionary containing all the parameters that can be used in the next step \n",
    "\"\"\"\n",
    "#call the dictionary parameters \n",
    "def forward_propagation(X,parameters):\n",
    "    W1=parameters[\"W1\"]\n",
    "    b1=parameters[\"b1\"]\n",
    "    W2=parameters[\"W2\"]\n",
    "    b2=parameters[\"b2\"]\n",
    "    W3=parameters[\"W3\"]\n",
    "    b3=parameters[\"b3\"]\n",
    "    W4=parameters[\"W4\"]\n",
    "    b4=parameters[\"b4\"]\n",
    "    Z1=np.dot(W1,X.T)+b1\n",
    "    A1=tanh(Z1)\n",
    "    Z2 = np.dot(W2,A1) + b2\n",
    "    A2=tanh(Z2)\n",
    "    Z3 = np.dot(W3,A2) + b3\n",
    "    A3=tanh(Z3)\n",
    "    Z4=np.dot(W4,A3)+b4\n",
    "    A4=softmax(Z4)\n",
    "\n",
    "    cache = (Z1, A1, W1, b1, Z2, A2, W2, b2, Z3, A3, W3, b3 , Z4 ,A4 , W4 , b4)\n",
    "\n",
    "    return A4,cache"
   ]
  },
  {
   "cell_type": "markdown",
   "id": "aae066a7",
   "metadata": {},
   "source": [
    "##### Computing Loss (Cross entropy)"
   ]
  },
  {
   "cell_type": "code",
   "execution_count": 13,
   "id": "30c7fa71",
   "metadata": {},
   "outputs": [],
   "source": [
    "# Calculating the loss function using the cross entropy\n",
    "\"\"\"Arguments:\n",
    "    A -- post-activation, output of forward propagation\n",
    "    Y -- \"true\" labels vector, same shape as A\n",
    "\n",
    "    Returns:\n",
    "    cost - value of the cost function\n",
    "\"\"\"\n",
    "def compute_cost(A, Y):    \n",
    "    #A is predicted\n",
    "    #Y is actual\n",
    "    m = Y.shape[1] \n",
    "    logprobs = np.multiply(-np.log(A),Y) + np.multiply(-np.log(1 - A), 1 - Y)\n",
    "    cost = 1./m * np.nansum(logprobs)\n",
    "    return cost"
   ]
  },
  {
   "cell_type": "markdown",
   "id": "015092ed",
   "metadata": {},
   "source": [
    "#### Backward Propogation"
   ]
  },
  {
   "cell_type": "code",
   "execution_count": 14,
   "id": "0b00a513",
   "metadata": {},
   "outputs": [],
   "source": [
    "\"\"\"\n",
    "    Implement the backward propagation presented in figure 2.\n",
    "    \n",
    "    Arguments:\n",
    "    X -- input dataset, of shape (input size, number of examples)\n",
    "    Y -- true \"label\" vector (containing 0 if cat, 1 if non-cat)\n",
    "    cache -- cache output from forward_propagation()\n",
    "    \n",
    "    Returns:\n",
    "    gradients -- A dictionary with the gradients with respect to each parameter, activation and pre-activation variables\n",
    "\"\"\"\n",
    "def backward_propagation(X, Y, cache):\n",
    "\n",
    "    m = X.shape[1]\n",
    "\n",
    "    (Z1, A1, W1, b1, Z2, A2, W2, b2, Z3, A3, W3, b3 , Z4 ,A4 , W4 , b4) = cache\n",
    "    dZ4 = A4 - Y\n",
    "    dW4 = 1./m * np.dot(dZ4, A3.T)\n",
    "    db4 = 1./m * np.sum(dZ4, axis=1, keepdims = True)\n",
    "    \n",
    "    dA3 = np.dot(W4.T, dZ4)\n",
    "    dZ3 = np.multiply(dA3, tanh_derivative(Z3))\n",
    "    dW3 = 1./m * np.dot(dZ3, A2.T)\n",
    "    db3 = 1./m * np.sum(dZ3, axis=1, keepdims = True)\n",
    "    \n",
    "    dA2 = np.dot(W3.T, dZ3)\n",
    "    dZ2 = np.multiply(dA2, tanh_derivative(Z2))\n",
    "    dW2 = 1./m * np.dot(dZ2, A1.T)\n",
    "    db2 = 1./m * np.sum(dZ2, axis=1, keepdims = True)\n",
    "\n",
    "    dA1 = np.dot(W2.T, dZ2)\n",
    "    dZ1 = np.multiply(dA1, tanh_derivative(Z1))\n",
    "    dW1 = 1./m * np.dot(dZ1, X)\n",
    "    db1 = 1./m * np.sum(dZ1, axis=1, keepdims = True)\n",
    "\n",
    "    \n",
    "    gradients = {\"dZ4\": dZ4, \"dW4\": dW4, \"db4\": db4,\n",
    "                 \"dA3\": dA3, \"dZ3\": dZ3, \"dW3\": dW3, \"db3\": db3,\n",
    "                 \"dA2\": dA2, \"dZ2\": dZ2, \"dW2\": dW2, \"db2\": db2,\n",
    "                 \"dA1\": dA1, \"dZ1\": dZ1, \"dW1\": dW1, \"db1\": db1}\n",
    "    \n",
    "    return gradients"
   ]
  },
  {
   "cell_type": "markdown",
   "id": "f6cdde57",
   "metadata": {},
   "source": [
    "##### Updating the parameters with GD"
   ]
  },
  {
   "cell_type": "code",
   "execution_count": 15,
   "id": "d431ef48",
   "metadata": {},
   "outputs": [],
   "source": [
    "#Update the parameters after the back prop using the gradient descent algo\n",
    "\"\"\"\n",
    "    \n",
    "    Arguments:\n",
    "    parameters - which are defined after the initializations , W1...W4 , b1...b4 \n",
    "    gradients  - terms found after the backprop and stored in the dictionary of the gradients \n",
    "    learning_rate - using the value of alpha/eta as given by the user to learn the parameters\n",
    "    \n",
    "    Returns:\n",
    "    updated parameters - a dictionary for the new set of values for the W's and b's after the updation rule is performed\n",
    "\"\"\"\n",
    "def update_parameter(parameters,gradients,learning_rate):\n",
    "\n",
    "    \n",
    "    W1=parameters[\"W1\"]\n",
    "    b1=parameters[\"b1\"]\n",
    "    W2=parameters[\"W2\"]\n",
    "    b2=parameters[\"b2\"]\n",
    "    W3=parameters[\"W3\"]\n",
    "    b3=parameters[\"b3\"]\n",
    "    W4=parameters[\"W4\"]\n",
    "    b4=parameters[\"b4\"]\n",
    "    dW1=gradients[\"dW1\"]\n",
    "    db1=gradients[\"db1\"]\n",
    "    dW2=gradients[\"dW2\"]\n",
    "    db2=gradients[\"db2\"]\n",
    "    dW3=gradients[\"dW3\"]\n",
    "    db3=gradients[\"db3\"]\n",
    "    dW4=gradients[\"dW4\"]\n",
    "    db4=gradients[\"db4\"]\n",
    "    W1 -= learning_rate * dW1\n",
    "    b1 -= learning_rate * db1\n",
    "    W2 -= learning_rate * dW2\n",
    "    b2 -= learning_rate * db2\n",
    "    W3 -= learning_rate * dW3\n",
    "    b3 -= learning_rate * db3\n",
    "    W4 -= learning_rate * dW4\n",
    "    b4 -= learning_rate * db4\n",
    "    \n",
    "    updated_parameters={\"W1\":W1,\"W2\":W2,\"W3\":W3,\"W4\":W4,\n",
    "                        \"b1\":b1,\"b2\":b2,\"b3\":b3,\"b4\":b4}\n",
    "\n",
    "                        \n",
    "    return updated_parameters"
   ]
  },
  {
   "cell_type": "markdown",
   "id": "5faee58e",
   "metadata": {},
   "source": [
    "##### Statistical Inference Function"
   ]
  },
  {
   "cell_type": "code",
   "execution_count": 16,
   "id": "1d6b794e",
   "metadata": {},
   "outputs": [],
   "source": [
    "#Finding the accuracy of the parameter at the output \n",
    "\"\"\"  \n",
    "    Arguments:\n",
    "    y_actual -  given in the dataset / also called as the ground truth \n",
    "    y_pred - generated from the neural network , after a series of forward and backprop \n",
    "    \n",
    "    Returns:\n",
    "    accuracy =  finding the matches of the prdicted vs the actual\n",
    "\"\"\"\n",
    "def find_accuracy(y_actual,y_pred):\n",
    "    accuracy = np.count_nonzero(np.argmax(y_pred,axis=0)==np.argmax(y_actual,axis=1))/y_actual.shape[0]\n",
    "    return accuracy"
   ]
  },
  {
   "cell_type": "code",
   "execution_count": 17,
   "id": "338e2db1",
   "metadata": {},
   "outputs": [],
   "source": [
    "def predict(X,Y,parameters):\n",
    "\n",
    "    \"\"\"\n",
    "    This function is used to predict the results of a  n-layer neural network.\n",
    "    \n",
    "    Arguments:\n",
    "    X -- data set of examples you would like to label\n",
    "    Y -- data set of examples\n",
    "    parameters -- parameters of the trained model\n",
    "    \n",
    "    Returns:\n",
    "    ypred -- predictions for the given dataset X\n",
    "    \"\"\"\n",
    "\n",
    "    y_pred,cache=forward_propagation(X,parameters)\n",
    "    return y_pred"
   ]
  },
  {
   "cell_type": "markdown",
   "id": "d4453247",
   "metadata": {},
   "source": [
    "##### Model Training "
   ]
  },
  {
   "cell_type": "code",
   "execution_count": 18,
   "id": "329044fd",
   "metadata": {},
   "outputs": [],
   "source": [
    "def model(dataset,layers_dims,numEpochs):\n",
    "    \"\"\"\n",
    "    Function model takes in the arguments :\n",
    "    dataset -> train dataset which is size of 60000\n",
    "    layer_dim -> takes the dimension of the neural net we are giving in (base line in our case)\n",
    "    numEpochs -> the entire data seen in one iteration ,15 in our case\n",
    "\n",
    "    Returns :\n",
    "    accuracy of the model \n",
    "    cost in each iteration \n",
    "    parameters that are needed to test the data for the test dataset and train dataset\n",
    "    \"\"\"\n",
    "    k=len(dataset)                               #length of the dataset\n",
    "    numBatches=k/batch_Size                      # number of batches = 60000/64 = 937\n",
    "    parameters=initialize_parameters(layers_dims)     # initializing the parameters\n",
    "    costs=[]                                          #cost accumulation\n",
    "    acc=[]                                            #accuracy \n",
    "    for epoch in range(numEpochs):\n",
    "        for ii in range(int(numBatches)):\n",
    "            # Data loader\n",
    "            loader = torch.utils.data.DataLoader(dataset=dataset,batch_size = batch_Size ,shuffle=True)      \n",
    "            dataiter = iter(loader)\n",
    "            data = next(dataiter)\n",
    "            X,y = data\n",
    "            X=X.numpy()\n",
    "            y=y.numpy()\n",
    "            \n",
    "            image_vector_size = 28*28\n",
    "            X = X.reshape(X.shape[0], image_vector_size)    #image is already flattened to x/255\n",
    "            y_one_hot=convert_to_onehot(y,num_classes)\n",
    "            y_pred,cache=forward_propagation(X,parameters)\n",
    "            cost=compute_cost(y_pred,y_one_hot.T)\n",
    "            gradients=backward_propagation(X,y_one_hot.T,cache)\n",
    "            parameters=update_parameter(parameters,gradients,learning_rate)\n",
    "            if ii%200 ==0:\n",
    "                print (f'Epoch [{epoch+1}/{numEpochs}], Step [{ii+1}/{int(numBatches)}], Loss: {cost.item():.4f}')\n",
    "            acc.append(find_accuracy(y_one_hot,y_pred))\n",
    "            costs.append(cost)\n",
    "    return acc,costs,parameters\n",
    "\n"
   ]
  },
  {
   "cell_type": "code",
   "execution_count": 19,
   "id": "3d99e5d8",
   "metadata": {},
   "outputs": [
    {
     "name": "stdout",
     "output_type": "stream",
     "text": [
      "Epoch [1/15], Step [1/937], Loss: 3.3623\n",
      "Epoch [1/15], Step [201/937], Loss: 2.6494\n",
      "Epoch [1/15], Step [401/937], Loss: 2.3156\n",
      "Epoch [1/15], Step [601/937], Loss: 2.1788\n",
      "Epoch [1/15], Step [801/937], Loss: 1.8405\n",
      "Epoch [2/15], Step [1/937], Loss: 1.5767\n",
      "Epoch [2/15], Step [201/937], Loss: 1.6039\n",
      "Epoch [2/15], Step [401/937], Loss: 1.4741\n",
      "Epoch [2/15], Step [601/937], Loss: 1.2324\n",
      "Epoch [2/15], Step [801/937], Loss: 1.2994\n",
      "Epoch [3/15], Step [1/937], Loss: 1.1319\n",
      "Epoch [3/15], Step [201/937], Loss: 1.1713\n",
      "Epoch [3/15], Step [401/937], Loss: 0.7894\n",
      "Epoch [3/15], Step [601/937], Loss: 1.0663\n",
      "Epoch [3/15], Step [801/937], Loss: 1.1085\n",
      "Epoch [4/15], Step [1/937], Loss: 1.1113\n",
      "Epoch [4/15], Step [201/937], Loss: 0.9614\n",
      "Epoch [4/15], Step [401/937], Loss: 1.1456\n",
      "Epoch [4/15], Step [601/937], Loss: 0.9772\n",
      "Epoch [4/15], Step [801/937], Loss: 1.0546\n",
      "Epoch [5/15], Step [1/937], Loss: 0.8144\n",
      "Epoch [5/15], Step [201/937], Loss: 0.7527\n",
      "Epoch [5/15], Step [401/937], Loss: 1.1395\n",
      "Epoch [5/15], Step [601/937], Loss: 0.7558\n",
      "Epoch [5/15], Step [801/937], Loss: 1.0061\n",
      "Epoch [6/15], Step [1/937], Loss: 0.7920\n",
      "Epoch [6/15], Step [201/937], Loss: 0.7790\n",
      "Epoch [6/15], Step [401/937], Loss: 0.8098\n",
      "Epoch [6/15], Step [601/937], Loss: 0.7165\n",
      "Epoch [6/15], Step [801/937], Loss: 0.7317\n",
      "Epoch [7/15], Step [1/937], Loss: 0.6818\n",
      "Epoch [7/15], Step [201/937], Loss: 0.8378\n",
      "Epoch [7/15], Step [401/937], Loss: 0.7258\n",
      "Epoch [7/15], Step [601/937], Loss: 0.8415\n",
      "Epoch [7/15], Step [801/937], Loss: 0.6996\n",
      "Epoch [8/15], Step [1/937], Loss: 0.9171\n",
      "Epoch [8/15], Step [201/937], Loss: 0.7451\n",
      "Epoch [8/15], Step [401/937], Loss: 0.7618\n",
      "Epoch [8/15], Step [601/937], Loss: 0.6147\n",
      "Epoch [8/15], Step [801/937], Loss: 0.6340\n",
      "Epoch [9/15], Step [1/937], Loss: 0.6046\n",
      "Epoch [9/15], Step [201/937], Loss: 0.7201\n",
      "Epoch [9/15], Step [401/937], Loss: 0.9107\n",
      "Epoch [9/15], Step [601/937], Loss: 0.7697\n",
      "Epoch [9/15], Step [801/937], Loss: 0.6782\n",
      "Epoch [10/15], Step [1/937], Loss: 0.6773\n",
      "Epoch [10/15], Step [201/937], Loss: 0.6980\n",
      "Epoch [10/15], Step [401/937], Loss: 0.6821\n",
      "Epoch [10/15], Step [601/937], Loss: 0.8636\n",
      "Epoch [10/15], Step [801/937], Loss: 0.6173\n",
      "Epoch [11/15], Step [1/937], Loss: 0.7013\n",
      "Epoch [11/15], Step [201/937], Loss: 0.7937\n",
      "Epoch [11/15], Step [401/937], Loss: 0.6974\n",
      "Epoch [11/15], Step [601/937], Loss: 0.7934\n",
      "Epoch [11/15], Step [801/937], Loss: 0.5331\n",
      "Epoch [12/15], Step [1/937], Loss: 0.6182\n",
      "Epoch [12/15], Step [201/937], Loss: 0.6488\n",
      "Epoch [12/15], Step [401/937], Loss: 0.7025\n",
      "Epoch [12/15], Step [601/937], Loss: 0.7058\n",
      "Epoch [12/15], Step [801/937], Loss: 0.7488\n",
      "Epoch [13/15], Step [1/937], Loss: 0.5087\n",
      "Epoch [13/15], Step [201/937], Loss: 0.6085\n",
      "Epoch [13/15], Step [401/937], Loss: 0.6430\n",
      "Epoch [13/15], Step [601/937], Loss: 0.6159\n",
      "Epoch [13/15], Step [801/937], Loss: 0.7809\n",
      "Epoch [14/15], Step [1/937], Loss: 0.4989\n",
      "Epoch [14/15], Step [201/937], Loss: 0.6738\n",
      "Epoch [14/15], Step [401/937], Loss: 0.5613\n",
      "Epoch [14/15], Step [601/937], Loss: 0.4969\n",
      "Epoch [14/15], Step [801/937], Loss: 0.6628\n",
      "Epoch [15/15], Step [1/937], Loss: 0.7021\n",
      "Epoch [15/15], Step [201/937], Loss: 0.6174\n",
      "Epoch [15/15], Step [401/937], Loss: 0.6808\n",
      "Epoch [15/15], Step [601/937], Loss: 0.6582\n",
      "Epoch [15/15], Step [801/937], Loss: 0.9350\n"
     ]
    }
   ],
   "source": [
    "layers_dims=[784,500,250,100,10]\n",
    "train_acc,train_costs,trained_parameters=model(train_dataset,layers_dims,numEpochs)"
   ]
  },
  {
   "cell_type": "code",
   "execution_count": 20,
   "id": "dc076022",
   "metadata": {},
   "outputs": [
    {
     "name": "stdout",
     "output_type": "stream",
     "text": [
      "0.8034346921669954\n"
     ]
    }
   ],
   "source": [
    "print((train_costs[-1]))"
   ]
  },
  {
   "cell_type": "code",
   "execution_count": 21,
   "id": "98cd96fa",
   "metadata": {},
   "outputs": [
    {
     "name": "stdout",
     "output_type": "stream",
     "text": [
      "0.859375\n"
     ]
    }
   ],
   "source": [
    "print((train_acc[-1]))"
   ]
  },
  {
   "cell_type": "code",
   "execution_count": 22,
   "id": "631883ce",
   "metadata": {},
   "outputs": [
    {
     "data": {
      "image/png": "[encoded data removed]",
      "text/plain": [
       "<Figure size 432x288 with 1 Axes>"
      ]
     },
     "metadata": {
      "needs_background": "light"
     },
     "output_type": "display_data"
    }
   ],
   "source": [
    "plt.plot(train_costs)\n",
    "plt.xlabel('Training Loss')\n",
    "plt.ylabel('Iterations')\n",
    "plt.title(\"Tanh Training loss vs Iteration\")\n",
    "plt.show()"
   ]
  },
  {
   "cell_type": "code",
   "execution_count": 23,
   "id": "8e80f49e",
   "metadata": {},
   "outputs": [
    {
     "data": {
      "image/png": "[encoded data removed]",
      "text/plain": [
       "<Figure size 432x288 with 1 Axes>"
      ]
     },
     "metadata": {
      "needs_background": "light"
     },
     "output_type": "display_data"
    }
   ],
   "source": [
    "plt.plot(train_acc)\n",
    "plt.xlabel('Accuracy')\n",
    "plt.ylabel('Iterations')\n",
    "plt.title(\"tanh Accuracy vs Iteration\")\n",
    "plt.show()"
   ]
  },
  {
   "cell_type": "markdown",
   "id": "287bcf42",
   "metadata": {},
   "source": [
    "##### Model Testing "
   ]
  },
  {
   "cell_type": "markdown",
   "id": "8e2a8d2b",
   "metadata": {},
   "source": []
  },
  {
   "cell_type": "code",
   "execution_count": 24,
   "id": "52cd3648",
   "metadata": {},
   "outputs": [
    {
     "data": {
      "text/plain": [
       "0.5588192259688277"
      ]
     },
     "execution_count": 24,
     "metadata": {},
     "output_type": "execute_result"
    }
   ],
   "source": [
    "p=len(test_dataset)\n",
    "test_batches=p/batch_Size\n",
    "numBatches=p/batch_Size\n",
    "# test_costs=[]\n",
    "# test_accuracy=[]\n",
    "# for i in range(int(test_batches)):\n",
    "loader = torch.utils.data.DataLoader(dataset=test_dataset,batch_size = p ,shuffle=True)\n",
    "dataiter = iter(loader)\n",
    "data = next(dataiter)\n",
    "X,y = data\n",
    "X=X.numpy()\n",
    "y=y.numpy()\n",
    "# Flatten the images\n",
    "image_vector_size = 28*28\n",
    "X = X.reshape(X.shape[0], image_vector_size)\n",
    "y_one_hot=convert_to_onehot(y,num_classes)\n",
    "y_hat,out_cache=forward_propagation(X,trained_parameters)\n",
    "#     test_costs.append(compute_cost(y_hat,y_one_hot.T))\n",
    "#     test_accuracy.append(find_accuracy(y_one_hot,y_hat))\n",
    "test_accracy=find_accuracy(y_one_hot,y_hat)\n",
    "(compute_cost(y_hat,y_one_hot.T))\n",
    "\n",
    "        "
   ]
  },
  {
   "cell_type": "code",
   "execution_count": 25,
   "id": "eade71b6",
   "metadata": {},
   "outputs": [],
   "source": [
    "k = np.argmax(y_hat,axis=0)\n"
   ]
  },
  {
   "cell_type": "code",
   "execution_count": 26,
   "id": "554a7e54",
   "metadata": {},
   "outputs": [
    {
     "name": "stdout",
     "output_type": "stream",
     "text": [
      "Train labels:  {0: 980, 1: 1135, 2: 1032, 3: 1010, 4: 982, 5: 892, 6: 958, 7: 1028, 8: 974, 9: 1009}\n"
     ]
    },
    {
     "data": {
      "image/png": "[encoded data removed]",
      "text/plain": [
       "<Figure size 720x288 with 1 Axes>"
      ]
     },
     "metadata": {
      "needs_background": "light"
     },
     "output_type": "display_data"
    }
   ],
   "source": [
    "unique, counts = np.unique(y, return_counts=True)\n",
    "print(\"Train labels: \", dict(zip(unique, counts)))\n",
    "np.sum(counts)\n",
    "fig = plt.subplots(figsize =(10, 4))\n",
    "plt.bar(unique,counts,color ='green',width=0.8)\n",
    "plt.xlabel(\"Numbers from 0-9\")\n",
    "plt.ylabel(\"Total Count for each number \")\n",
    "plt.title(\"Ground Truth(True Label\")\n",
    "plt.show()\n"
   ]
  },
  {
   "cell_type": "code",
   "execution_count": 27,
   "id": "ef28a3fa",
   "metadata": {},
   "outputs": [
    {
     "name": "stdout",
     "output_type": "stream",
     "text": [
      "Train labels:  {0: 1031, 1: 1146, 2: 997, 3: 1014, 4: 1014, 5: 834, 6: 973, 7: 1022, 8: 973, 9: 996}\n"
     ]
    },
    {
     "data": {
      "text/plain": [
       "10000"
      ]
     },
     "execution_count": 27,
     "metadata": {},
     "output_type": "execute_result"
    }
   ],
   "source": [
    "unique, counts = np.unique(k, return_counts=True)\n",
    "print(\"Train labels: \", dict(zip(unique, counts)))\n",
    "np.sum(counts)"
   ]
  },
  {
   "cell_type": "markdown",
   "id": "46318ede",
   "metadata": {},
   "source": [
    "#### Results"
   ]
  },
  {
   "cell_type": "code",
   "execution_count": 28,
   "id": "65fdae80",
   "metadata": {},
   "outputs": [
    {
     "name": "stderr",
     "output_type": "stream",
     "text": [
      "/home/koushikbhat/anaconda3/envs/DLI/lib/python3.9/site-packages/scipy/__init__.py:146: UserWarning: A NumPy version >=1.16.5 and <1.23.0 is required for this version of SciPy (detected version 1.23.1\n",
      "  warnings.warn(f\"A NumPy version >={np_minversion} and <{np_maxversion}\"\n"
     ]
    },
    {
     "data": {
      "text/plain": [
       "array([[ 961,    0,   12,    3,    1,   16,   13,    4,   10,   11],\n",
       "       [   0, 1102,    8,    0,    1,    3,    3,   14,    8,    7],\n",
       "       [   2,    3,  910,   24,    2,    6,    7,   28,   11,    4],\n",
       "       [   2,    4,   13,  903,    1,   48,    2,    7,   25,    9],\n",
       "       [   0,    1,   14,    0,  910,   12,   15,    6,    8,   48],\n",
       "       [   3,    0,    1,   34,    0,  743,   12,    0,   28,   13],\n",
       "       [   7,    3,   14,    2,   17,   13,  901,    0,   15,    1],\n",
       "       [   1,    2,   17,   18,    2,    8,    1,  934,   14,   25],\n",
       "       [   4,   20,   35,   19,    7,   33,    4,    3,  843,    5],\n",
       "       [   0,    0,    8,    7,   41,   10,    0,   32,   12,  886]])"
      ]
     },
     "execution_count": 28,
     "metadata": {},
     "output_type": "execute_result"
    }
   ],
   "source": [
    "from sklearn.metrics import confusion_matrix\n",
    "confusion_matrix(k, y)"
   ]
  },
  {
   "cell_type": "code",
   "execution_count": 29,
   "id": "fb6b717d",
   "metadata": {},
   "outputs": [
    {
     "data": {
      "text/plain": [
       "Text(51.0, 0.5, 'truth')"
      ]
     },
     "execution_count": 29,
     "metadata": {},
     "output_type": "execute_result"
    },
    {
     "data": {
      "image/png": "[encoded data removed]",
      "text/plain": [
       "<Figure size 576x576 with 2 Axes>"
      ]
     },
     "metadata": {
      "needs_background": "light"
     },
     "output_type": "display_data"
    }
   ],
   "source": [
    "import seaborn as sn\n",
    "plt.figure(figsize=(8,8))\n",
    "sn.heatmap(confusion_matrix(k, y),annot=True,fmt='d')\n",
    "plt.title('Confusion Matrix of Tanh Test Data')\n",
    "plt.xlabel('Predicted')\n",
    "plt.ylabel('truth')"
   ]
  },
  {
   "cell_type": "code",
   "execution_count": 30,
   "id": "3e4999bf",
   "metadata": {},
   "outputs": [
    {
     "data": {
      "image/png": "[encoded data removed]",
      "text/plain": [
       "<Figure size 1296x432 with 1 Axes>"
      ]
     },
     "metadata": {
      "needs_background": "light"
     },
     "output_type": "display_data"
    }
   ],
   "source": [
    "precision = np.diag(confusion_matrix(k, y))/np.sum(confusion_matrix(k, y),axis=0)\n",
    "recall = np.diag(confusion_matrix(k, y))/np.sum(confusion_matrix(k, y),axis=1)\n",
    "f1_score = 2*precision*recall/(precision+recall)\n",
    "\n",
    "# set width of bar\n",
    "barWidth = 0.25\n",
    "fig = plt.subplots(figsize =(18, 6))\n",
    "br1 = [0,1,2,3,4,5,6,7,8,9]\n",
    "br2 = [x + barWidth for x in br1]\n",
    "br3 = [x + barWidth for x in br2]\n",
    "\n",
    "plt.bar(br1, precision, color ='r', width = barWidth,\n",
    "        edgecolor ='grey', label ='Precision')\n",
    "plt.bar(br2, recall, color ='g', width = barWidth,\n",
    "        edgecolor ='grey', label ='Recall')\n",
    "plt.bar(br3, f1_score, color ='b', width = barWidth,\n",
    "        edgecolor ='grey', label ='F1 score')\n",
    "plt.xlabel('Digits', fontweight ='bold', fontsize = 15)\n",
    "plt.ylabel('Scores', fontweight ='bold', fontsize = 15)\n",
    "plt.title('Tanh: Test Data -> Precision,Recall,F1 score')\n",
    "plt.legend()\n",
    "plt.show()"
   ]
  },
  {
   "cell_type": "code",
   "execution_count": 31,
   "id": "ebb868ab",
   "metadata": {},
   "outputs": [
    {
     "name": "stdout",
     "output_type": "stream",
     "text": [
      "Accuracy of the training model: 0.859375\n"
     ]
    }
   ],
   "source": [
    "print(\"Accuracy of the training model:\",train_acc[-1])\n"
   ]
  },
  {
   "cell_type": "code",
   "execution_count": 32,
   "id": "5d68127f",
   "metadata": {},
   "outputs": [
    {
     "name": "stdout",
     "output_type": "stream",
     "text": [
      "Test Accuracy of the Model 0.9093\n"
     ]
    }
   ],
   "source": [
    "print(\"Test Accuracy of the Model\",test_accracy)"
   ]
  }
 ],
 "metadata": {
  "kernelspec": {
   "display_name": "Python 3 (ipykernel)",
   "language": "python",
   "name": "python3"
  },
  "language_info": {
   "codemirror_mode": {
    "name": "ipython",
    "version": 3
   },
   "file_extension": ".py",
   "mimetype": "text/x-python",
   "name": "python",
   "nbconvert_exporter": "python",
   "pygments_lexer": "ipython3",
   "version": "3.9.12"
  },
  "vscode": {
   "interpreter": {
    "hash": "00a1ae1e6deaa37076d141dc26cd1e058ef740ecaf1a0d690f5f0ccaa51e4cb2"
   }
  }
 },
 "nbformat": 4,
 "nbformat_minor": 5
}
