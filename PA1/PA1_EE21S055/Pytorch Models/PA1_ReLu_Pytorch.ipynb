{
  "cells": [
    {
      "cell_type": "markdown",
      "metadata": {
        "id": "dR160TI0qJSh"
      },
      "source": [
        "# PyTorch model for the basline specs but using ReLU activation "
      ]
    },
    {
      "cell_type": "markdown",
      "metadata": {
        "id": "BvD_pKHoqVtc"
      },
      "source": [
        "# Importing Libraries"
      ]
    },
    {
      "cell_type": "code",
      "execution_count": 1,
      "metadata": {
        "id": "1gofexyVrvy0"
      },
      "outputs": [],
      "source": [
        "import torch\n",
        "import torch.nn as nn\n",
        "import torchvision\n",
        "import torchvision.transforms as transforms\n",
        "import matplotlib.pyplot as plt"
      ]
    },
    {
      "cell_type": "code",
      "execution_count": 2,
      "metadata": {
        "id": "DjuRrOzVr8lr"
      },
      "outputs": [],
      "source": [
        "device = torch.device('cuda' if torch.cuda.is_available() else 'cpu')"
      ]
    },
    {
      "cell_type": "markdown",
      "metadata": {
        "id": "NKvxTa5rqgzx"
      },
      "source": [
        "Input Specifications"
      ]
    },
    {
      "cell_type": "code",
      "execution_count": 3,
      "metadata": {
        "id": "7OL8huW2sBVu"
      },
      "outputs": [],
      "source": [
        "input_size = 784 # 28x28\n",
        "hidden_size_1 = 500 \n",
        "hidden_size_2 =250\n",
        "hidden_size_3 = 100\n",
        "num_classes = 10\n",
        "num_epochs = 15\n",
        "batch_size = 64\n",
        "learning_rate = 0.01"
      ]
    },
    {
      "cell_type": "markdown",
      "metadata": {
        "id": "CkAf8xudqkyl"
      },
      "source": [
        "# Dataset Loader"
      ]
    },
    {
      "cell_type": "code",
      "execution_count": 4,
      "metadata": {
        "colab": {
          "base_uri": "https://localhost:8080/",
          "height": 423,
          "referenced_widgets": [
            "0f5a0050c05d4fa0b162a59e8a64e2b4",
            "e7e98d8fa2f640f680bff539c481a6ae",
            "da83444d44b14d0388ca23414f22ec33",
            "4aaffc7ec049482d8b56d4da296226d2",
            "d6c1f1ba624c4869875cb7008971f8e6",
            "9263a4a6c587438a989c59bee0a97b66",
            "7e80590166524bd88d5a9ad3f03ad70e",
            "833c7a9223d143c6af416e2fd59dcd2a",
            "9f669e2887b04addba79f5e5213ea261",
            "c9674a3973dd47b2ba90624bdeb9b25a",
            "9e91c1623c2947a5b4e6135efd8d8046",
            "b2473a1395af45f0a32b9648be05ceb3",
            "bd99db5d6cfd4e79a0c13e07e56b523f",
            "c76bb1650e4841648f4795e9894c89df",
            "ece5e54c24a0442eb3a1a38252e2c30c",
            "d6fe85ec84064b73948230852fdcf8b3",
            "7fa2bfa67fed46c6ac3145572fe26744",
            "0e525ef6b44e4380be506ac61d2345f3",
            "65b366f20a8d4ed289d52a64bb9af6d0",
            "be5c8e9b3a794d48b687f17d7a76b10e",
            "e31ea28d684d4f6e9a56755f821402ae",
            "cebd3eb9f1ba445ca7cf260eea56d4fe",
            "65cab7162773450899c9d828b65c9a3e",
            "8b8e233336eb45ef8a7f5bb441f1a06a",
            "8918926539c94e49b1c035d74d44ba52",
            "ff24c6f1a3ac473fa0411e6c9bef1c8b",
            "9a550155f16c4cc28db561dff9f2b736",
            "a021f3624fd1419a87b916fa9f55b9c8",
            "7575b431471e4bc7b32a8690684a7d6c",
            "05d6f90850ef4c789e5f5c92e1b9ff3a",
            "6a18216958444f0fb5528acab87a6153",
            "5b9f23ce8d3d44d487e48260265fd27e",
            "3007d8c36dcf431b95cbd87a03f2a49d",
            "61c389f4b0cc4aa5b17453817c923e8b",
            "eeee137e389344c78cb98b566f76015f",
            "c4f29118580643119f15d0d90fcefeab",
            "8d94173692544917beb26ddb502541b1",
            "44873698d70843268ddf0d8dce67fb11",
            "6b304612996a405fa56f617f6297251c",
            "6e98da92e0754cc5b741ae3201cb86e6",
            "b614d6a456c541c796d98205759cc83d",
            "872829a496dc43e59dbe563c376813fe",
            "995800b4993946eaa72d5ebf332a2af5",
            "65ac2439ad46457e95f48c4e40eb5fbe"
          ]
        },
        "id": "6rulD034sImA",
        "outputId": "7d1e3754-5b51-43f6-c910-cf831526482e"
      },
      "outputs": [
        {
          "name": "stdout",
          "output_type": "stream",
          "text": [
            "Downloading http://yann.lecun.com/exdb/mnist/train-images-idx3-ubyte.gz\n",
            "Downloading http://yann.lecun.com/exdb/mnist/train-images-idx3-ubyte.gz to ./data/MNIST/raw/train-images-idx3-ubyte.gz\n"
          ]
        },
        {
          "data": {
            "application/vnd.jupyter.widget-view+json": {
              "model_id": "0f5a0050c05d4fa0b162a59e8a64e2b4",
              "version_major": 2,
              "version_minor": 0
            },
            "text/plain": [
              "  0%|          | 0/9912422 [00:00<?, ?it/s]"
            ]
          },
          "metadata": {},
          "output_type": "display_data"
        },
        {
          "name": "stdout",
          "output_type": "stream",
          "text": [
            "Extracting ./data/MNIST/raw/train-images-idx3-ubyte.gz to ./data/MNIST/raw\n",
            "\n",
            "Downloading http://yann.lecun.com/exdb/mnist/train-labels-idx1-ubyte.gz\n",
            "Downloading http://yann.lecun.com/exdb/mnist/train-labels-idx1-ubyte.gz to ./data/MNIST/raw/train-labels-idx1-ubyte.gz\n"
          ]
        },
        {
          "data": {
            "application/vnd.jupyter.widget-view+json": {
              "model_id": "b2473a1395af45f0a32b9648be05ceb3",
              "version_major": 2,
              "version_minor": 0
            },
            "text/plain": [
              "  0%|          | 0/28881 [00:00<?, ?it/s]"
            ]
          },
          "metadata": {},
          "output_type": "display_data"
        },
        {
          "name": "stdout",
          "output_type": "stream",
          "text": [
            "Extracting ./data/MNIST/raw/train-labels-idx1-ubyte.gz to ./data/MNIST/raw\n",
            "\n",
            "Downloading http://yann.lecun.com/exdb/mnist/t10k-images-idx3-ubyte.gz\n",
            "Downloading http://yann.lecun.com/exdb/mnist/t10k-images-idx3-ubyte.gz to ./data/MNIST/raw/t10k-images-idx3-ubyte.gz\n"
          ]
        },
        {
          "data": {
            "application/vnd.jupyter.widget-view+json": {
              "model_id": "65cab7162773450899c9d828b65c9a3e",
              "version_major": 2,
              "version_minor": 0
            },
            "text/plain": [
              "  0%|          | 0/1648877 [00:00<?, ?it/s]"
            ]
          },
          "metadata": {},
          "output_type": "display_data"
        },
        {
          "name": "stdout",
          "output_type": "stream",
          "text": [
            "Extracting ./data/MNIST/raw/t10k-images-idx3-ubyte.gz to ./data/MNIST/raw\n",
            "\n",
            "Downloading http://yann.lecun.com/exdb/mnist/t10k-labels-idx1-ubyte.gz\n",
            "Downloading http://yann.lecun.com/exdb/mnist/t10k-labels-idx1-ubyte.gz to ./data/MNIST/raw/t10k-labels-idx1-ubyte.gz\n"
          ]
        },
        {
          "data": {
            "application/vnd.jupyter.widget-view+json": {
              "model_id": "61c389f4b0cc4aa5b17453817c923e8b",
              "version_major": 2,
              "version_minor": 0
            },
            "text/plain": [
              "  0%|          | 0/4542 [00:00<?, ?it/s]"
            ]
          },
          "metadata": {},
          "output_type": "display_data"
        },
        {
          "name": "stdout",
          "output_type": "stream",
          "text": [
            "Extracting ./data/MNIST/raw/t10k-labels-idx1-ubyte.gz to ./data/MNIST/raw\n",
            "\n"
          ]
        }
      ],
      "source": [
        "# Import MNIST dataset \n",
        "train_dataset = torchvision.datasets.MNIST(root='./data', \n",
        "                                           train=True, \n",
        "                                           transform=transforms.ToTensor(),  \n",
        "                                           download=True)\n",
        "\n",
        "test_dataset = torchvision.datasets.MNIST(root='./data', \n",
        "                                          train=False, \n",
        "                                          transform=transforms.ToTensor())"
      ]
    },
    {
      "cell_type": "code",
      "execution_count": 5,
      "metadata": {
        "id": "VYnbDIMo0W6M"
      },
      "outputs": [],
      "source": [
        "# Data loader\n",
        "train_loader = torch.utils.data.DataLoader(dataset=train_dataset, \n",
        "                                           batch_size=batch_size, \n",
        "                                           shuffle=True)\n",
        "\n",
        "test_loader = torch.utils.data.DataLoader(dataset=test_dataset, \n",
        "                                          batch_size=batch_size, \n",
        "                                          shuffle=False)\n"
      ]
    },
    {
      "cell_type": "code",
      "execution_count": 6,
      "metadata": {
        "colab": {
          "base_uri": "https://localhost:8080/",
          "height": 267
        },
        "id": "ycAsxmrG0ala",
        "outputId": "6c892b90-fb94-41bf-c285-31f4b3fdc383"
      },
      "outputs": [
        {
          "data": {
            "image/png": "[encoded data removed]",
            "text/plain": [
              "<Figure size 432x288 with 6 Axes>"
            ]
          },
          "metadata": {
            "needs_background": "light"
          },
          "output_type": "display_data"
        }
      ],
      "source": [
        "examples = iter(test_loader)\n",
        "example_data, example_targets = examples.next()\n",
        "\n",
        "for i in range(6):\n",
        "    plt.subplot(2,3,i+1)\n",
        "    plt.imshow(example_data[i][0], cmap='gray')\n",
        "plt.show()"
      ]
    },
    {
      "cell_type": "markdown",
      "metadata": {
        "id": "OnNG9pPsqwow"
      },
      "source": [
        "# Forward prop and building the model using the specified activation function"
      ]
    },
    {
      "cell_type": "code",
      "execution_count": 7,
      "metadata": {
        "id": "6z3xLeir_8JY"
      },
      "outputs": [],
      "source": [
        "# Fully connected neural network\n",
        "class NeuralNet(nn.Module):\n",
        "    def __init__(self, input_size, hidden_size_1,hidden_size_2,hidden_size_3, num_classes):\n",
        "        super(NeuralNet, self).__init__()\n",
        "        self.input_size = input_size\n",
        "        self.l1 = nn.Linear(input_size, hidden_size_1) \n",
        "        self.relu = nn.ReLU()\n",
        "        self.l2 = nn.Linear(hidden_size_1, hidden_size_2)\n",
        "\n",
        "        self.l3 = nn.Linear(hidden_size_2, hidden_size_3)\n",
        "        \n",
        "        self.l4 = nn.Linear(hidden_size_3, num_classes)\n",
        "        self.softmax = nn.LogSoftmax(dim = 1) \n",
        "    \n",
        "    def forward(self, x):\n",
        "        out = self.l1(x)\n",
        "        out = self.relu(out)\n",
        "        out = self.l2(out)\n",
        "        out = self.relu(out)\n",
        "        out = self.l3(out)\n",
        "        out = self.relu(out)\n",
        "        out = self.l4(out)\n",
        "        out = self.softmax(out)\n",
        "        \n",
        "        return out\n",
        "\n",
        "\n",
        "model = NeuralNet(input_size, hidden_size_1,hidden_size_2,hidden_size_3, num_classes).to(device)"
      ]
    },
    {
      "cell_type": "markdown",
      "metadata": {
        "id": "8kOTQcF1q5jG"
      },
      "source": [
        "# ADAM Optimizer \\\n",
        "$\\beta_1$ = 0.9 \\\n",
        "$\\beta_2$ = 0.999 \\\n",
        "$\\epsilon$ = 10^-8 "
      ]
    },
    {
      "cell_type": "code",
      "execution_count": 18,
      "metadata": {
        "id": "fzDMJJLnCdFA"
      },
      "outputs": [],
      "source": [
        "# Loss and optimizer\n",
        "criterion = nn.CrossEntropyLoss()\n",
        "optimizer = torch.optim.Adam(model.parameters(),lr=0.001, betas=(0.9, 0.999), eps=1e-08 )"
      ]
    },
    {
      "cell_type": "markdown",
      "metadata": {
        "id": "bOK7xdnarN28"
      },
      "source": [
        "# Training the model"
      ]
    },
    {
      "cell_type": "code",
      "execution_count": 20,
      "metadata": {
        "colab": {
          "base_uri": "https://localhost:8080/"
        },
        "id": "nWXFSZUmDjhG",
        "outputId": "f456f117-e954-4a41-8878-698c5e323322"
      },
      "outputs": [
        {
          "name": "stdout",
          "output_type": "stream",
          "text": [
            "Epoch [1/15], Step [100/938], Loss: 0.1147\n",
            "Epoch [1/15], Step [200/938], Loss: 0.0060\n",
            "Epoch [1/15], Step [300/938], Loss: 0.0349\n",
            "Epoch [1/15], Step [400/938], Loss: 0.0033\n",
            "Epoch [1/15], Step [500/938], Loss: 0.0001\n",
            "Epoch [1/15], Step [600/938], Loss: 0.0274\n",
            "Epoch [1/15], Step [700/938], Loss: 0.0009\n",
            "Epoch [1/15], Step [800/938], Loss: 0.0008\n",
            "Epoch [1/15], Step [900/938], Loss: 0.0003\n",
            "Epoch [2/15], Step [100/938], Loss: 0.0003\n",
            "Epoch [2/15], Step [200/938], Loss: 0.0002\n",
            "Epoch [2/15], Step [300/938], Loss: 0.1052\n",
            "Epoch [2/15], Step [400/938], Loss: 0.0041\n",
            "Epoch [2/15], Step [500/938], Loss: 0.0001\n",
            "Epoch [2/15], Step [600/938], Loss: 0.0134\n",
            "Epoch [2/15], Step [700/938], Loss: 0.0041\n",
            "Epoch [2/15], Step [800/938], Loss: 0.0007\n",
            "Epoch [2/15], Step [900/938], Loss: 0.0001\n",
            "Epoch [3/15], Step [100/938], Loss: 0.0280\n",
            "Epoch [3/15], Step [200/938], Loss: 0.0774\n",
            "Epoch [3/15], Step [300/938], Loss: 0.0013\n",
            "Epoch [3/15], Step [400/938], Loss: 0.0037\n",
            "Epoch [3/15], Step [500/938], Loss: 0.0004\n",
            "Epoch [3/15], Step [600/938], Loss: 0.0023\n",
            "Epoch [3/15], Step [700/938], Loss: 0.0001\n",
            "Epoch [3/15], Step [800/938], Loss: 0.0001\n",
            "Epoch [3/15], Step [900/938], Loss: 0.0072\n",
            "Epoch [4/15], Step [100/938], Loss: 0.0007\n",
            "Epoch [4/15], Step [200/938], Loss: 0.0092\n",
            "Epoch [4/15], Step [300/938], Loss: 0.0100\n",
            "Epoch [4/15], Step [400/938], Loss: 0.0042\n",
            "Epoch [4/15], Step [500/938], Loss: 0.0005\n",
            "Epoch [4/15], Step [600/938], Loss: 0.0112\n",
            "Epoch [4/15], Step [700/938], Loss: 0.0179\n",
            "Epoch [4/15], Step [800/938], Loss: 0.0014\n",
            "Epoch [4/15], Step [900/938], Loss: 0.0002\n",
            "Epoch [5/15], Step [100/938], Loss: 0.0002\n",
            "Epoch [5/15], Step [200/938], Loss: 0.0002\n",
            "Epoch [5/15], Step [300/938], Loss: 0.1585\n",
            "Epoch [5/15], Step [400/938], Loss: 0.0654\n",
            "Epoch [5/15], Step [500/938], Loss: 0.0003\n",
            "Epoch [5/15], Step [600/938], Loss: 0.0003\n",
            "Epoch [5/15], Step [700/938], Loss: 0.2587\n",
            "Epoch [5/15], Step [800/938], Loss: 0.0016\n",
            "Epoch [5/15], Step [900/938], Loss: 0.0148\n",
            "Epoch [6/15], Step [100/938], Loss: 0.0021\n",
            "Epoch [6/15], Step [200/938], Loss: 0.0004\n",
            "Epoch [6/15], Step [300/938], Loss: 0.1208\n",
            "Epoch [6/15], Step [400/938], Loss: 0.0029\n",
            "Epoch [6/15], Step [500/938], Loss: 0.0062\n",
            "Epoch [6/15], Step [600/938], Loss: 0.0100\n",
            "Epoch [6/15], Step [700/938], Loss: 0.0337\n",
            "Epoch [6/15], Step [800/938], Loss: 0.0759\n",
            "Epoch [6/15], Step [900/938], Loss: 0.0035\n",
            "Epoch [7/15], Step [100/938], Loss: 0.0085\n",
            "Epoch [7/15], Step [200/938], Loss: 0.1267\n",
            "Epoch [7/15], Step [300/938], Loss: 0.0003\n",
            "Epoch [7/15], Step [400/938], Loss: 0.0000\n",
            "Epoch [7/15], Step [500/938], Loss: 0.0010\n",
            "Epoch [7/15], Step [600/938], Loss: 0.0001\n",
            "Epoch [7/15], Step [700/938], Loss: 0.0249\n",
            "Epoch [7/15], Step [800/938], Loss: 0.0018\n",
            "Epoch [7/15], Step [900/938], Loss: 0.0012\n",
            "Epoch [8/15], Step [100/938], Loss: 0.0031\n",
            "Epoch [8/15], Step [200/938], Loss: 0.0223\n",
            "Epoch [8/15], Step [300/938], Loss: 0.0015\n",
            "Epoch [8/15], Step [400/938], Loss: 0.0001\n",
            "Epoch [8/15], Step [500/938], Loss: 0.0017\n",
            "Epoch [8/15], Step [600/938], Loss: 0.0004\n",
            "Epoch [8/15], Step [700/938], Loss: 0.0004\n",
            "Epoch [8/15], Step [800/938], Loss: 0.0068\n",
            "Epoch [8/15], Step [900/938], Loss: 0.0766\n",
            "Epoch [9/15], Step [100/938], Loss: 0.0001\n",
            "Epoch [9/15], Step [200/938], Loss: 0.0000\n",
            "Epoch [9/15], Step [300/938], Loss: 0.0006\n",
            "Epoch [9/15], Step [400/938], Loss: 0.0095\n",
            "Epoch [9/15], Step [500/938], Loss: 0.0043\n",
            "Epoch [9/15], Step [600/938], Loss: 0.0001\n",
            "Epoch [9/15], Step [700/938], Loss: 0.0001\n",
            "Epoch [9/15], Step [800/938], Loss: 0.0003\n",
            "Epoch [9/15], Step [900/938], Loss: 0.0005\n",
            "Epoch [10/15], Step [100/938], Loss: 0.0000\n",
            "Epoch [10/15], Step [200/938], Loss: 0.0003\n",
            "Epoch [10/15], Step [300/938], Loss: 0.0007\n",
            "Epoch [10/15], Step [400/938], Loss: 0.0008\n",
            "Epoch [10/15], Step [500/938], Loss: 0.0008\n",
            "Epoch [10/15], Step [600/938], Loss: 0.0000\n",
            "Epoch [10/15], Step [700/938], Loss: 0.0020\n",
            "Epoch [10/15], Step [800/938], Loss: 0.0054\n",
            "Epoch [10/15], Step [900/938], Loss: 0.0142\n",
            "Epoch [11/15], Step [100/938], Loss: 0.0040\n",
            "Epoch [11/15], Step [200/938], Loss: 0.0163\n",
            "Epoch [11/15], Step [300/938], Loss: 0.0002\n",
            "Epoch [11/15], Step [400/938], Loss: 0.0908\n",
            "Epoch [11/15], Step [500/938], Loss: 0.0067\n",
            "Epoch [11/15], Step [600/938], Loss: 0.0130\n",
            "Epoch [11/15], Step [700/938], Loss: 0.0071\n",
            "Epoch [11/15], Step [800/938], Loss: 0.0001\n",
            "Epoch [11/15], Step [900/938], Loss: 0.0036\n",
            "Epoch [12/15], Step [100/938], Loss: 0.0001\n",
            "Epoch [12/15], Step [200/938], Loss: 0.0000\n",
            "Epoch [12/15], Step [300/938], Loss: 0.0001\n",
            "Epoch [12/15], Step [400/938], Loss: 0.0000\n",
            "Epoch [12/15], Step [500/938], Loss: 0.0003\n",
            "Epoch [12/15], Step [600/938], Loss: 0.0002\n",
            "Epoch [12/15], Step [700/938], Loss: 0.0065\n",
            "Epoch [12/15], Step [800/938], Loss: 0.0009\n",
            "Epoch [12/15], Step [900/938], Loss: 0.0003\n",
            "Epoch [13/15], Step [100/938], Loss: 0.0389\n",
            "Epoch [13/15], Step [200/938], Loss: 0.0000\n",
            "Epoch [13/15], Step [300/938], Loss: 0.0001\n",
            "Epoch [13/15], Step [400/938], Loss: 0.0021\n",
            "Epoch [13/15], Step [500/938], Loss: 0.0002\n",
            "Epoch [13/15], Step [600/938], Loss: 0.0073\n",
            "Epoch [13/15], Step [700/938], Loss: 0.0003\n",
            "Epoch [13/15], Step [800/938], Loss: 0.2262\n",
            "Epoch [13/15], Step [900/938], Loss: 0.0001\n",
            "Epoch [14/15], Step [100/938], Loss: 0.0002\n",
            "Epoch [14/15], Step [200/938], Loss: 0.0088\n",
            "Epoch [14/15], Step [300/938], Loss: 0.0011\n",
            "Epoch [14/15], Step [400/938], Loss: 0.0000\n",
            "Epoch [14/15], Step [500/938], Loss: 0.0017\n",
            "Epoch [14/15], Step [600/938], Loss: 0.0003\n",
            "Epoch [14/15], Step [700/938], Loss: 0.0008\n",
            "Epoch [14/15], Step [800/938], Loss: 0.0051\n",
            "Epoch [14/15], Step [900/938], Loss: 0.0003\n",
            "Epoch [15/15], Step [100/938], Loss: 0.0026\n",
            "Epoch [15/15], Step [200/938], Loss: 0.0001\n",
            "Epoch [15/15], Step [300/938], Loss: 0.0011\n",
            "Epoch [15/15], Step [400/938], Loss: 0.0001\n",
            "Epoch [15/15], Step [500/938], Loss: 0.0007\n",
            "Epoch [15/15], Step [600/938], Loss: 0.0210\n",
            "Epoch [15/15], Step [700/938], Loss: 0.0048\n",
            "Epoch [15/15], Step [800/938], Loss: 0.0022\n",
            "Epoch [15/15], Step [900/938], Loss: 0.0001\n"
          ]
        }
      ],
      "source": [
        "# Train the model\n",
        "loss_log = []\n",
        "n_total_steps = len(train_loader)\n",
        "for epoch in range(num_epochs):\n",
        "    for i, (images, labels) in enumerate(train_loader):  \n",
        "        # origin shape: [100, 1, 28, 28]\n",
        "        # resized: [100, 784]\n",
        "        images = images.reshape(-1, 28*28).to(device)\n",
        "        labels = labels.to(device)\n",
        "\n",
        "        # Forward pass\n",
        "        outputs = model(images)\n",
        "        loss = criterion(outputs, labels)\n",
        "\n",
        "        # Backward and optimize\n",
        "        optimizer.zero_grad()\n",
        "        loss.backward()\n",
        "        optimizer.step()\n",
        "\n",
        "\n",
        "        if (i+1) % 100 == 0:\n",
        "            print (f'Epoch [{epoch+1}/{num_epochs}], Step [{i+1}/{n_total_steps}], Loss: {loss.item():.4f}')\n",
        "            loss_log.append(loss.item())"
      ]
    },
    {
      "cell_type": "code",
      "execution_count": 16,
      "metadata": {
        "colab": {
          "base_uri": "https://localhost:8080/",
          "height": 500
        },
        "id": "tD176K6QsR-j",
        "outputId": "6f62ab2c-dfb6-4e34-9d24-d348bc389fdc"
      },
      "outputs": [
        {
          "data": {
            "text/plain": [
              "[<matplotlib.lines.Line2D at 0x7f30c0f2ff90>]"
            ]
          },
          "execution_count": 16,
          "metadata": {},
          "output_type": "execute_result"
        },
        {
          "data": {
            "image/png": "[encoded data removed]",
            "text/plain": [
              "<Figure size 720x576 with 1 Axes>"
            ]
          },
          "metadata": {
            "needs_background": "light"
          },
          "output_type": "display_data"
        }
      ],
      "source": [
        "plt.figure(figsize=(10,8))\n",
        "plt.plot(loss_log)"
      ]
    },
    {
      "cell_type": "markdown",
      "metadata": {
        "id": "HVO0mRWprQ12"
      },
      "source": [
        "# Testing the model\n"
      ]
    },
    {
      "cell_type": "code",
      "execution_count": 10,
      "metadata": {
        "colab": {
          "base_uri": "https://localhost:8080/"
        },
        "id": "F3XJ15TvDn7R",
        "outputId": "694f1761-5827-4dc9-c470-0e6ecb0905c3"
      },
      "outputs": [
        {
          "name": "stdout",
          "output_type": "stream",
          "text": [
            "Accuracy of the network on the 10000 test images: 97.98 %\n"
          ]
        }
      ],
      "source": [
        "# Test the model\n",
        "# In test phase, we don't need to compute gradients (for memory efficiency)\n",
        "with torch.no_grad():\n",
        "    n_correct = 0\n",
        "    n_samples = 0\n",
        "    for images, labels in test_loader:\n",
        "        images = images.reshape(-1, 28*28).to(device)\n",
        "        labels = labels.to(device)\n",
        "        outputs = model(images)\n",
        "        # max returns (value ,index)\n",
        "        _, predicted = torch.max(outputs.data, 1)\n",
        "        n_samples += labels.size(0)\n",
        "        n_correct += (predicted == labels).sum().item()\n",
        "\n",
        "    acc = 100.0 * n_correct / n_samples\n",
        "    print(f'Accuracy of the network on the 10000 test images: {acc} %')"
      ]
    }
  ],
  "metadata": {
    "accelerator": "GPU",
    "colab": {
      "collapsed_sections": [],
      "name": "PA1_ReLu(1).ipynb",
      "provenance": []
    },
    "kernelspec": {
      "display_name": "Python 3.8.10 64-bit",
      "language": "python",
      "name": "python3"
    },
    "language_info": {
      "name": "python",
      "version": "3.8.10"
    },
    "vscode": {
      "interpreter": {
        "hash": "916dbcbb3f70747c44a77c7bcd40155683ae19c65e1c03b4aa3499c5328201f1"
      }
    },
    "widgets": {
      "application/vnd.jupyter.widget-state+json": {
        "05d6f90850ef4c789e5f5c92e1b9ff3a": {
          "model_module": "@jupyter-widgets/base",
          "model_module_version": "1.2.0",
          "model_name": "LayoutModel",
          "state": {
            "_model_module": "@jupyter-widgets/base",
            "_model_module_version": "1.2.0",
            "_model_name": "LayoutModel",
            "_view_count": null,
            "_view_module": "@jupyter-widgets/base",
            "_view_module_version": "1.2.0",
            "_view_name": "LayoutView",
            "align_content": null,
            "align_items": null,
            "align_self": null,
            "border": null,
            "bottom": null,
            "display": null,
            "flex": null,
            "flex_flow": null,
            "grid_area": null,
            "grid_auto_columns": null,
            "grid_auto_flow": null,
            "grid_auto_rows": null,
            "grid_column": null,
            "grid_gap": null,
            "grid_row": null,
            "grid_template_areas": null,
            "grid_template_columns": null,
            "grid_template_rows": null,
            "height": null,
            "justify_content": null,
            "justify_items": null,
            "left": null,
            "margin": null,
            "max_height": null,
            "max_width": null,
            "min_height": null,
            "min_width": null,
            "object_fit": null,
            "object_position": null,
            "order": null,
            "overflow": null,
            "overflow_x": null,
            "overflow_y": null,
            "padding": null,
            "right": null,
            "top": null,
            "visibility": null,
            "width": null
          }
        },
        "0e525ef6b44e4380be506ac61d2345f3": {
          "model_module": "@jupyter-widgets/controls",
          "model_module_version": "1.5.0",
          "model_name": "DescriptionStyleModel",
          "state": {
            "_model_module": "@jupyter-widgets/controls",
            "_model_module_version": "1.5.0",
            "_model_name": "DescriptionStyleModel",
            "_view_count": null,
            "_view_module": "@jupyter-widgets/base",
            "_view_module_version": "1.2.0",
            "_view_name": "StyleView",
            "description_width": ""
          }
        },
        "0f5a0050c05d4fa0b162a59e8a64e2b4": {
          "model_module": "@jupyter-widgets/controls",
          "model_module_version": "1.5.0",
          "model_name": "HBoxModel",
          "state": {
            "_dom_classes": [],
            "_model_module": "@jupyter-widgets/controls",
            "_model_module_version": "1.5.0",
            "_model_name": "HBoxModel",
            "_view_count": null,
            "_view_module": "@jupyter-widgets/controls",
            "_view_module_version": "1.5.0",
            "_view_name": "HBoxView",
            "box_style": "",
            "children": [
              "IPY_MODEL_e7e98d8fa2f640f680bff539c481a6ae",
              "IPY_MODEL_da83444d44b14d0388ca23414f22ec33",
              "IPY_MODEL_4aaffc7ec049482d8b56d4da296226d2"
            ],
            "layout": "IPY_MODEL_d6c1f1ba624c4869875cb7008971f8e6"
          }
        },
        "3007d8c36dcf431b95cbd87a03f2a49d": {
          "model_module": "@jupyter-widgets/controls",
          "model_module_version": "1.5.0",
          "model_name": "DescriptionStyleModel",
          "state": {
            "_model_module": "@jupyter-widgets/controls",
            "_model_module_version": "1.5.0",
            "_model_name": "DescriptionStyleModel",
            "_view_count": null,
            "_view_module": "@jupyter-widgets/base",
            "_view_module_version": "1.2.0",
            "_view_name": "StyleView",
            "description_width": ""
          }
        },
        "44873698d70843268ddf0d8dce67fb11": {
          "model_module": "@jupyter-widgets/base",
          "model_module_version": "1.2.0",
          "model_name": "LayoutModel",
          "state": {
            "_model_module": "@jupyter-widgets/base",
            "_model_module_version": "1.2.0",
            "_model_name": "LayoutModel",
            "_view_count": null,
            "_view_module": "@jupyter-widgets/base",
            "_view_module_version": "1.2.0",
            "_view_name": "LayoutView",
            "align_content": null,
            "align_items": null,
            "align_self": null,
            "border": null,
            "bottom": null,
            "display": null,
            "flex": null,
            "flex_flow": null,
            "grid_area": null,
            "grid_auto_columns": null,
            "grid_auto_flow": null,
            "grid_auto_rows": null,
            "grid_column": null,
            "grid_gap": null,
            "grid_row": null,
            "grid_template_areas": null,
            "grid_template_columns": null,
            "grid_template_rows": null,
            "height": null,
            "justify_content": null,
            "justify_items": null,
            "left": null,
            "margin": null,
            "max_height": null,
            "max_width": null,
            "min_height": null,
            "min_width": null,
            "object_fit": null,
            "object_position": null,
            "order": null,
            "overflow": null,
            "overflow_x": null,
            "overflow_y": null,
            "padding": null,
            "right": null,
            "top": null,
            "visibility": null,
            "width": null
          }
        },
        "4aaffc7ec049482d8b56d4da296226d2": {
          "model_module": "@jupyter-widgets/controls",
          "model_module_version": "1.5.0",
          "model_name": "HTMLModel",
          "state": {
            "_dom_classes": [],
            "_model_module": "@jupyter-widgets/controls",
            "_model_module_version": "1.5.0",
            "_model_name": "HTMLModel",
            "_view_count": null,
            "_view_module": "@jupyter-widgets/controls",
            "_view_module_version": "1.5.0",
            "_view_name": "HTMLView",
            "description": "",
            "description_tooltip": null,
            "layout": "IPY_MODEL_c9674a3973dd47b2ba90624bdeb9b25a",
            "placeholder": "​",
            "style": "IPY_MODEL_9e91c1623c2947a5b4e6135efd8d8046",
            "value": " 9912422/9912422 [00:00&lt;00:00, 43842159.46it/s]"
          }
        },
        "5b9f23ce8d3d44d487e48260265fd27e": {
          "model_module": "@jupyter-widgets/base",
          "model_module_version": "1.2.0",
          "model_name": "LayoutModel",
          "state": {
            "_model_module": "@jupyter-widgets/base",
            "_model_module_version": "1.2.0",
            "_model_name": "LayoutModel",
            "_view_count": null,
            "_view_module": "@jupyter-widgets/base",
            "_view_module_version": "1.2.0",
            "_view_name": "LayoutView",
            "align_content": null,
            "align_items": null,
            "align_self": null,
            "border": null,
            "bottom": null,
            "display": null,
            "flex": null,
            "flex_flow": null,
            "grid_area": null,
            "grid_auto_columns": null,
            "grid_auto_flow": null,
            "grid_auto_rows": null,
            "grid_column": null,
            "grid_gap": null,
            "grid_row": null,
            "grid_template_areas": null,
            "grid_template_columns": null,
            "grid_template_rows": null,
            "height": null,
            "justify_content": null,
            "justify_items": null,
            "left": null,
            "margin": null,
            "max_height": null,
            "max_width": null,
            "min_height": null,
            "min_width": null,
            "object_fit": null,
            "object_position": null,
            "order": null,
            "overflow": null,
            "overflow_x": null,
            "overflow_y": null,
            "padding": null,
            "right": null,
            "top": null,
            "visibility": null,
            "width": null
          }
        },
        "61c389f4b0cc4aa5b17453817c923e8b": {
          "model_module": "@jupyter-widgets/controls",
          "model_module_version": "1.5.0",
          "model_name": "HBoxModel",
          "state": {
            "_dom_classes": [],
            "_model_module": "@jupyter-widgets/controls",
            "_model_module_version": "1.5.0",
            "_model_name": "HBoxModel",
            "_view_count": null,
            "_view_module": "@jupyter-widgets/controls",
            "_view_module_version": "1.5.0",
            "_view_name": "HBoxView",
            "box_style": "",
            "children": [
              "IPY_MODEL_eeee137e389344c78cb98b566f76015f",
              "IPY_MODEL_c4f29118580643119f15d0d90fcefeab",
              "IPY_MODEL_8d94173692544917beb26ddb502541b1"
            ],
            "layout": "IPY_MODEL_44873698d70843268ddf0d8dce67fb11"
          }
        },
        "65ac2439ad46457e95f48c4e40eb5fbe": {
          "model_module": "@jupyter-widgets/controls",
          "model_module_version": "1.5.0",
          "model_name": "DescriptionStyleModel",
          "state": {
            "_model_module": "@jupyter-widgets/controls",
            "_model_module_version": "1.5.0",
            "_model_name": "DescriptionStyleModel",
            "_view_count": null,
            "_view_module": "@jupyter-widgets/base",
            "_view_module_version": "1.2.0",
            "_view_name": "StyleView",
            "description_width": ""
          }
        },
        "65b366f20a8d4ed289d52a64bb9af6d0": {
          "model_module": "@jupyter-widgets/base",
          "model_module_version": "1.2.0",
          "model_name": "LayoutModel",
          "state": {
            "_model_module": "@jupyter-widgets/base",
            "_model_module_version": "1.2.0",
            "_model_name": "LayoutModel",
            "_view_count": null,
            "_view_module": "@jupyter-widgets/base",
            "_view_module_version": "1.2.0",
            "_view_name": "LayoutView",
            "align_content": null,
            "align_items": null,
            "align_self": null,
            "border": null,
            "bottom": null,
            "display": null,
            "flex": null,
            "flex_flow": null,
            "grid_area": null,
            "grid_auto_columns": null,
            "grid_auto_flow": null,
            "grid_auto_rows": null,
            "grid_column": null,
            "grid_gap": null,
            "grid_row": null,
            "grid_template_areas": null,
            "grid_template_columns": null,
            "grid_template_rows": null,
            "height": null,
            "justify_content": null,
            "justify_items": null,
            "left": null,
            "margin": null,
            "max_height": null,
            "max_width": null,
            "min_height": null,
            "min_width": null,
            "object_fit": null,
            "object_position": null,
            "order": null,
            "overflow": null,
            "overflow_x": null,
            "overflow_y": null,
            "padding": null,
            "right": null,
            "top": null,
            "visibility": null,
            "width": null
          }
        },
        "65cab7162773450899c9d828b65c9a3e": {
          "model_module": "@jupyter-widgets/controls",
          "model_module_version": "1.5.0",
          "model_name": "HBoxModel",
          "state": {
            "_dom_classes": [],
            "_model_module": "@jupyter-widgets/controls",
            "_model_module_version": "1.5.0",
            "_model_name": "HBoxModel",
            "_view_count": null,
            "_view_module": "@jupyter-widgets/controls",
            "_view_module_version": "1.5.0",
            "_view_name": "HBoxView",
            "box_style": "",
            "children": [
              "IPY_MODEL_8b8e233336eb45ef8a7f5bb441f1a06a",
              "IPY_MODEL_8918926539c94e49b1c035d74d44ba52",
              "IPY_MODEL_ff24c6f1a3ac473fa0411e6c9bef1c8b"
            ],
            "layout": "IPY_MODEL_9a550155f16c4cc28db561dff9f2b736"
          }
        },
        "6a18216958444f0fb5528acab87a6153": {
          "model_module": "@jupyter-widgets/controls",
          "model_module_version": "1.5.0",
          "model_name": "ProgressStyleModel",
          "state": {
            "_model_module": "@jupyter-widgets/controls",
            "_model_module_version": "1.5.0",
            "_model_name": "ProgressStyleModel",
            "_view_count": null,
            "_view_module": "@jupyter-widgets/base",
            "_view_module_version": "1.2.0",
            "_view_name": "StyleView",
            "bar_color": null,
            "description_width": ""
          }
        },
        "6b304612996a405fa56f617f6297251c": {
          "model_module": "@jupyter-widgets/base",
          "model_module_version": "1.2.0",
          "model_name": "LayoutModel",
          "state": {
            "_model_module": "@jupyter-widgets/base",
            "_model_module_version": "1.2.0",
            "_model_name": "LayoutModel",
            "_view_count": null,
            "_view_module": "@jupyter-widgets/base",
            "_view_module_version": "1.2.0",
            "_view_name": "LayoutView",
            "align_content": null,
            "align_items": null,
            "align_self": null,
            "border": null,
            "bottom": null,
            "display": null,
            "flex": null,
            "flex_flow": null,
            "grid_area": null,
            "grid_auto_columns": null,
            "grid_auto_flow": null,
            "grid_auto_rows": null,
            "grid_column": null,
            "grid_gap": null,
            "grid_row": null,
            "grid_template_areas": null,
            "grid_template_columns": null,
            "grid_template_rows": null,
            "height": null,
            "justify_content": null,
            "justify_items": null,
            "left": null,
            "margin": null,
            "max_height": null,
            "max_width": null,
            "min_height": null,
            "min_width": null,
            "object_fit": null,
            "object_position": null,
            "order": null,
            "overflow": null,
            "overflow_x": null,
            "overflow_y": null,
            "padding": null,
            "right": null,
            "top": null,
            "visibility": null,
            "width": null
          }
        },
        "6e98da92e0754cc5b741ae3201cb86e6": {
          "model_module": "@jupyter-widgets/controls",
          "model_module_version": "1.5.0",
          "model_name": "DescriptionStyleModel",
          "state": {
            "_model_module": "@jupyter-widgets/controls",
            "_model_module_version": "1.5.0",
            "_model_name": "DescriptionStyleModel",
            "_view_count": null,
            "_view_module": "@jupyter-widgets/base",
            "_view_module_version": "1.2.0",
            "_view_name": "StyleView",
            "description_width": ""
          }
        },
        "7575b431471e4bc7b32a8690684a7d6c": {
          "model_module": "@jupyter-widgets/controls",
          "model_module_version": "1.5.0",
          "model_name": "DescriptionStyleModel",
          "state": {
            "_model_module": "@jupyter-widgets/controls",
            "_model_module_version": "1.5.0",
            "_model_name": "DescriptionStyleModel",
            "_view_count": null,
            "_view_module": "@jupyter-widgets/base",
            "_view_module_version": "1.2.0",
            "_view_name": "StyleView",
            "description_width": ""
          }
        },
        "7e80590166524bd88d5a9ad3f03ad70e": {
          "model_module": "@jupyter-widgets/controls",
          "model_module_version": "1.5.0",
          "model_name": "DescriptionStyleModel",
          "state": {
            "_model_module": "@jupyter-widgets/controls",
            "_model_module_version": "1.5.0",
            "_model_name": "DescriptionStyleModel",
            "_view_count": null,
            "_view_module": "@jupyter-widgets/base",
            "_view_module_version": "1.2.0",
            "_view_name": "StyleView",
            "description_width": ""
          }
        },
        "7fa2bfa67fed46c6ac3145572fe26744": {
          "model_module": "@jupyter-widgets/base",
          "model_module_version": "1.2.0",
          "model_name": "LayoutModel",
          "state": {
            "_model_module": "@jupyter-widgets/base",
            "_model_module_version": "1.2.0",
            "_model_name": "LayoutModel",
            "_view_count": null,
            "_view_module": "@jupyter-widgets/base",
            "_view_module_version": "1.2.0",
            "_view_name": "LayoutView",
            "align_content": null,
            "align_items": null,
            "align_self": null,
            "border": null,
            "bottom": null,
            "display": null,
            "flex": null,
            "flex_flow": null,
            "grid_area": null,
            "grid_auto_columns": null,
            "grid_auto_flow": null,
            "grid_auto_rows": null,
            "grid_column": null,
            "grid_gap": null,
            "grid_row": null,
            "grid_template_areas": null,
            "grid_template_columns": null,
            "grid_template_rows": null,
            "height": null,
            "justify_content": null,
            "justify_items": null,
            "left": null,
            "margin": null,
            "max_height": null,
            "max_width": null,
            "min_height": null,
            "min_width": null,
            "object_fit": null,
            "object_position": null,
            "order": null,
            "overflow": null,
            "overflow_x": null,
            "overflow_y": null,
            "padding": null,
            "right": null,
            "top": null,
            "visibility": null,
            "width": null
          }
        },
        "833c7a9223d143c6af416e2fd59dcd2a": {
          "model_module": "@jupyter-widgets/base",
          "model_module_version": "1.2.0",
          "model_name": "LayoutModel",
          "state": {
            "_model_module": "@jupyter-widgets/base",
            "_model_module_version": "1.2.0",
            "_model_name": "LayoutModel",
            "_view_count": null,
            "_view_module": "@jupyter-widgets/base",
            "_view_module_version": "1.2.0",
            "_view_name": "LayoutView",
            "align_content": null,
            "align_items": null,
            "align_self": null,
            "border": null,
            "bottom": null,
            "display": null,
            "flex": null,
            "flex_flow": null,
            "grid_area": null,
            "grid_auto_columns": null,
            "grid_auto_flow": null,
            "grid_auto_rows": null,
            "grid_column": null,
            "grid_gap": null,
            "grid_row": null,
            "grid_template_areas": null,
            "grid_template_columns": null,
            "grid_template_rows": null,
            "height": null,
            "justify_content": null,
            "justify_items": null,
            "left": null,
            "margin": null,
            "max_height": null,
            "max_width": null,
            "min_height": null,
            "min_width": null,
            "object_fit": null,
            "object_position": null,
            "order": null,
            "overflow": null,
            "overflow_x": null,
            "overflow_y": null,
            "padding": null,
            "right": null,
            "top": null,
            "visibility": null,
            "width": null
          }
        },
        "872829a496dc43e59dbe563c376813fe": {
          "model_module": "@jupyter-widgets/controls",
          "model_module_version": "1.5.0",
          "model_name": "ProgressStyleModel",
          "state": {
            "_model_module": "@jupyter-widgets/controls",
            "_model_module_version": "1.5.0",
            "_model_name": "ProgressStyleModel",
            "_view_count": null,
            "_view_module": "@jupyter-widgets/base",
            "_view_module_version": "1.2.0",
            "_view_name": "StyleView",
            "bar_color": null,
            "description_width": ""
          }
        },
        "8918926539c94e49b1c035d74d44ba52": {
          "model_module": "@jupyter-widgets/controls",
          "model_module_version": "1.5.0",
          "model_name": "FloatProgressModel",
          "state": {
            "_dom_classes": [],
            "_model_module": "@jupyter-widgets/controls",
            "_model_module_version": "1.5.0",
            "_model_name": "FloatProgressModel",
            "_view_count": null,
            "_view_module": "@jupyter-widgets/controls",
            "_view_module_version": "1.5.0",
            "_view_name": "ProgressView",
            "bar_style": "success",
            "description": "",
            "description_tooltip": null,
            "layout": "IPY_MODEL_05d6f90850ef4c789e5f5c92e1b9ff3a",
            "max": 1648877,
            "min": 0,
            "orientation": "horizontal",
            "style": "IPY_MODEL_6a18216958444f0fb5528acab87a6153",
            "value": 1648877
          }
        },
        "8b8e233336eb45ef8a7f5bb441f1a06a": {
          "model_module": "@jupyter-widgets/controls",
          "model_module_version": "1.5.0",
          "model_name": "HTMLModel",
          "state": {
            "_dom_classes": [],
            "_model_module": "@jupyter-widgets/controls",
            "_model_module_version": "1.5.0",
            "_model_name": "HTMLModel",
            "_view_count": null,
            "_view_module": "@jupyter-widgets/controls",
            "_view_module_version": "1.5.0",
            "_view_name": "HTMLView",
            "description": "",
            "description_tooltip": null,
            "layout": "IPY_MODEL_a021f3624fd1419a87b916fa9f55b9c8",
            "placeholder": "​",
            "style": "IPY_MODEL_7575b431471e4bc7b32a8690684a7d6c",
            "value": "100%"
          }
        },
        "8d94173692544917beb26ddb502541b1": {
          "model_module": "@jupyter-widgets/controls",
          "model_module_version": "1.5.0",
          "model_name": "HTMLModel",
          "state": {
            "_dom_classes": [],
            "_model_module": "@jupyter-widgets/controls",
            "_model_module_version": "1.5.0",
            "_model_name": "HTMLModel",
            "_view_count": null,
            "_view_module": "@jupyter-widgets/controls",
            "_view_module_version": "1.5.0",
            "_view_name": "HTMLView",
            "description": "",
            "description_tooltip": null,
            "layout": "IPY_MODEL_995800b4993946eaa72d5ebf332a2af5",
            "placeholder": "​",
            "style": "IPY_MODEL_65ac2439ad46457e95f48c4e40eb5fbe",
            "value": " 4542/4542 [00:00&lt;00:00, 145680.77it/s]"
          }
        },
        "9263a4a6c587438a989c59bee0a97b66": {
          "model_module": "@jupyter-widgets/base",
          "model_module_version": "1.2.0",
          "model_name": "LayoutModel",
          "state": {
            "_model_module": "@jupyter-widgets/base",
            "_model_module_version": "1.2.0",
            "_model_name": "LayoutModel",
            "_view_count": null,
            "_view_module": "@jupyter-widgets/base",
            "_view_module_version": "1.2.0",
            "_view_name": "LayoutView",
            "align_content": null,
            "align_items": null,
            "align_self": null,
            "border": null,
            "bottom": null,
            "display": null,
            "flex": null,
            "flex_flow": null,
            "grid_area": null,
            "grid_auto_columns": null,
            "grid_auto_flow": null,
            "grid_auto_rows": null,
            "grid_column": null,
            "grid_gap": null,
            "grid_row": null,
            "grid_template_areas": null,
            "grid_template_columns": null,
            "grid_template_rows": null,
            "height": null,
            "justify_content": null,
            "justify_items": null,
            "left": null,
            "margin": null,
            "max_height": null,
            "max_width": null,
            "min_height": null,
            "min_width": null,
            "object_fit": null,
            "object_position": null,
            "order": null,
            "overflow": null,
            "overflow_x": null,
            "overflow_y": null,
            "padding": null,
            "right": null,
            "top": null,
            "visibility": null,
            "width": null
          }
        },
        "995800b4993946eaa72d5ebf332a2af5": {
          "model_module": "@jupyter-widgets/base",
          "model_module_version": "1.2.0",
          "model_name": "LayoutModel",
          "state": {
            "_model_module": "@jupyter-widgets/base",
            "_model_module_version": "1.2.0",
            "_model_name": "LayoutModel",
            "_view_count": null,
            "_view_module": "@jupyter-widgets/base",
            "_view_module_version": "1.2.0",
            "_view_name": "LayoutView",
            "align_content": null,
            "align_items": null,
            "align_self": null,
            "border": null,
            "bottom": null,
            "display": null,
            "flex": null,
            "flex_flow": null,
            "grid_area": null,
            "grid_auto_columns": null,
            "grid_auto_flow": null,
            "grid_auto_rows": null,
            "grid_column": null,
            "grid_gap": null,
            "grid_row": null,
            "grid_template_areas": null,
            "grid_template_columns": null,
            "grid_template_rows": null,
            "height": null,
            "justify_content": null,
            "justify_items": null,
            "left": null,
            "margin": null,
            "max_height": null,
            "max_width": null,
            "min_height": null,
            "min_width": null,
            "object_fit": null,
            "object_position": null,
            "order": null,
            "overflow": null,
            "overflow_x": null,
            "overflow_y": null,
            "padding": null,
            "right": null,
            "top": null,
            "visibility": null,
            "width": null
          }
        },
        "9a550155f16c4cc28db561dff9f2b736": {
          "model_module": "@jupyter-widgets/base",
          "model_module_version": "1.2.0",
          "model_name": "LayoutModel",
          "state": {
            "_model_module": "@jupyter-widgets/base",
            "_model_module_version": "1.2.0",
            "_model_name": "LayoutModel",
            "_view_count": null,
            "_view_module": "@jupyter-widgets/base",
            "_view_module_version": "1.2.0",
            "_view_name": "LayoutView",
            "align_content": null,
            "align_items": null,
            "align_self": null,
            "border": null,
            "bottom": null,
            "display": null,
            "flex": null,
            "flex_flow": null,
            "grid_area": null,
            "grid_auto_columns": null,
            "grid_auto_flow": null,
            "grid_auto_rows": null,
            "grid_column": null,
            "grid_gap": null,
            "grid_row": null,
            "grid_template_areas": null,
            "grid_template_columns": null,
            "grid_template_rows": null,
            "height": null,
            "justify_content": null,
            "justify_items": null,
            "left": null,
            "margin": null,
            "max_height": null,
            "max_width": null,
            "min_height": null,
            "min_width": null,
            "object_fit": null,
            "object_position": null,
            "order": null,
            "overflow": null,
            "overflow_x": null,
            "overflow_y": null,
            "padding": null,
            "right": null,
            "top": null,
            "visibility": null,
            "width": null
          }
        },
        "9e91c1623c2947a5b4e6135efd8d8046": {
          "model_module": "@jupyter-widgets/controls",
          "model_module_version": "1.5.0",
          "model_name": "DescriptionStyleModel",
          "state": {
            "_model_module": "@jupyter-widgets/controls",
            "_model_module_version": "1.5.0",
            "_model_name": "DescriptionStyleModel",
            "_view_count": null,
            "_view_module": "@jupyter-widgets/base",
            "_view_module_version": "1.2.0",
            "_view_name": "StyleView",
            "description_width": ""
          }
        },
        "9f669e2887b04addba79f5e5213ea261": {
          "model_module": "@jupyter-widgets/controls",
          "model_module_version": "1.5.0",
          "model_name": "ProgressStyleModel",
          "state": {
            "_model_module": "@jupyter-widgets/controls",
            "_model_module_version": "1.5.0",
            "_model_name": "ProgressStyleModel",
            "_view_count": null,
            "_view_module": "@jupyter-widgets/base",
            "_view_module_version": "1.2.0",
            "_view_name": "StyleView",
            "bar_color": null,
            "description_width": ""
          }
        },
        "a021f3624fd1419a87b916fa9f55b9c8": {
          "model_module": "@jupyter-widgets/base",
          "model_module_version": "1.2.0",
          "model_name": "LayoutModel",
          "state": {
            "_model_module": "@jupyter-widgets/base",
            "_model_module_version": "1.2.0",
            "_model_name": "LayoutModel",
            "_view_count": null,
            "_view_module": "@jupyter-widgets/base",
            "_view_module_version": "1.2.0",
            "_view_name": "LayoutView",
            "align_content": null,
            "align_items": null,
            "align_self": null,
            "border": null,
            "bottom": null,
            "display": null,
            "flex": null,
            "flex_flow": null,
            "grid_area": null,
            "grid_auto_columns": null,
            "grid_auto_flow": null,
            "grid_auto_rows": null,
            "grid_column": null,
            "grid_gap": null,
            "grid_row": null,
            "grid_template_areas": null,
            "grid_template_columns": null,
            "grid_template_rows": null,
            "height": null,
            "justify_content": null,
            "justify_items": null,
            "left": null,
            "margin": null,
            "max_height": null,
            "max_width": null,
            "min_height": null,
            "min_width": null,
            "object_fit": null,
            "object_position": null,
            "order": null,
            "overflow": null,
            "overflow_x": null,
            "overflow_y": null,
            "padding": null,
            "right": null,
            "top": null,
            "visibility": null,
            "width": null
          }
        },
        "b2473a1395af45f0a32b9648be05ceb3": {
          "model_module": "@jupyter-widgets/controls",
          "model_module_version": "1.5.0",
          "model_name": "HBoxModel",
          "state": {
            "_dom_classes": [],
            "_model_module": "@jupyter-widgets/controls",
            "_model_module_version": "1.5.0",
            "_model_name": "HBoxModel",
            "_view_count": null,
            "_view_module": "@jupyter-widgets/controls",
            "_view_module_version": "1.5.0",
            "_view_name": "HBoxView",
            "box_style": "",
            "children": [
              "IPY_MODEL_bd99db5d6cfd4e79a0c13e07e56b523f",
              "IPY_MODEL_c76bb1650e4841648f4795e9894c89df",
              "IPY_MODEL_ece5e54c24a0442eb3a1a38252e2c30c"
            ],
            "layout": "IPY_MODEL_d6fe85ec84064b73948230852fdcf8b3"
          }
        },
        "b614d6a456c541c796d98205759cc83d": {
          "model_module": "@jupyter-widgets/base",
          "model_module_version": "1.2.0",
          "model_name": "LayoutModel",
          "state": {
            "_model_module": "@jupyter-widgets/base",
            "_model_module_version": "1.2.0",
            "_model_name": "LayoutModel",
            "_view_count": null,
            "_view_module": "@jupyter-widgets/base",
            "_view_module_version": "1.2.0",
            "_view_name": "LayoutView",
            "align_content": null,
            "align_items": null,
            "align_self": null,
            "border": null,
            "bottom": null,
            "display": null,
            "flex": null,
            "flex_flow": null,
            "grid_area": null,
            "grid_auto_columns": null,
            "grid_auto_flow": null,
            "grid_auto_rows": null,
            "grid_column": null,
            "grid_gap": null,
            "grid_row": null,
            "grid_template_areas": null,
            "grid_template_columns": null,
            "grid_template_rows": null,
            "height": null,
            "justify_content": null,
            "justify_items": null,
            "left": null,
            "margin": null,
            "max_height": null,
            "max_width": null,
            "min_height": null,
            "min_width": null,
            "object_fit": null,
            "object_position": null,
            "order": null,
            "overflow": null,
            "overflow_x": null,
            "overflow_y": null,
            "padding": null,
            "right": null,
            "top": null,
            "visibility": null,
            "width": null
          }
        },
        "bd99db5d6cfd4e79a0c13e07e56b523f": {
          "model_module": "@jupyter-widgets/controls",
          "model_module_version": "1.5.0",
          "model_name": "HTMLModel",
          "state": {
            "_dom_classes": [],
            "_model_module": "@jupyter-widgets/controls",
            "_model_module_version": "1.5.0",
            "_model_name": "HTMLModel",
            "_view_count": null,
            "_view_module": "@jupyter-widgets/controls",
            "_view_module_version": "1.5.0",
            "_view_name": "HTMLView",
            "description": "",
            "description_tooltip": null,
            "layout": "IPY_MODEL_7fa2bfa67fed46c6ac3145572fe26744",
            "placeholder": "​",
            "style": "IPY_MODEL_0e525ef6b44e4380be506ac61d2345f3",
            "value": "100%"
          }
        },
        "be5c8e9b3a794d48b687f17d7a76b10e": {
          "model_module": "@jupyter-widgets/controls",
          "model_module_version": "1.5.0",
          "model_name": "ProgressStyleModel",
          "state": {
            "_model_module": "@jupyter-widgets/controls",
            "_model_module_version": "1.5.0",
            "_model_name": "ProgressStyleModel",
            "_view_count": null,
            "_view_module": "@jupyter-widgets/base",
            "_view_module_version": "1.2.0",
            "_view_name": "StyleView",
            "bar_color": null,
            "description_width": ""
          }
        },
        "c4f29118580643119f15d0d90fcefeab": {
          "model_module": "@jupyter-widgets/controls",
          "model_module_version": "1.5.0",
          "model_name": "FloatProgressModel",
          "state": {
            "_dom_classes": [],
            "_model_module": "@jupyter-widgets/controls",
            "_model_module_version": "1.5.0",
            "_model_name": "FloatProgressModel",
            "_view_count": null,
            "_view_module": "@jupyter-widgets/controls",
            "_view_module_version": "1.5.0",
            "_view_name": "ProgressView",
            "bar_style": "success",
            "description": "",
            "description_tooltip": null,
            "layout": "IPY_MODEL_b614d6a456c541c796d98205759cc83d",
            "max": 4542,
            "min": 0,
            "orientation": "horizontal",
            "style": "IPY_MODEL_872829a496dc43e59dbe563c376813fe",
            "value": 4542
          }
        },
        "c76bb1650e4841648f4795e9894c89df": {
          "model_module": "@jupyter-widgets/controls",
          "model_module_version": "1.5.0",
          "model_name": "FloatProgressModel",
          "state": {
            "_dom_classes": [],
            "_model_module": "@jupyter-widgets/controls",
            "_model_module_version": "1.5.0",
            "_model_name": "FloatProgressModel",
            "_view_count": null,
            "_view_module": "@jupyter-widgets/controls",
            "_view_module_version": "1.5.0",
            "_view_name": "ProgressView",
            "bar_style": "success",
            "description": "",
            "description_tooltip": null,
            "layout": "IPY_MODEL_65b366f20a8d4ed289d52a64bb9af6d0",
            "max": 28881,
            "min": 0,
            "orientation": "horizontal",
            "style": "IPY_MODEL_be5c8e9b3a794d48b687f17d7a76b10e",
            "value": 28881
          }
        },
        "c9674a3973dd47b2ba90624bdeb9b25a": {
          "model_module": "@jupyter-widgets/base",
          "model_module_version": "1.2.0",
          "model_name": "LayoutModel",
          "state": {
            "_model_module": "@jupyter-widgets/base",
            "_model_module_version": "1.2.0",
            "_model_name": "LayoutModel",
            "_view_count": null,
            "_view_module": "@jupyter-widgets/base",
            "_view_module_version": "1.2.0",
            "_view_name": "LayoutView",
            "align_content": null,
            "align_items": null,
            "align_self": null,
            "border": null,
            "bottom": null,
            "display": null,
            "flex": null,
            "flex_flow": null,
            "grid_area": null,
            "grid_auto_columns": null,
            "grid_auto_flow": null,
            "grid_auto_rows": null,
            "grid_column": null,
            "grid_gap": null,
            "grid_row": null,
            "grid_template_areas": null,
            "grid_template_columns": null,
            "grid_template_rows": null,
            "height": null,
            "justify_content": null,
            "justify_items": null,
            "left": null,
            "margin": null,
            "max_height": null,
            "max_width": null,
            "min_height": null,
            "min_width": null,
            "object_fit": null,
            "object_position": null,
            "order": null,
            "overflow": null,
            "overflow_x": null,
            "overflow_y": null,
            "padding": null,
            "right": null,
            "top": null,
            "visibility": null,
            "width": null
          }
        },
        "cebd3eb9f1ba445ca7cf260eea56d4fe": {
          "model_module": "@jupyter-widgets/controls",
          "model_module_version": "1.5.0",
          "model_name": "DescriptionStyleModel",
          "state": {
            "_model_module": "@jupyter-widgets/controls",
            "_model_module_version": "1.5.0",
            "_model_name": "DescriptionStyleModel",
            "_view_count": null,
            "_view_module": "@jupyter-widgets/base",
            "_view_module_version": "1.2.0",
            "_view_name": "StyleView",
            "description_width": ""
          }
        },
        "d6c1f1ba624c4869875cb7008971f8e6": {
          "model_module": "@jupyter-widgets/base",
          "model_module_version": "1.2.0",
          "model_name": "LayoutModel",
          "state": {
            "_model_module": "@jupyter-widgets/base",
            "_model_module_version": "1.2.0",
            "_model_name": "LayoutModel",
            "_view_count": null,
            "_view_module": "@jupyter-widgets/base",
            "_view_module_version": "1.2.0",
            "_view_name": "LayoutView",
            "align_content": null,
            "align_items": null,
            "align_self": null,
            "border": null,
            "bottom": null,
            "display": null,
            "flex": null,
            "flex_flow": null,
            "grid_area": null,
            "grid_auto_columns": null,
            "grid_auto_flow": null,
            "grid_auto_rows": null,
            "grid_column": null,
            "grid_gap": null,
            "grid_row": null,
            "grid_template_areas": null,
            "grid_template_columns": null,
            "grid_template_rows": null,
            "height": null,
            "justify_content": null,
            "justify_items": null,
            "left": null,
            "margin": null,
            "max_height": null,
            "max_width": null,
            "min_height": null,
            "min_width": null,
            "object_fit": null,
            "object_position": null,
            "order": null,
            "overflow": null,
            "overflow_x": null,
            "overflow_y": null,
            "padding": null,
            "right": null,
            "top": null,
            "visibility": null,
            "width": null
          }
        },
        "d6fe85ec84064b73948230852fdcf8b3": {
          "model_module": "@jupyter-widgets/base",
          "model_module_version": "1.2.0",
          "model_name": "LayoutModel",
          "state": {
            "_model_module": "@jupyter-widgets/base",
            "_model_module_version": "1.2.0",
            "_model_name": "LayoutModel",
            "_view_count": null,
            "_view_module": "@jupyter-widgets/base",
            "_view_module_version": "1.2.0",
            "_view_name": "LayoutView",
            "align_content": null,
            "align_items": null,
            "align_self": null,
            "border": null,
            "bottom": null,
            "display": null,
            "flex": null,
            "flex_flow": null,
            "grid_area": null,
            "grid_auto_columns": null,
            "grid_auto_flow": null,
            "grid_auto_rows": null,
            "grid_column": null,
            "grid_gap": null,
            "grid_row": null,
            "grid_template_areas": null,
            "grid_template_columns": null,
            "grid_template_rows": null,
            "height": null,
            "justify_content": null,
            "justify_items": null,
            "left": null,
            "margin": null,
            "max_height": null,
            "max_width": null,
            "min_height": null,
            "min_width": null,
            "object_fit": null,
            "object_position": null,
            "order": null,
            "overflow": null,
            "overflow_x": null,
            "overflow_y": null,
            "padding": null,
            "right": null,
            "top": null,
            "visibility": null,
            "width": null
          }
        },
        "da83444d44b14d0388ca23414f22ec33": {
          "model_module": "@jupyter-widgets/controls",
          "model_module_version": "1.5.0",
          "model_name": "FloatProgressModel",
          "state": {
            "_dom_classes": [],
            "_model_module": "@jupyter-widgets/controls",
            "_model_module_version": "1.5.0",
            "_model_name": "FloatProgressModel",
            "_view_count": null,
            "_view_module": "@jupyter-widgets/controls",
            "_view_module_version": "1.5.0",
            "_view_name": "ProgressView",
            "bar_style": "success",
            "description": "",
            "description_tooltip": null,
            "layout": "IPY_MODEL_833c7a9223d143c6af416e2fd59dcd2a",
            "max": 9912422,
            "min": 0,
            "orientation": "horizontal",
            "style": "IPY_MODEL_9f669e2887b04addba79f5e5213ea261",
            "value": 9912422
          }
        },
        "e31ea28d684d4f6e9a56755f821402ae": {
          "model_module": "@jupyter-widgets/base",
          "model_module_version": "1.2.0",
          "model_name": "LayoutModel",
          "state": {
            "_model_module": "@jupyter-widgets/base",
            "_model_module_version": "1.2.0",
            "_model_name": "LayoutModel",
            "_view_count": null,
            "_view_module": "@jupyter-widgets/base",
            "_view_module_version": "1.2.0",
            "_view_name": "LayoutView",
            "align_content": null,
            "align_items": null,
            "align_self": null,
            "border": null,
            "bottom": null,
            "display": null,
            "flex": null,
            "flex_flow": null,
            "grid_area": null,
            "grid_auto_columns": null,
            "grid_auto_flow": null,
            "grid_auto_rows": null,
            "grid_column": null,
            "grid_gap": null,
            "grid_row": null,
            "grid_template_areas": null,
            "grid_template_columns": null,
            "grid_template_rows": null,
            "height": null,
            "justify_content": null,
            "justify_items": null,
            "left": null,
            "margin": null,
            "max_height": null,
            "max_width": null,
            "min_height": null,
            "min_width": null,
            "object_fit": null,
            "object_position": null,
            "order": null,
            "overflow": null,
            "overflow_x": null,
            "overflow_y": null,
            "padding": null,
            "right": null,
            "top": null,
            "visibility": null,
            "width": null
          }
        },
        "e7e98d8fa2f640f680bff539c481a6ae": {
          "model_module": "@jupyter-widgets/controls",
          "model_module_version": "1.5.0",
          "model_name": "HTMLModel",
          "state": {
            "_dom_classes": [],
            "_model_module": "@jupyter-widgets/controls",
            "_model_module_version": "1.5.0",
            "_model_name": "HTMLModel",
            "_view_count": null,
            "_view_module": "@jupyter-widgets/controls",
            "_view_module_version": "1.5.0",
            "_view_name": "HTMLView",
            "description": "",
            "description_tooltip": null,
            "layout": "IPY_MODEL_9263a4a6c587438a989c59bee0a97b66",
            "placeholder": "​",
            "style": "IPY_MODEL_7e80590166524bd88d5a9ad3f03ad70e",
            "value": "100%"
          }
        },
        "ece5e54c24a0442eb3a1a38252e2c30c": {
          "model_module": "@jupyter-widgets/controls",
          "model_module_version": "1.5.0",
          "model_name": "HTMLModel",
          "state": {
            "_dom_classes": [],
            "_model_module": "@jupyter-widgets/controls",
            "_model_module_version": "1.5.0",
            "_model_name": "HTMLModel",
            "_view_count": null,
            "_view_module": "@jupyter-widgets/controls",
            "_view_module_version": "1.5.0",
            "_view_name": "HTMLView",
            "description": "",
            "description_tooltip": null,
            "layout": "IPY_MODEL_e31ea28d684d4f6e9a56755f821402ae",
            "placeholder": "​",
            "style": "IPY_MODEL_cebd3eb9f1ba445ca7cf260eea56d4fe",
            "value": " 28881/28881 [00:00&lt;00:00, 906188.80it/s]"
          }
        },
        "eeee137e389344c78cb98b566f76015f": {
          "model_module": "@jupyter-widgets/controls",
          "model_module_version": "1.5.0",
          "model_name": "HTMLModel",
          "state": {
            "_dom_classes": [],
            "_model_module": "@jupyter-widgets/controls",
            "_model_module_version": "1.5.0",
            "_model_name": "HTMLModel",
            "_view_count": null,
            "_view_module": "@jupyter-widgets/controls",
            "_view_module_version": "1.5.0",
            "_view_name": "HTMLView",
            "description": "",
            "description_tooltip": null,
            "layout": "IPY_MODEL_6b304612996a405fa56f617f6297251c",
            "placeholder": "​",
            "style": "IPY_MODEL_6e98da92e0754cc5b741ae3201cb86e6",
            "value": "100%"
          }
        },
        "ff24c6f1a3ac473fa0411e6c9bef1c8b": {
          "model_module": "@jupyter-widgets/controls",
          "model_module_version": "1.5.0",
          "model_name": "HTMLModel",
          "state": {
            "_dom_classes": [],
            "_model_module": "@jupyter-widgets/controls",
            "_model_module_version": "1.5.0",
            "_model_name": "HTMLModel",
            "_view_count": null,
            "_view_module": "@jupyter-widgets/controls",
            "_view_module_version": "1.5.0",
            "_view_name": "HTMLView",
            "description": "",
            "description_tooltip": null,
            "layout": "IPY_MODEL_5b9f23ce8d3d44d487e48260265fd27e",
            "placeholder": "​",
            "style": "IPY_MODEL_3007d8c36dcf431b95cbd87a03f2a49d",
            "value": " 1648877/1648877 [00:00&lt;00:00, 20069389.05it/s]"
          }
        }
      }
    }
  },
  "nbformat": 4,
  "nbformat_minor": 0
}
