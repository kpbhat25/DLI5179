{
 "cells": [
  {
   "cell_type": "code",
   "execution_count": 1,
   "metadata": {},
   "outputs": [],
   "source": [
    "# importing the necessary libraries\n",
    "\n",
    "import numpy as np\n",
    "import matplotlib.pyplot as plt\n",
    "import os\n",
    "import torch\n",
    "import torch.nn as nn\n",
    "from torch import flatten \n",
    "from sklearn.metrics import classification_report #for detailed statistics on classifier\n",
    "from sklearn.metrics import confusion_matrix\n",
    "from torchvision.datasets import MNIST #importing the MNIST Dataset already there on torch\n",
    "from tqdm import tqdm \n",
    "from torchvision import transforms #for transforming the training and testing data \n",
    "from torch.utils.data import DataLoader #Dataloader loads the data batchwise with shuffling in a hassle free manner\n",
    "from torch.optim import Adam #Adam for GD\n",
    "import time \n",
    "from torchvision.utils import make_grid #to visualize the kernels the tensors\n",
    "from torch.autograd import Variable #For the adversarial examples part to find the gradients\n",
    "\n"
   ]
  },
  {
   "cell_type": "code",
   "execution_count": 2,
   "metadata": {},
   "outputs": [],
   "source": [
    "\n",
    "class CNN(nn.Module): \n",
    "    def __init__(self): \n",
    "        super(CNN,self).__init__()\n",
    "        self.l1 = nn.Sequential(nn.Conv2d(1, 32, kernel_size = 3, stride = 1, padding = 1),\n",
    "                                 nn.ReLU(), \n",
    "                                 nn.MaxPool2d(kernel_size=(2, 2), stride=(2, 2)))\n",
    "                                 #https://pytorch.org/docs/stable/generated/torch.nn.MaxPool2d.html\n",
    "                                 #for maxpool one can use a single number for a square windown, but to maintain the uniformity we are giving this way\n",
    "        \n",
    "        self.l2 = nn.Sequential(nn.Conv2d(32, 32, kernel_size = 3, stride = 1, padding = 1),\n",
    "                                 nn.ReLU(), \n",
    "                                 nn.MaxPool2d(kernel_size=(2, 2), stride=(2, 2)))  \n",
    "        \n",
    "        self.fully_connected_l1 = nn.Sequential(nn.Linear(7*7*32, 500),nn.ReLU())\n",
    "        self.fully_connected_l2 = nn.Linear(500,10)\n",
    "        self.logsoftmax = nn.LogSoftmax(dim = 1)\n",
    "        \n",
    "\n",
    "\n",
    "    def forward(self,x): #defines the structure of the network thus help in performing backprop, it does forward pass\n",
    "        \n",
    "        output = self.l1(x.float()) #converting x to float datatype\n",
    "        output = self.l2(output)\n",
    "        output = flatten(output,1)\n",
    "        output = self.fully_connected_l1(output)\n",
    "        output = self.fully_connected_l2(output)\n",
    "        \n",
    "        prediction   = self.logsoftmax(output)\n",
    "        \n",
    "        return prediction"
   ]
  },
  {
   "cell_type": "code",
   "execution_count": 18,
   "metadata": {},
   "outputs": [],
   "source": [
    "#all the constants/parameters \n",
    "batch_size = 64\n",
    "number_of_epochs = 3\n",
    "learning_rate = 1e-3\n",
    "beta = 0.01"
   ]
  },
  {
   "cell_type": "code",
   "execution_count": 4,
   "metadata": {},
   "outputs": [],
   "source": [
    "CURRENT_DIRECTORY = os.getcwd()\n",
    "FOLDER_NAME = 'mnist'\n",
    "MODEL_FOLDER = 'model'\n",
    "save_model = True"
   ]
  },
  {
   "cell_type": "code",
   "execution_count": 5,
   "metadata": {},
   "outputs": [],
   "source": [
    "#dataloader\n",
    "if not os.path.exists(os.path.join(CURRENT_DIRECTORY, FOLDER_NAME)):\n",
    "    os.mkdir(os.path.join(CURRENT_DIRECTORY, FOLDER_NAME))\n",
    "    to_download = True\n",
    "if (save_model):\n",
    "    if not os.path.exists(os.path.join(CURRENT_DIRECTORY, MODEL_FOLDER)):\n",
    "        os.mkdir(os.path.join(CURRENT_DIRECTORY, MODEL_FOLDER))\n",
    "PATH_TO_STORE_MODEL = os.path.join(CURRENT_DIRECTORY, MODEL_FOLDER)+'/'"
   ]
  },
  {
   "cell_type": "code",
   "execution_count": 6,
   "metadata": {},
   "outputs": [],
   "source": [
    "\n",
    "#device\n",
    "device = torch.device(\"cuda\" if torch.cuda.is_available() else \"cpu\") #checks for gpu else runs in cpu"
   ]
  },
  {
   "cell_type": "code",
   "execution_count": 7,
   "metadata": {},
   "outputs": [],
   "source": [
    "def Train_model(model,device,Train_Data_Loader,optimizer,loss_function,train_length):\n",
    "\n",
    "    model.train()\n",
    "\n",
    "    training_loss = 0\n",
    "    training_predictions = 0\n",
    "    \n",
    "    for (data,label) in tqdm(Train_Data_Loader):\n",
    "        #sending botht the image array and labels from the dataloader to the model trainer\n",
    "\n",
    "        (data,label) = (data.to(device),label.to(device))\n",
    "        #sending the data and the labels into the gpu \n",
    "\n",
    "        prediction = model(data) #predict in the forward pass\n",
    "        loss = loss_function(prediction,label) # calculate the loss \n",
    "\n",
    "        training_loss += loss\n",
    "        training_predictions += (prediction.argmax(1) == label).type(torch.float).sum().item()\n",
    "        #prediction from the forward pass == labels , then the count of it will increase\n",
    "\n",
    "    train_accuracy = training_predictions/train_length\n",
    "\n",
    "    return training_loss , train_accuracy"
   ]
  },
  {
   "cell_type": "code",
   "execution_count": 8,
   "metadata": {},
   "outputs": [],
   "source": [
    "def Test_model(model,device,Test_Data_Loader,loss_function,test_length):\n",
    "\n",
    "    model.train()\n",
    "\n",
    "    testing_loss = 0\n",
    "    testing_predictions = 0\n",
    "    \n",
    "    for (data,label) in tqdm(Test_Data_Loader):\n",
    "        #sending botht the image array and labels from the dataloader to the model trainer\n",
    "\n",
    "        (data,label) = (data.to(device),label.to(device))\n",
    "        #sending the data and the labels into the gpu \n",
    "\n",
    "        prediction = model(data) #predict in the forward pass\n",
    "        loss = loss_function(prediction,label) # calculate the loss \n",
    "\n",
    "        testing_loss += loss\n",
    "        testing_predictions += (prediction.argmax(1) == label).type(torch.float).sum().item()\n",
    "        #prediction from the forward pass == labels , then the count of it will increase\n",
    "\n",
    "    test_accuracy = testing_predictions/test_length\n",
    "\n",
    "    return testing_loss , test_accuracy"
   ]
  },
  {
   "cell_type": "code",
   "execution_count": 9,
   "metadata": {},
   "outputs": [],
   "source": [
    "app_transform = transforms.Compose([transforms.ToTensor(), transforms.Normalize((0.1307,), (0.3081,))])\n",
    "    \n",
    "    #organize the training and test data\n",
    "    \n",
    "train_data    = MNIST(CURRENT_DIRECTORY, train = True, download = True, transform = app_transform) #getting training data\n",
    "test_data     = MNIST(CURRENT_DIRECTORY, train = False, transform = app_transform)"
   ]
  },
  {
   "cell_type": "code",
   "execution_count": 10,
   "metadata": {},
   "outputs": [],
   "source": [
    "Train_Data_Loader = DataLoader(train_data, batch_size = batch_size, shuffle = True ) \n",
    "Test_Data_Loader  = DataLoader(test_data, batch_size = batch_size) \n",
    "\n",
    "train_length  = len(Train_Data_Loader.dataset) #no of training examples\n",
    "test_length   = len(Test_Data_Loader.dataset)  #no of testing cases"
   ]
  },
  {
   "cell_type": "code",
   "execution_count": 11,
   "metadata": {},
   "outputs": [
    {
     "data": {
      "image/png": "[encoded data removed]",
      "text/plain": [
       "<Figure size 576x576 with 9 Axes>"
      ]
     },
     "metadata": {
      "needs_background": "light"
     },
     "output_type": "display_data"
    }
   ],
   "source": [
    "labels_map = {\n",
    "    0: \"0\",\n",
    "    1: \"1\",\n",
    "    2: \"2\",\n",
    "    3: \"3\",\n",
    "    4: \"4\",\n",
    "    5: \"5\",\n",
    "    6: \"6\",\n",
    "    7: \"7\",\n",
    "    8: \"8\",\n",
    "    9: \"9\",\n",
    "}\n",
    "figure = plt.figure(figsize=(8, 8))\n",
    "cols, rows = 3, 3\n",
    "for i in range(1, cols * rows + 1):\n",
    "    sample_idx = torch.randint(len(Train_Data_Loader.dataset), size=(1,)).item()\n",
    "    img, label = Train_Data_Loader.dataset[sample_idx]\n",
    "    figure.add_subplot(rows, cols, i)\n",
    "    plt.title(labels_map[label])\n",
    "    plt.axis(\"off\")\n",
    "    plt.imshow(img.squeeze(), cmap=\"gray\")\n",
    "plt.show()"
   ]
  },
  {
   "cell_type": "code",
   "execution_count": 12,
   "metadata": {},
   "outputs": [],
   "source": [
    "model = CNN().to(device) "
   ]
  },
  {
   "cell_type": "code",
   "execution_count": 13,
   "metadata": {},
   "outputs": [],
   "source": [
    "optimizer = Adam(model.parameters(),lr = learning_rate) #optimizer\n",
    "    \n",
    "lossfn    = nn.NLLLoss() #lossFunction"
   ]
  },
  {
   "cell_type": "code",
   "execution_count": 14,
   "metadata": {},
   "outputs": [
    {
     "name": "stdout",
     "output_type": "stream",
     "text": [
      "Model's state_dict:\n",
      "l1.0.weight \t torch.Size([32, 1, 3, 3])\n",
      "l1.0.bias \t torch.Size([32])\n",
      "l2.0.weight \t torch.Size([32, 32, 3, 3])\n",
      "l2.0.bias \t torch.Size([32])\n",
      "fully_connected_l1.0.weight \t torch.Size([500, 1568])\n",
      "fully_connected_l1.0.bias \t torch.Size([500])\n",
      "fully_connected_l2.weight \t torch.Size([10, 500])\n",
      "fully_connected_l2.bias \t torch.Size([10])\n"
     ]
    }
   ],
   "source": [
    "print(\"Model's state_dict:\")\n",
    "for param_tensor in model.state_dict():\n",
    "    print(param_tensor, \"\\t\", model.state_dict()[param_tensor].size())"
   ]
  },
  {
   "cell_type": "code",
   "execution_count": 15,
   "metadata": {},
   "outputs": [
    {
     "name": "stdout",
     "output_type": "stream",
     "text": [
      "Optimizer's state_dict:\n",
      "state \t {}\n",
      "param_groups \t [{'lr': 0.001, 'betas': (0.9, 0.999), 'eps': 1e-08, 'weight_decay': 0, 'amsgrad': False, 'maximize': False, 'foreach': None, 'capturable': False, 'params': [0, 1, 2, 3, 4, 5, 6, 7]}]\n"
     ]
    }
   ],
   "source": [
    "# Print optimizer's state_dict\n",
    "print(\"Optimizer's state_dict:\")\n",
    "for var_name in optimizer.state_dict():\n",
    "    print(var_name, \"\\t\", optimizer.state_dict()[var_name])"
   ]
  },
  {
   "cell_type": "code",
   "execution_count": 16,
   "metadata": {},
   "outputs": [],
   "source": [
    "load_model = False"
   ]
  },
  {
   "cell_type": "code",
   "execution_count": 19,
   "metadata": {},
   "outputs": [
    {
     "ename": "KeyboardInterrupt",
     "evalue": "",
     "output_type": "error",
     "traceback": [
      "\u001b[0;31m---------------------------------------------------------------------------\u001b[0m",
      "\u001b[0;31mKeyboardInterrupt\u001b[0m                         Traceback (most recent call last)",
      "\u001b[1;32m/home/koushikbhat/Documents/DLI5179/PA2/EE21S055.ipynb Cell 17\u001b[0m in \u001b[0;36m<cell line: 9>\u001b[0;34m()\u001b[0m\n\u001b[1;32m      <a href='vscode-notebook-cell:/home/koushikbhat/Documents/DLI5179/PA2/EE21S055.ipynb#X31sZmlsZQ%3D%3D?line=6'>7</a>\u001b[0m validationaccuracy_list \u001b[39m=\u001b[39m []\n\u001b[1;32m      <a href='vscode-notebook-cell:/home/koushikbhat/Documents/DLI5179/PA2/EE21S055.ipynb#X31sZmlsZQ%3D%3D?line=8'>9</a>\u001b[0m \u001b[39mfor\u001b[39;00m epoch \u001b[39min\u001b[39;00m \u001b[39mrange\u001b[39m(number_of_epochs):\n\u001b[0;32m---> <a href='vscode-notebook-cell:/home/koushikbhat/Documents/DLI5179/PA2/EE21S055.ipynb#X31sZmlsZQ%3D%3D?line=9'>10</a>\u001b[0m   \u001b[39mfor\u001b[39;00m images, labels \u001b[39min\u001b[39;00m Train_Data_Loader:\n\u001b[1;32m     <a href='vscode-notebook-cell:/home/koushikbhat/Documents/DLI5179/PA2/EE21S055.ipynb#X31sZmlsZQ%3D%3D?line=10'>11</a>\u001b[0m       outputs \u001b[39m=\u001b[39m model1(images\u001b[39m.\u001b[39mfloat())\n\u001b[1;32m     <a href='vscode-notebook-cell:/home/koushikbhat/Documents/DLI5179/PA2/EE21S055.ipynb#X31sZmlsZQ%3D%3D?line=11'>12</a>\u001b[0m       loss \u001b[39m=\u001b[39m criterion1(outputs, labels)\n",
      "File \u001b[0;32m~/anaconda3/envs/DLI/lib/python3.9/site-packages/torch/utils/data/dataloader.py:681\u001b[0m, in \u001b[0;36m_BaseDataLoaderIter.__next__\u001b[0;34m(self)\u001b[0m\n\u001b[1;32m    678\u001b[0m \u001b[39mif\u001b[39;00m \u001b[39mself\u001b[39m\u001b[39m.\u001b[39m_sampler_iter \u001b[39mis\u001b[39;00m \u001b[39mNone\u001b[39;00m:\n\u001b[1;32m    679\u001b[0m     \u001b[39m# TODO(https://github.com/pytorch/pytorch/issues/76750)\u001b[39;00m\n\u001b[1;32m    680\u001b[0m     \u001b[39mself\u001b[39m\u001b[39m.\u001b[39m_reset()  \u001b[39m# type: ignore[call-arg]\u001b[39;00m\n\u001b[0;32m--> 681\u001b[0m data \u001b[39m=\u001b[39m \u001b[39mself\u001b[39;49m\u001b[39m.\u001b[39;49m_next_data()\n\u001b[1;32m    682\u001b[0m \u001b[39mself\u001b[39m\u001b[39m.\u001b[39m_num_yielded \u001b[39m+\u001b[39m\u001b[39m=\u001b[39m \u001b[39m1\u001b[39m\n\u001b[1;32m    683\u001b[0m \u001b[39mif\u001b[39;00m \u001b[39mself\u001b[39m\u001b[39m.\u001b[39m_dataset_kind \u001b[39m==\u001b[39m _DatasetKind\u001b[39m.\u001b[39mIterable \u001b[39mand\u001b[39;00m \\\n\u001b[1;32m    684\u001b[0m         \u001b[39mself\u001b[39m\u001b[39m.\u001b[39m_IterableDataset_len_called \u001b[39mis\u001b[39;00m \u001b[39mnot\u001b[39;00m \u001b[39mNone\u001b[39;00m \u001b[39mand\u001b[39;00m \\\n\u001b[1;32m    685\u001b[0m         \u001b[39mself\u001b[39m\u001b[39m.\u001b[39m_num_yielded \u001b[39m>\u001b[39m \u001b[39mself\u001b[39m\u001b[39m.\u001b[39m_IterableDataset_len_called:\n",
      "File \u001b[0;32m~/anaconda3/envs/DLI/lib/python3.9/site-packages/torch/utils/data/dataloader.py:721\u001b[0m, in \u001b[0;36m_SingleProcessDataLoaderIter._next_data\u001b[0;34m(self)\u001b[0m\n\u001b[1;32m    719\u001b[0m \u001b[39mdef\u001b[39;00m \u001b[39m_next_data\u001b[39m(\u001b[39mself\u001b[39m):\n\u001b[1;32m    720\u001b[0m     index \u001b[39m=\u001b[39m \u001b[39mself\u001b[39m\u001b[39m.\u001b[39m_next_index()  \u001b[39m# may raise StopIteration\u001b[39;00m\n\u001b[0;32m--> 721\u001b[0m     data \u001b[39m=\u001b[39m \u001b[39mself\u001b[39;49m\u001b[39m.\u001b[39;49m_dataset_fetcher\u001b[39m.\u001b[39;49mfetch(index)  \u001b[39m# may raise StopIteration\u001b[39;00m\n\u001b[1;32m    722\u001b[0m     \u001b[39mif\u001b[39;00m \u001b[39mself\u001b[39m\u001b[39m.\u001b[39m_pin_memory:\n\u001b[1;32m    723\u001b[0m         data \u001b[39m=\u001b[39m _utils\u001b[39m.\u001b[39mpin_memory\u001b[39m.\u001b[39mpin_memory(data, \u001b[39mself\u001b[39m\u001b[39m.\u001b[39m_pin_memory_device)\n",
      "File \u001b[0;32m~/anaconda3/envs/DLI/lib/python3.9/site-packages/torch/utils/data/_utils/fetch.py:49\u001b[0m, in \u001b[0;36m_MapDatasetFetcher.fetch\u001b[0;34m(self, possibly_batched_index)\u001b[0m\n\u001b[1;32m     47\u001b[0m \u001b[39mdef\u001b[39;00m \u001b[39mfetch\u001b[39m(\u001b[39mself\u001b[39m, possibly_batched_index):\n\u001b[1;32m     48\u001b[0m     \u001b[39mif\u001b[39;00m \u001b[39mself\u001b[39m\u001b[39m.\u001b[39mauto_collation:\n\u001b[0;32m---> 49\u001b[0m         data \u001b[39m=\u001b[39m [\u001b[39mself\u001b[39m\u001b[39m.\u001b[39mdataset[idx] \u001b[39mfor\u001b[39;00m idx \u001b[39min\u001b[39;00m possibly_batched_index]\n\u001b[1;32m     50\u001b[0m     \u001b[39melse\u001b[39;00m:\n\u001b[1;32m     51\u001b[0m         data \u001b[39m=\u001b[39m \u001b[39mself\u001b[39m\u001b[39m.\u001b[39mdataset[possibly_batched_index]\n",
      "File \u001b[0;32m~/anaconda3/envs/DLI/lib/python3.9/site-packages/torch/utils/data/_utils/fetch.py:49\u001b[0m, in \u001b[0;36m<listcomp>\u001b[0;34m(.0)\u001b[0m\n\u001b[1;32m     47\u001b[0m \u001b[39mdef\u001b[39;00m \u001b[39mfetch\u001b[39m(\u001b[39mself\u001b[39m, possibly_batched_index):\n\u001b[1;32m     48\u001b[0m     \u001b[39mif\u001b[39;00m \u001b[39mself\u001b[39m\u001b[39m.\u001b[39mauto_collation:\n\u001b[0;32m---> 49\u001b[0m         data \u001b[39m=\u001b[39m [\u001b[39mself\u001b[39;49m\u001b[39m.\u001b[39;49mdataset[idx] \u001b[39mfor\u001b[39;00m idx \u001b[39min\u001b[39;00m possibly_batched_index]\n\u001b[1;32m     50\u001b[0m     \u001b[39melse\u001b[39;00m:\n\u001b[1;32m     51\u001b[0m         data \u001b[39m=\u001b[39m \u001b[39mself\u001b[39m\u001b[39m.\u001b[39mdataset[possibly_batched_index]\n",
      "File \u001b[0;32m~/anaconda3/envs/DLI/lib/python3.9/site-packages/torchvision/datasets/mnist.py:138\u001b[0m, in \u001b[0;36mMNIST.__getitem__\u001b[0;34m(self, index)\u001b[0m\n\u001b[1;32m    130\u001b[0m \u001b[39mdef\u001b[39;00m \u001b[39m__getitem__\u001b[39m(\u001b[39mself\u001b[39m, index: \u001b[39mint\u001b[39m) \u001b[39m-\u001b[39m\u001b[39m>\u001b[39m Tuple[Any, Any]:\n\u001b[1;32m    131\u001b[0m     \u001b[39m\"\"\"\u001b[39;00m\n\u001b[1;32m    132\u001b[0m \u001b[39m    Args:\u001b[39;00m\n\u001b[1;32m    133\u001b[0m \u001b[39m        index (int): Index\u001b[39;00m\n\u001b[0;32m   (...)\u001b[0m\n\u001b[1;32m    136\u001b[0m \u001b[39m        tuple: (image, target) where target is index of the target class.\u001b[39;00m\n\u001b[1;32m    137\u001b[0m \u001b[39m    \"\"\"\u001b[39;00m\n\u001b[0;32m--> 138\u001b[0m     img, target \u001b[39m=\u001b[39m \u001b[39mself\u001b[39m\u001b[39m.\u001b[39mdata[index], \u001b[39mint\u001b[39m(\u001b[39mself\u001b[39;49m\u001b[39m.\u001b[39;49mtargets[index])\n\u001b[1;32m    140\u001b[0m     \u001b[39m# doing this so that it is consistent with all other datasets\u001b[39;00m\n\u001b[1;32m    141\u001b[0m     \u001b[39m# to return a PIL Image\u001b[39;00m\n\u001b[1;32m    142\u001b[0m     img \u001b[39m=\u001b[39m Image\u001b[39m.\u001b[39mfromarray(img\u001b[39m.\u001b[39mnumpy(), mode\u001b[39m=\u001b[39m\u001b[39m\"\u001b[39m\u001b[39mL\u001b[39m\u001b[39m\"\u001b[39m)\n",
      "\u001b[0;31mKeyboardInterrupt\u001b[0m: "
     ]
    }
   ],
   "source": [
    "model1=CNN()\n",
    "criterion1 = nn.CrossEntropyLoss()\n",
    "optimizer1 = torch.optim.Adam(model1.parameters(), lr=learning_rate)\n",
    "\n",
    "trainingloss_list = []\n",
    "validationloss_list = []\n",
    "validationaccuracy_list = []\n",
    "\n",
    "for epoch in range(number_of_epochs):\n",
    "  for images, labels in Train_Data_Loader:\n",
    "      outputs = model1(images.float())\n",
    "      loss = criterion1(outputs, labels)\n",
    "      trainingloss_list.append(loss.item())\n",
    "\n",
    "      optimizer1.zero_grad()\n",
    "      loss.backward()\n",
    "      optimizer1.step()\n",
    "\n",
    "  iteration=0\n",
    "  tempvalloss=0\n",
    "  correctval=0    \n",
    "  \n",
    "  for images, labels in Test_Data_Loader:\n",
    "    outputs = model1(images.float())\n",
    "    loss = criterion1(outputs, labels)\n",
    "    _, predicted = torch.max(outputs.data, 1)\n",
    "    correctval += (predicted == labels).sum().item()\n",
    "    iteration+=1\n",
    "    tempvalloss+=loss.item()\n",
    "            \n",
    "  validationloss_list.append(tempvalloss/iteration)\n",
    "  validationaccuracy_list.append(correctval/100)\n",
    "  print('Epoch',epoch+1,'out of',number_of_epochs,'epochs are over')"
   ]
  }
 ],
 "metadata": {
  "kernelspec": {
   "display_name": "Python 3.9.12 ('DLI')",
   "language": "python",
   "name": "python3"
  },
  "language_info": {
   "codemirror_mode": {
    "name": "ipython",
    "version": 3
   },
   "file_extension": ".py",
   "mimetype": "text/x-python",
   "name": "python",
   "nbconvert_exporter": "python",
   "pygments_lexer": "ipython3",
   "version": "3.9.12"
  },
  "orig_nbformat": 4,
  "vscode": {
   "interpreter": {
    "hash": "00a1ae1e6deaa37076d141dc26cd1e058ef740ecaf1a0d690f5f0ccaa51e4cb2"
   }
  }
 },
 "nbformat": 4,
 "nbformat_minor": 2
}
