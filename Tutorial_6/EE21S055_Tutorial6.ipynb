{
 "cells": [
  {
   "cell_type": "markdown",
   "metadata": {
    "id": "BrUVXuMSkDQQ"
   },
   "source": [
    "## Imports"
   ]
  },
  {
   "cell_type": "code",
   "execution_count": 1,
   "metadata": {
    "id": "A9EtAGtyTQJ8"
   },
   "outputs": [],
   "source": [
    "import torch\n",
    "import torchvision\n",
    "import torchvision.transforms as transforms\n",
    "from torch.utils.data import Dataset, DataLoader\n",
    "import torch.nn as nn\n",
    "import torch.nn.functional as F\n",
    "import sys\n",
    "import numpy as np\n",
    "import os"
   ]
  },
  {
   "cell_type": "markdown",
   "metadata": {
    "id": "h_AuUCJJkRiD"
   },
   "source": [
    "## Utilising GPU using Pytorch"
   ]
  },
  {
   "cell_type": "code",
   "execution_count": 2,
   "metadata": {
    "colab": {
     "base_uri": "https://localhost:8080/"
    },
    "id": "ERUEzqqakS3e",
    "outputId": "f1a065db-0fbc-411a-be98-96e417bfd33c"
   },
   "outputs": [
    {
     "name": "stdout",
     "output_type": "stream",
     "text": [
      "cpu\n",
      "cuda:0\n"
     ]
    }
   ],
   "source": [
    "# cpu-gpu\n",
    "a = torch.randn((3, 4))\n",
    "print(a.device)\n",
    "\n",
    "device = torch.device(\"cuda\")\n",
    "a = a.to(device)\n",
    "print(a.device)\n",
    "\n",
    "# a more generic code\n",
    "device = torch.device('cuda' if torch.cuda.is_available() else 'cpu')"
   ]
  },
  {
   "cell_type": "code",
   "execution_count": 3,
   "metadata": {},
   "outputs": [
    {
     "data": {
      "text/plain": [
       "True"
      ]
     },
     "execution_count": 3,
     "metadata": {},
     "output_type": "execute_result"
    }
   ],
   "source": [
    "torch.cuda.is_available() "
   ]
  },
  {
   "cell_type": "code",
   "execution_count": 4,
   "metadata": {
    "colab": {
     "base_uri": "https://localhost:8080/"
    },
    "id": "n474i7A4kjm3",
    "outputId": "c9334499-998f-48e5-a3ab-164346ddc520"
   },
   "outputs": [
    {
     "name": "stdout",
     "output_type": "stream",
     "text": [
      "Sat Sep 17 19:40:21 2022       \r\n",
      "+-----------------------------------------------------------------------------+\r\n",
      "| NVIDIA-SMI 515.43.04    Driver Version: 515.43.04    CUDA Version: 11.7     |\r\n",
      "|-------------------------------+----------------------+----------------------+\r\n",
      "| GPU  Name        Persistence-M| Bus-Id        Disp.A | Volatile Uncorr. ECC |\r\n",
      "| Fan  Temp  Perf  Pwr:Usage/Cap|         Memory-Usage | GPU-Util  Compute M. |\r\n",
      "|                               |                      |               MIG M. |\r\n",
      "|===============================+======================+======================|\r\n",
      "|   0  NVIDIA GeForce ...  On   | 00000000:09:00.0 Off |                  N/A |\r\n",
      "|  0%   39C    P2   109W / 350W |  11104MiB / 24576MiB |      5%      Default |\r\n",
      "|                               |                      |                  N/A |\r\n",
      "+-------------------------------+----------------------+----------------------+\r\n",
      "                                                                               \r\n",
      "+-----------------------------------------------------------------------------+\r\n",
      "| Processes:                                                                  |\r\n",
      "|  GPU   GI   CI        PID   Type   Process name                  GPU Memory |\r\n",
      "|        ID   ID                                                   Usage      |\r\n",
      "|=============================================================================|\r\n",
      "|    0   N/A  N/A      1206      G   /usr/lib/xorg/Xorg                 35MiB |\r\n",
      "|    0   N/A  N/A     72979      G   /usr/lib/xorg/Xorg                 76MiB |\r\n",
      "|    0   N/A  N/A     73105      G   /usr/bin/gnome-shell               15MiB |\r\n",
      "|    0   N/A  N/A    714142      C   ...runima/aru_env/bin/python     1767MiB |\r\n",
      "|    0   N/A  N/A    783901      C   ...bhumika/DL/dl/bin/python3     3719MiB |\r\n",
      "|    0   N/A  N/A    791518      C   ...Deep_Learning/bin/python3     1933MiB |\r\n",
      "|    0   N/A  N/A    810345      C   ...ehasree/DLvenv/bin/python     1791MiB |\r\n",
      "|    0   N/A  N/A    817238      C   ...ehasree/DLvenv/bin/python     1691MiB |\r\n",
      "+-----------------------------------------------------------------------------+\r\n"
     ]
    }
   ],
   "source": [
    "!nvidia-smi"
   ]
  },
  {
   "cell_type": "markdown",
   "metadata": {
    "id": "NxjZWEfIkn7X"
   },
   "source": [
    "## Dataset and Transforms"
   ]
  },
  {
   "cell_type": "code",
   "execution_count": 5,
   "metadata": {
    "colab": {
     "base_uri": "https://localhost:8080/",
     "height": 101,
     "referenced_widgets": [
      "26fa1345d7874f65908baacf637b44df",
      "d1d1b169249b45bf821ac6da3cb8a0b1",
      "685ad53540ab4c0aa0d24f7fe46c4362",
      "d632174679ca4f5ca60f0fd9808b5904",
      "3dbfc107a8144247be99e87c85aa7482",
      "c41c44ba515e4db09c3198a82abb8732",
      "d3499a4d309d4e489d25ab795f379ae6",
      "db0e28a49e644d90bf0cdbc2731341a4",
      "06207f42aceb4a8b8d0137af9022f4c3",
      "640fc0583bd644a0bbe30c90eaa8326a",
      "080d88887c78489e8351298ca4128f8d"
     ]
    },
    "id": "Afh2_n-PTc_U",
    "outputId": "e76c6d52-e2d6-45ef-90b6-480f20a6ebe6"
   },
   "outputs": [
    {
     "name": "stdout",
     "output_type": "stream",
     "text": [
      "Files already downloaded and verified\n",
      "Files already downloaded and verified\n"
     ]
    }
   ],
   "source": [
    "train_transform = transforms.Compose([\n",
    "  transforms.RandomCrop(32, padding=4),\n",
    "  transforms.RandomHorizontalFlip(),\n",
    "  transforms.ToTensor(),\n",
    "  transforms.Normalize((0.4914, 0.4822, 0.4465), (0.2023, 0.1994, 0.2010)),\n",
    "])\n",
    "test_transform = transforms.Compose([\n",
    "  transforms.ToTensor(),\n",
    "  transforms.Normalize((0.4914, 0.4822, 0.4465), (0.2023, 0.1994, 0.2010)),\n",
    "])\n",
    "\n",
    "train_dset = torchvision.datasets.CIFAR10(root=\"data/\", train=True, transform=train_transform, download=True)\n",
    "test_dset = torchvision.datasets.CIFAR10(root=\"data/\", train=False, transform=test_transform, download=True)"
   ]
  },
  {
   "cell_type": "code",
   "execution_count": 6,
   "metadata": {
    "colab": {
     "base_uri": "https://localhost:8080/"
    },
    "id": "rwrVIg6BUUKI",
    "outputId": "d2e5bfef-c9fa-46e6-b314-5c345ec3e070"
   },
   "outputs": [
    {
     "name": "stdout",
     "output_type": "stream",
     "text": [
      "# of train samples: 50000\n",
      "# of test samples: 10000\n"
     ]
    }
   ],
   "source": [
    "print(f\"# of train samples: {len(train_dset)}\")\n",
    "print(f\"# of test samples: {len(test_dset)}\")"
   ]
  },
  {
   "cell_type": "code",
   "execution_count": 7,
   "metadata": {
    "id": "R_RniHmyUgsz"
   },
   "outputs": [],
   "source": [
    "train_loader = DataLoader(train_dset, batch_size=100, shuffle=True, num_workers=2)\n",
    "test_loader = DataLoader(test_dset, batch_size=100, shuffle=False, num_workers=2)"
   ]
  },
  {
   "cell_type": "code",
   "execution_count": 8,
   "metadata": {
    "colab": {
     "base_uri": "https://localhost:8080/"
    },
    "id": "4GoIkiN8VJXx",
    "outputId": "08387a74-b9fb-4905-e7f1-31a5666e8ff4"
   },
   "outputs": [
    {
     "name": "stdout",
     "output_type": "stream",
     "text": [
      "# of train batches: 500\n",
      "# of test batches: 100\n"
     ]
    }
   ],
   "source": [
    "print(f\"# of train batches: {len(train_loader)}\")\n",
    "print(f\"# of test batches: {len(test_loader)}\")"
   ]
  },
  {
   "cell_type": "code",
   "execution_count": 9,
   "metadata": {
    "colab": {
     "base_uri": "https://localhost:8080/"
    },
    "id": "uokKboX4VO02",
    "outputId": "2e320992-7e84-4c3c-a5d5-8d2d19c8fb7f"
   },
   "outputs": [
    {
     "name": "stdout",
     "output_type": "stream",
     "text": [
      "sample i/o sizes\n",
      "input size: torch.Size([100, 3, 32, 32])\n",
      "output size: torch.Size([100])\n"
     ]
    }
   ],
   "source": [
    "print(\"sample i/o sizes\")\n",
    "data = next(iter(train_loader))\n",
    "img, target = data\n",
    "print(f\"input size: {img.shape}\")\n",
    "print(f\"output size: {target.shape}\")"
   ]
  },
  {
   "cell_type": "markdown",
   "metadata": {
    "id": "JSJjyNdKkr1t"
   },
   "source": [
    "## LeNet"
   ]
  },
  {
   "cell_type": "code",
   "execution_count": 10,
   "metadata": {
    "id": "Usjem5RSVdso"
   },
   "outputs": [],
   "source": [
    "class LeNet(nn.Module):\n",
    "  def __init__(self):\n",
    "    super(LeNet, self).__init__()\n",
    "    self.conv1 = nn.Conv2d(3, 6, kernel_size=5)\n",
    "    self.conv2 = nn.Conv2d(6, 16, kernel_size=5)\n",
    "    # TODO: missing input feature size\n",
    "    self.fc1   = nn.Linear(16*5*5, 120)\n",
    "    self.fc2   = nn.Linear(120, 84)\n",
    "    # TODO: missing output feature size\n",
    "    self.fc3   = nn.Linear(84, 10)\n",
    "    self.activ = nn.ReLU()\n",
    "\n",
    "  # TODO: add maxpool operation of given kernel size\n",
    "  # https://pytorch.org/docs/stable/nn.functional.html\n",
    "  def pool(self, x, kernel_size=2):\n",
    "    out = F.max_pool2d(x,kernel_size)\n",
    "    return out\n",
    "\n",
    "  def forward(self, x):\n",
    "    out = self.activ(self.conv1(x))\n",
    "    out = self.pool(out)\n",
    "    out = self.activ(self.conv2(out))\n",
    "    out = self.pool(out)\n",
    "\n",
    "    # TODO: flatten\n",
    "    out = out.view(out.size(0),-1)\n",
    "    out = self.activ(self.fc1(out))\n",
    "    out = self.activ(self.fc2(out))\n",
    "    out = self.fc3(out)\n",
    "    return out"
   ]
  },
  {
   "cell_type": "markdown",
   "metadata": {
    "id": "yJAne7Wfkuvr"
   },
   "source": [
    "## VGG"
   ]
  },
  {
   "cell_type": "code",
   "execution_count": 11,
   "metadata": {
    "id": "rDgBFjcgXxqC"
   },
   "outputs": [],
   "source": [
    "class VGG(nn.Module):\n",
    "  CONFIGS = {\n",
    "      \"vgg11\": [64, \"pool\", 128, \"pool\", 256, 256, \"pool\", 512, 512, \"pool\", 512, 512, \"pool\"],\n",
    "      \"vgg13\": [64, 64, \"pool\", 128, 128, \"pool\", 256, 256, \"pool\", 512, 512, \"pool\", 512, 512, \"pool\"],\n",
    "      \"vgg16\": [64, 64, \"pool\", 128, 128, \"pool\", 256, 256, 256, \"pool\", 512, 512, 512, \"pool\", 512, 512, 512, \"pool\"],\n",
    "      \"vgg19\": [64, 64, \"pool\", 128, 128, \"pool\", 256, 256, 256, 256, \"pool\", 512, 512, 512, 512, \"pool\", 512, 512, 512, 512, \"pool\"],\n",
    "  }\n",
    "  def __init__(self, cfg):\n",
    "    super(VGG, self).__init__()\n",
    "    # TODO: missing input dimension\n",
    "    in_dim = 3\n",
    "    layers = []\n",
    "    for layer in self.CONFIGS[cfg]:\n",
    "        if layer == \"pool\":\n",
    "            # TODO: add maxpool module of given kernel size, stride (here 2 each)\n",
    "            # https://pytorch.org/docs/stable/nn.html\n",
    "            maxpool = nn.MaxPool2d(kernel_size=2,stride=2)\n",
    "            layers.append(maxpool)\n",
    "        else:\n",
    "            # TODO: add sequential module consisting of convolution (kernel size = 3, padding = 1), batchnorm, relu\n",
    "            # https://pytorch.org/docs/stable/generated/torch.nn.Sequential.html?highlight=sequential#torch.nn.Sequential\n",
    "            block = nn.Sequential(\n",
    "                nn.Conv2d(in_channels=in_dim,out_channels=layer,kernel_size=3,padding=1),\n",
    "                nn.BatchNorm2d(layer),\n",
    "                nn.ReLU()\n",
    "            )\n",
    "            layers.append(block)\n",
    "            in_dim = layer\n",
    "    # TODO: add average pool to collapse spatial dimensions\n",
    "    avgpool = nn.AvgPool2d(kernel_size=1)\n",
    "    layers.append(avgpool)\n",
    "    self.layers = nn.Sequential(*layers)\n",
    "    # TODO: missing output features\n",
    "    self.fc = nn.Linear(512,10)\n",
    "\n",
    "  def forward(self, x):\n",
    "    out = self.layers(x)\n",
    "    # TODO: flatten\n",
    "    out = out.reshape(out.size(0),-1)\n",
    "    out = self.fc(out)\n",
    "    return out"
   ]
  },
  {
   "cell_type": "markdown",
   "metadata": {
    "id": "gRtGz0Z_kwJr"
   },
   "source": [
    "## ResNet"
   ]
  },
  {
   "cell_type": "code",
   "execution_count": 85,
   "metadata": {
    "id": "HwEtA8o0bRnz"
   },
   "outputs": [],
   "source": [
    "class BasicBlock(nn.Module):\n",
    "  expansion = 1\n",
    "\n",
    "  def __init__(self, in_dim, dim, stride=1):\n",
    "    super(BasicBlock, self).__init__()\n",
    "    self.conv1 = nn.Conv2d(in_dim, dim, kernel_size=3, stride=stride, padding=1, bias=False)\n",
    "    self.bn1 = nn.BatchNorm2d(dim)\n",
    "    self.conv2 = nn.Conv2d(dim, dim, kernel_size=3, stride=1, padding=1, bias=False)\n",
    "    self.bn2 = nn.BatchNorm2d(dim)\n",
    "    self.activ = nn.ReLU()\n",
    "\n",
    "    self.shortcut = nn.Identity()\n",
    "    # TODO: missing condition for parameterized shortcut connection (hint: when input and output dimensions don't match - both spatial, feature)\n",
    "    if (in_dim!=dim):\n",
    "        # TODO: add sequential module consisting of 1x1 convolution (given stride, bias=False), batchnorm\n",
    "        self.shortcut = nn.Sequential(\n",
    "            nn.Conv2d(in_dim,dim,kernel_size=1,stride=stride,bias=False),\n",
    "            nn.BatchNorm2d(dim)\n",
    "        )\n",
    "      \n",
    "  def forward(self, x):\n",
    "    out = self.activ(self.bn1(self.conv1(x)))\n",
    "    out = self.bn2(self.conv2(out))\n",
    "    # TODO: missing residual connection\n",
    "    out += self.shortcut(x)\n",
    "    out = self.activ(out)\n",
    "    return out\n",
    "\n",
    "\n",
    "class Bottleneck(nn.Module):\n",
    "  expansion = 4\n",
    "\n",
    "  def __init__(self, in_dim, dim, stride=1):\n",
    "    super(Bottleneck, self).__init__()\n",
    "    self.conv1 = nn.Conv2d(in_dim, dim, kernel_size=1, bias=False)\n",
    "    self.bn1 = nn.BatchNorm2d(dim)\n",
    "    self.conv2 = nn.Conv2d(dim, dim, kernel_size=3, stride=stride, padding=1, bias=False)\n",
    "    self.bn2 = nn.BatchNorm2d(dim)\n",
    "    self.conv3 = nn.Conv2d(dim, self.expansion * dim, kernel_size=1, bias=False)\n",
    "    self.bn3 = nn.BatchNorm2d(self.expansion*dim)\n",
    "    self.activ = nn.ReLU()\n",
    "\n",
    "    self.shortcut = nn.Identity()\n",
    "    # TODO: missing condition for parameterized shortcut connection (hint: when input and output dimensions don't match - both spatial, feature)\n",
    "    if (in_dim!=dim*self.expansion):\n",
    "        # TODO: add sequential module consisting of 1x1 convolution (given stride, bias=False), batchnorm\n",
    "        self.shortcut = nn.Sequential(\n",
    "            nn.Conv2d(in_dim,dim*self.expansion,kernel_size=1,stride=stride,bias=False),\n",
    "            nn.BatchNorm2d(self.expansion*dim)\n",
    "        )\n",
    "\n",
    "  def forward(self, x):\n",
    "    out = self.activ(self.bn1(self.conv1(x)))\n",
    "    out = self.activ(self.bn2(self.conv2(out)))\n",
    "    out = self.bn3(self.conv3(out))\n",
    "    # TODO: missing residual connection\n",
    "    out += self.shortcut(x)\n",
    "    out = self.activ(out)\n",
    "    return out\n",
    "\n",
    "\n",
    "class ResNet(nn.Module):\n",
    "  CONFIGS = {\n",
    "      \"resnet18\": (BasicBlock, [2, 2, 2, 2]),\n",
    "      \"resnet34\": (BasicBlock, [3, 4, 6, 3]),\n",
    "      \"resnet50\": (Bottleneck, [3, 4, 6, 3]),\n",
    "      \"resnet101\": (Bottleneck, [3, 4, 23, 3]),\n",
    "      \"resnet152\": (Bottleneck, [3, 8, 36, 3]),\n",
    "  }\n",
    "  def __init__(self, cfg):\n",
    "    super(ResNet, self).__init__()\n",
    "    block, num_blocks = self.CONFIGS[cfg]\n",
    "    self.in_dim = 64\n",
    "    self.conv1 = nn.Conv2d(3, 64, kernel_size=3, stride=1, padding=1, bias=False)\n",
    "    self.bn1 = nn.BatchNorm2d(64)\n",
    "    self.layer1 = self._make_layer(block, 64, num_blocks[0],stride=1)\n",
    "    self.layer2 = self._make_layer(block, 128, num_blocks[1], stride=2)\n",
    "    self.layer3 = self._make_layer(block, 256, num_blocks[2], stride=2)\n",
    "    self.layer4 = self._make_layer(block, 512, num_blocks[3], stride=2)\n",
    "    self.activ = nn.ReLU()\n",
    "    # TODO: missing output features\n",
    "    self.linear = nn.Linear(512*block.expansion, 10)\n",
    "\n",
    "  def _make_layer(self, block, dim, num_blocks, stride):\n",
    "    strides = [stride] + [1]*(num_blocks-1)    \n",
    "    layers = []\n",
    "    for stride in strides: \n",
    "        # TODO: create layers within block\n",
    "        layer =block(\n",
    "            self.in_dim,dim,stride\n",
    "        )\n",
    "        layers.append(layer)\n",
    "        # TODO: update in_dim based on block output size\n",
    "        self.in_dim = dim*block.expansion\n",
    "    return nn.Sequential(*layers)\n",
    "\n",
    "  def forward(self, x):\n",
    "    out = self.activ(self.bn1(self.conv1(x)))\n",
    "    out = self.layer1(out)\n",
    "    out = self.layer2(out)\n",
    "    out = self.layer3(out)\n",
    "    out = self.layer4(out)\n",
    "    # TODO: average pool and flatten\n",
    "    out = F.avg_pool2d(out,out.shape[2])\n",
    "    out = out.view(out.size(0),-1)\n",
    "\n",
    "    out = self.linear(out)\n",
    "    return out"
   ]
  },
  {
   "cell_type": "markdown",
   "metadata": {
    "id": "K4ywUDe3k0ZQ"
   },
   "source": [
    "## Utility functions (can ignore)"
   ]
  },
  {
   "cell_type": "code",
   "execution_count": 13,
   "metadata": {
    "id": "iUXIGxAvfdBc"
   },
   "outputs": [],
   "source": [
    "def pbar(p=0, msg=\"\", bar_len=20):\n",
    "    sys.stdout.write(\"\\033[K\")\n",
    "    sys.stdout.write(\"\\x1b[2K\" + \"\\r\")\n",
    "    block = int(round(bar_len * p))\n",
    "    text = \"Progress: [{}] {}% {}\".format(\n",
    "        \"\\x1b[32m\" + \"=\" * (block - 1) + \">\" + \"\\033[0m\" + \"-\" * (bar_len - block),\n",
    "        round(p * 100, 2),\n",
    "        msg,\n",
    "    )\n",
    "    print(text, end=\"\\r\")\n",
    "    if p == 1:\n",
    "        print()\n",
    "\n",
    "\n",
    "class AvgMeter:\n",
    "    def __init__(self):\n",
    "        self.reset()\n",
    "\n",
    "    def reset(self):\n",
    "        self.metrics = {}\n",
    "\n",
    "    def add(self, batch_metrics):\n",
    "        if self.metrics == {}:\n",
    "            for key, value in batch_metrics.items():\n",
    "                self.metrics[key] = [value]\n",
    "        else:\n",
    "            for key, value in batch_metrics.items():\n",
    "                self.metrics[key].append(value)\n",
    "\n",
    "    def get(self):\n",
    "        return {key: np.mean(value) for key, value in self.metrics.items()}\n",
    "\n",
    "    def msg(self):\n",
    "        avg_metrics = {key: np.mean(value) for key, value in self.metrics.items()}\n",
    "        return \"\".join([\"[{}] {:.5f} \".format(key, value) for key, value in avg_metrics.items()])"
   ]
  },
  {
   "cell_type": "markdown",
   "metadata": {
    "id": "cM4qJwaDlBwD"
   },
   "source": [
    "## Training"
   ]
  },
  {
   "cell_type": "code",
   "execution_count": 14,
   "metadata": {
    "id": "XdwembsSja6-"
   },
   "outputs": [],
   "source": [
    "def train(model, optim, lr_sched=None, epochs=20, device=torch.device(\"cuda\" if torch.cuda.is_available() else \"cpu\"), criterion=None, metric_meter=None, out_dir=\"out/\"):\n",
    "  model.to(device)\n",
    "  best_acc = 0\n",
    "  for epoch in range(epochs):\n",
    "    model.train()\n",
    "    metric_meter.reset()\n",
    "    for indx, (img, target) in enumerate(train_loader):\n",
    "      # TODO: send to device (cpu or gpu)\n",
    "      img = img.to(device)\n",
    "      target = target.to(device)\n",
    "\n",
    "      # TODO: missing forward pass\n",
    "      out = model(img)\n",
    "      loss = criterion(out, target)\n",
    "      # TODO: missing backward, parameter update\n",
    "      optim.zero_grad()\n",
    "      loss.backward()\n",
    "      optim.step()\n",
    "      metric_meter.add({\"train loss\": loss.item()})\n",
    "      pbar(indx / len(train_loader), msg=metric_meter.msg())\n",
    "    pbar(1, msg=metric_meter.msg())\n",
    "\n",
    "    model.eval()\n",
    "    metric_meter.reset()\n",
    "    for indx, (img, target) in enumerate(test_loader):\n",
    "      # TODO: send to device (cpu or gpu)\n",
    "      img = img.to(device)\n",
    "      target = target.to(device)\n",
    "\n",
    "      # TODO: missing forward pass\n",
    "      out = model(img)\n",
    "      loss = criterion(out, target)\n",
    "      # TODO: compute accuracy\n",
    "      acc = (out.argmax(1) == target).type(torch.float).sum().item()\n",
    "\n",
    "      metric_meter.add({\"test loss\": loss.item(), \"test acc\": acc})\n",
    "      pbar(indx / len(test_loader), msg=metric_meter.msg())\n",
    "    pbar(1, msg=metric_meter.msg())\n",
    "    \n",
    "    test_metrics = metric_meter.get()\n",
    "    if test_metrics[\"test acc\"] > best_acc:\n",
    "      print(\n",
    "          \"\\x1b[33m\"\n",
    "          + f\"test acc improved from {round(best_acc, 5)} to {round(test_metrics['test acc'], 5)}\"\n",
    "          + \"\\033[0m\"\n",
    "      )\n",
    "      best_acc = test_metrics['test acc']\n",
    "      torch.save(model.state_dict(), os.path.join(out_dir, \"best.ckpt\"))\n",
    "    lr_sched.step()"
   ]
  },
  {
   "cell_type": "markdown",
   "metadata": {
    "id": "7QSyZus3lD7f"
   },
   "source": [
    "## Run Experiments"
   ]
  },
  {
   "cell_type": "code",
   "execution_count": 15,
   "metadata": {
    "id": "1Wy8hIQfiGqS"
   },
   "outputs": [],
   "source": [
    "def run_experiment(model_name=\"lenet\", model_cfg=None, epochs=20):\n",
    "  if model_name == \"lenet\":\n",
    "    model = LeNet()\n",
    "  elif model_name == \"vgg\":\n",
    "    model = VGG(model_cfg)\n",
    "  elif model_name == \"resnet\":\n",
    "    model = ResNet(model_cfg)\n",
    "  else:\n",
    "    raise NotImplementedError()\n",
    "  optim = torch.optim.SGD(model.parameters(), lr=1e-1, momentum=0.9, weight_decay=5e-4)\n",
    "  lr_sched = torch.optim.lr_scheduler.CosineAnnealingLR(optim, T_max=epochs)\n",
    "  criterion = nn.CrossEntropyLoss()\n",
    "  metric_meter = AvgMeter()\n",
    "  out_dir = f\"{model_name}_{model_cfg}\"\n",
    "  os.makedirs(out_dir, exist_ok=True)\n",
    "  train(model, optim, lr_sched, epochs=epochs, criterion=criterion, metric_meter=metric_meter, out_dir=out_dir)"
   ]
  },
  {
   "cell_type": "code",
   "execution_count": 16,
   "metadata": {
    "colab": {
     "base_uri": "https://localhost:8080/",
     "height": 364
    },
    "id": "jgYPvSM4jUEH",
    "outputId": "d7b9ddf7-beb6-4b8b-f078-30526c717a04",
    "scrolled": true
   },
   "outputs": [
    {
     "name": "stdout",
     "output_type": "stream",
     "text": [
      "Progress: [\u001b[32m===================>\u001b[0m] 100% [train loss] 1.99768  \n",
      "Progress: [\u001b[32m===================>\u001b[0m] 100% [test loss] 1.85006 [test acc] 28.98000  \n",
      "\u001b[33mtest acc improved from 0 to 28.98\u001b[0m\n",
      "Progress: [\u001b[32m===================>\u001b[0m] 100% [train loss] 1.91818  \n",
      "Progress: [\u001b[32m===================>\u001b[0m] 100% [test loss] 1.80415 [test acc] 32.53000  \n",
      "\u001b[33mtest acc improved from 28.98 to 32.53\u001b[0m\n",
      "Progress: [\u001b[32m===================>\u001b[0m] 100% [train loss] 1.86331  \n",
      "Progress: [\u001b[32m===================>\u001b[0m] 100% [test loss] 1.79053 [test acc] 32.07000  \n",
      "Progress: [\u001b[32m===================>\u001b[0m] 100% [train loss] 1.83782  \n",
      "Progress: [\u001b[32m===================>\u001b[0m] 100% [test loss] 1.76359 [test acc] 30.90000  \n",
      "Progress: [\u001b[32m===================>\u001b[0m] 100% [train loss] 1.80683  \n",
      "Progress: [\u001b[32m===================>\u001b[0m] 100% [test loss] 1.72777 [test acc] 36.10000  \n",
      "\u001b[33mtest acc improved from 32.53 to 36.1\u001b[0m\n",
      "Progress: [\u001b[32m===================>\u001b[0m] 100% [train loss] 1.77354  \n",
      "Progress: [\u001b[32m===================>\u001b[0m] 100% [test loss] 1.65982 [test acc] 38.66000  \n",
      "\u001b[33mtest acc improved from 36.1 to 38.66\u001b[0m\n",
      "Progress: [\u001b[32m===================>\u001b[0m] 100% [train loss] 1.74006  \n",
      "Progress: [\u001b[32m===================>\u001b[0m] 100% [test loss] 1.71353 [test acc] 38.25000  \n",
      "Progress: [\u001b[32m===================>\u001b[0m] 100% [train loss] 1.68507  \n",
      "Progress: [\u001b[32m===================>\u001b[0m] 100% [test loss] 1.61862 [test acc] 39.67000  \n",
      "\u001b[33mtest acc improved from 38.66 to 39.67\u001b[0m\n",
      "Progress: [\u001b[32m===================>\u001b[0m] 100% [train loss] 1.65915  \n",
      "Progress: [\u001b[32m===================>\u001b[0m] 100% [test loss] 1.58646 [test acc] 42.78000  \n",
      "\u001b[33mtest acc improved from 39.67 to 42.78\u001b[0m\n",
      "Progress: [\u001b[32m===================>\u001b[0m] 100% [train loss] 1.59603  \n",
      "Progress: [\u001b[32m===================>\u001b[0m] 100% [test loss] 1.55104 [test acc] 43.14000  \n",
      "\u001b[33mtest acc improved from 42.78 to 43.14\u001b[0m\n",
      "Progress: [\u001b[32m===================>\u001b[0m] 100% [train loss] 1.54667  \n",
      "Progress: [\u001b[32m===================>\u001b[0m] 100% [test loss] 1.52381 [test acc] 44.78000  \n",
      "\u001b[33mtest acc improved from 43.14 to 44.78\u001b[0m\n",
      "Progress: [\u001b[32m===================>\u001b[0m] 100% [train loss] 1.50150  \n",
      "Progress: [\u001b[32m===================>\u001b[0m] 100% [test loss] 1.47559 [test acc] 45.37000  \n",
      "\u001b[33mtest acc improved from 44.78 to 45.37\u001b[0m\n",
      "Progress: [\u001b[32m===================>\u001b[0m] 100% [train loss] 1.43652  \n",
      "Progress: [\u001b[32m===================>\u001b[0m] 100% [test loss] 1.32363 [test acc] 52.38000  \n",
      "\u001b[33mtest acc improved from 45.37 to 52.38\u001b[0m\n",
      "Progress: [\u001b[32m===================>\u001b[0m] 100% [train loss] 1.37409  \n",
      "Progress: [\u001b[32m===================>\u001b[0m] 100% [test loss] 1.32664 [test acc] 53.85000  \n",
      "\u001b[33mtest acc improved from 52.38 to 53.85\u001b[0m\n",
      "Progress: [\u001b[32m===================>\u001b[0m] 100% [train loss] 1.31185  \n",
      "Progress: [\u001b[32m===================>\u001b[0m] 100% [test loss] 1.21977 [test acc] 56.45000  \n",
      "\u001b[33mtest acc improved from 53.85 to 56.45\u001b[0m\n",
      "Progress: [\u001b[32m===================>\u001b[0m] 100% [train loss] 1.25784  \n",
      "Progress: [\u001b[32m===================>\u001b[0m] 100% [test loss] 1.17891 [test acc] 57.40000  \n",
      "\u001b[33mtest acc improved from 56.45 to 57.4\u001b[0m\n",
      "Progress: [\u001b[32m===================>\u001b[0m] 100% [train loss] 1.20363  \n",
      "Progress: [\u001b[32m===================>\u001b[0m] 100% [test loss] 1.12406 [test acc] 59.52000  \n",
      "\u001b[33mtest acc improved from 57.4 to 59.52\u001b[0m\n",
      "Progress: [\u001b[32m===================>\u001b[0m] 100% [train loss] 1.16398  \n",
      "Progress: [\u001b[32m===================>\u001b[0m] 100% [test loss] 1.08123 [test acc] 61.59000  \n",
      "\u001b[33mtest acc improved from 59.52 to 61.59\u001b[0m\n",
      "Progress: [\u001b[32m===================>\u001b[0m] 100% [train loss] 1.13158  \n",
      "Progress: [\u001b[32m===================>\u001b[0m] 100% [test loss] 1.05498 [test acc] 62.35000  \n",
      "\u001b[33mtest acc improved from 61.59 to 62.35\u001b[0m\n",
      "Progress: [\u001b[32m===================>\u001b[0m] 100% [train loss] 1.11515  \n",
      "Progress: [\u001b[32m===================>\u001b[0m] 100% [test loss] 1.04802 [test acc] 62.57000  \n",
      "\u001b[33mtest acc improved from 62.35 to 62.57\u001b[0m\n"
     ]
    }
   ],
   "source": [
    "run_experiment(model_name=\"lenet\")"
   ]
  },
  {
   "cell_type": "code",
   "execution_count": 17,
   "metadata": {
    "scrolled": true
   },
   "outputs": [
    {
     "name": "stdout",
     "output_type": "stream",
     "text": [
      "Progress: [\u001b[32m===================>\u001b[0m] 100% [train loss] 2.49837   \n",
      "Progress: [\u001b[32m===================>\u001b[0m] 100% [test loss] 2.11753 [test acc] 18.64000  \n",
      "\u001b[33mtest acc improved from 0 to 18.64\u001b[0m\n",
      "Progress: [\u001b[32m===================>\u001b[0m] 100% [train loss] 1.82412  \n",
      "Progress: [\u001b[32m===================>\u001b[0m] 100% [test loss] 1.71281 [test acc] 32.83000  \n",
      "\u001b[33mtest acc improved from 18.64 to 32.83\u001b[0m\n",
      "Progress: [\u001b[32m===================>\u001b[0m] 100% [train loss] 1.49933  \n",
      "Progress: [\u001b[32m===================>\u001b[0m] 100% [test loss] 1.32061 [test acc] 52.28000  \n",
      "\u001b[33mtest acc improved from 32.83 to 52.28\u001b[0m\n",
      "Progress: [\u001b[32m===================>\u001b[0m] 100% [train loss] 1.18352  \n",
      "Progress: [\u001b[32m===================>\u001b[0m] 100% [test loss] 1.00651 [test acc] 64.18000  \n",
      "\u001b[33mtest acc improved from 52.28 to 64.18\u001b[0m\n",
      "Progress: [\u001b[32m===================>\u001b[0m] 100% [train loss] 0.99579  \n",
      "Progress: [\u001b[32m===================>\u001b[0m] 100% [test loss] 1.13784 [test acc] 59.84000  \n",
      "Progress: [\u001b[32m===================>\u001b[0m] 100% [train loss] 0.88512  \n",
      "Progress: [\u001b[32m===================>\u001b[0m] 100% [test loss] 0.97336 [test acc] 67.41000  \n",
      "\u001b[33mtest acc improved from 64.18 to 67.41\u001b[0m\n",
      "Progress: [\u001b[32m===================>\u001b[0m] 100% [train loss] 0.80116  \n",
      "Progress: [\u001b[32m===================>\u001b[0m] 100% [test loss] 1.12813 [test acc] 63.16000  \n",
      "Progress: [\u001b[32m===================>\u001b[0m] 100% [train loss] 0.73332  \n",
      "Progress: [\u001b[32m===================>\u001b[0m] 100% [test loss] 0.81526 [test acc] 72.04000  \n",
      "\u001b[33mtest acc improved from 67.41 to 72.04\u001b[0m\n",
      "Progress: [\u001b[32m===================>\u001b[0m] 100% [train loss] 0.66932  \n",
      "Progress: [\u001b[32m===================>\u001b[0m] 100% [test loss] 0.75485 [test acc] 74.10000  \n",
      "\u001b[33mtest acc improved from 72.04 to 74.1\u001b[0m\n",
      "Progress: [\u001b[32m===================>\u001b[0m] 100% [train loss] 0.61633  \n",
      "Progress: [\u001b[32m===================>\u001b[0m] 100% [test loss] 0.74455 [test acc] 74.44000  \n",
      "\u001b[33mtest acc improved from 74.1 to 74.44\u001b[0m\n",
      "Progress: [\u001b[32m===================>\u001b[0m] 100% [train loss] 0.57556  \n",
      "Progress: [\u001b[32m===================>\u001b[0m] 100% [test loss] 0.81263 [test acc] 73.85000  \n",
      "Progress: [\u001b[32m===================>\u001b[0m] 100% [train loss] 0.52683  \n",
      "Progress: [\u001b[32m===================>\u001b[0m] 100% [test loss] 0.67534 [test acc] 78.31000  \n",
      "\u001b[33mtest acc improved from 74.44 to 78.31\u001b[0m\n",
      "Progress: [\u001b[32m===================>\u001b[0m] 100% [train loss] 0.48040  \n",
      "Progress: [\u001b[32m===================>\u001b[0m] 100% [test loss] 0.56392 [test acc] 81.05000  \n",
      "\u001b[33mtest acc improved from 78.31 to 81.05\u001b[0m\n",
      "Progress: [\u001b[32m===================>\u001b[0m] 100% [train loss] 0.42881  \n",
      "Progress: [\u001b[32m===================>\u001b[0m] 100% [test loss] 0.52627 [test acc] 82.32000  \n",
      "\u001b[33mtest acc improved from 81.05 to 82.32\u001b[0m\n",
      "Progress: [\u001b[32m===================>\u001b[0m] 100% [train loss] 0.37935  \n",
      "Progress: [\u001b[32m===================>\u001b[0m] 100% [test loss] 0.47783 [test acc] 83.94000  \n",
      "\u001b[33mtest acc improved from 82.32 to 83.94\u001b[0m\n",
      "Progress: [\u001b[32m===================>\u001b[0m] 100% [train loss] 0.32716  \n",
      "Progress: [\u001b[32m===================>\u001b[0m] 100% [test loss] 0.49832 [test acc] 83.22000  \n",
      "Progress: [\u001b[32m===================>\u001b[0m] 100% [train loss] 0.28133  \n",
      "Progress: [\u001b[32m===================>\u001b[0m] 100% [test loss] 0.39997 [test acc] 86.63000  \n",
      "\u001b[33mtest acc improved from 83.94 to 86.63\u001b[0m\n",
      "Progress: [\u001b[32m===================>\u001b[0m] 100% [train loss] 0.23462  \n",
      "Progress: [\u001b[32m===================>\u001b[0m] 100% [test loss] 0.37468 [test acc] 87.58000  \n",
      "\u001b[33mtest acc improved from 86.63 to 87.58\u001b[0m\n",
      "Progress: [\u001b[32m===================>\u001b[0m] 100% [train loss] 0.20010  \n",
      "Progress: [\u001b[32m===================>\u001b[0m] 100% [test loss] 0.35865 [test acc] 88.12000  \n",
      "\u001b[33mtest acc improved from 87.58 to 88.12\u001b[0m\n",
      "Progress: [\u001b[32m===================>\u001b[0m] 100% [train loss] 0.17948  \n",
      "Progress: [\u001b[32m===================>\u001b[0m] 100% [test loss] 0.35253 [test acc] 88.49000  \n",
      "\u001b[33mtest acc improved from 88.12 to 88.49\u001b[0m\n"
     ]
    }
   ],
   "source": [
    "run_experiment(model_name=\"vgg\", model_cfg=\"vgg11\")"
   ]
  },
  {
   "cell_type": "code",
   "execution_count": 18,
   "metadata": {
    "scrolled": true
   },
   "outputs": [
    {
     "name": "stdout",
     "output_type": "stream",
     "text": [
      "Progress: [\u001b[32m===================>\u001b[0m] 100% [train loss] 2.44108   \n",
      "Progress: [\u001b[32m===================>\u001b[0m] 100% [test loss] 2.07746 [test acc] 20.70000  \n",
      "\u001b[33mtest acc improved from 0 to 20.7\u001b[0m\n",
      "Progress: [\u001b[32m===================>\u001b[0m] 100% [train loss] 1.79503  \n",
      "Progress: [\u001b[32m===================>\u001b[0m] 100% [test loss] 1.62918 [test acc] 38.93000  \n",
      "\u001b[33mtest acc improved from 20.7 to 38.93\u001b[0m\n",
      "Progress: [\u001b[32m===================>\u001b[0m] 100% [train loss] 1.52694  \n",
      "Progress: [\u001b[32m===================>\u001b[0m] 100% [test loss] 1.38246 [test acc] 48.90000  \n",
      "\u001b[33mtest acc improved from 38.93 to 48.9\u001b[0m\n",
      "Progress: [\u001b[32m===================>\u001b[0m] 100% [train loss] 1.21315  \n",
      "Progress: [\u001b[32m===================>\u001b[0m] 100% [test loss] 1.06427 [test acc] 62.47000  \n",
      "\u001b[33mtest acc improved from 48.9 to 62.47\u001b[0m\n",
      "Progress: [\u001b[32m===================>\u001b[0m] 100% [train loss] 0.97325  \n",
      "Progress: [\u001b[32m===================>\u001b[0m] 100% [test loss] 1.19326 [test acc] 60.26000  \n",
      "Progress: [\u001b[32m===================>\u001b[0m] 100% [train loss] 0.81624  \n",
      "Progress: [\u001b[32m===================>\u001b[0m] 100% [test loss] 0.75401 [test acc] 73.96000  \n",
      "\u001b[33mtest acc improved from 62.47 to 73.96\u001b[0m\n",
      "Progress: [\u001b[32m===================>\u001b[0m] 100% [train loss] 0.71858  \n",
      "Progress: [\u001b[32m===================>\u001b[0m] 100% [test loss] 0.81863 [test acc] 72.17000  \n",
      "Progress: [\u001b[32m===================>\u001b[0m] 100% [train loss] 0.65010  \n",
      "Progress: [\u001b[32m===================>\u001b[0m] 100% [test loss] 0.75620 [test acc] 74.63000  \n",
      "\u001b[33mtest acc improved from 73.96 to 74.63\u001b[0m\n",
      "Progress: [\u001b[32m===================>\u001b[0m] 100% [train loss] 0.58490  \n",
      "Progress: [\u001b[32m===================>\u001b[0m] 100% [test loss] 0.86171 [test acc] 72.56000  \n",
      "Progress: [\u001b[32m===================>\u001b[0m] 100% [train loss] 0.54148  \n",
      "Progress: [\u001b[32m===================>\u001b[0m] 100% [test loss] 0.69478 [test acc] 77.01000  \n",
      "\u001b[33mtest acc improved from 74.63 to 77.01\u001b[0m\n",
      "Progress: [\u001b[32m===================>\u001b[0m] 100% [train loss] 0.49765  \n",
      "Progress: [\u001b[32m===================>\u001b[0m] 100% [test loss] 0.69928 [test acc] 76.93000  \n",
      "Progress: [\u001b[32m===================>\u001b[0m] 100% [train loss] 0.44990  \n",
      "Progress: [\u001b[32m===================>\u001b[0m] 100% [test loss] 0.64635 [test acc] 79.11000  \n",
      "\u001b[33mtest acc improved from 77.01 to 79.11\u001b[0m\n",
      "Progress: [\u001b[32m===================>\u001b[0m] 100% [train loss] 0.40234  \n",
      "Progress: [\u001b[32m===================>\u001b[0m] 100% [test loss] 0.58674 [test acc] 80.00000  \n",
      "\u001b[33mtest acc improved from 79.11 to 80.0\u001b[0m\n",
      "Progress: [\u001b[32m===================>\u001b[0m] 100% [train loss] 0.36221  \n",
      "Progress: [\u001b[32m===================>\u001b[0m] 100% [test loss] 0.47647 [test acc] 83.82000  \n",
      "\u001b[33mtest acc improved from 80.0 to 83.82\u001b[0m\n",
      "Progress: [\u001b[32m===================>\u001b[0m] 100% [train loss] 0.30554  \n",
      "Progress: [\u001b[32m===================>\u001b[0m] 100% [test loss] 0.39319 [test acc] 86.59000  \n",
      "\u001b[33mtest acc improved from 83.82 to 86.59\u001b[0m\n",
      "Progress: [\u001b[32m===================>\u001b[0m] 100% [train loss] 0.26545  \n",
      "Progress: [\u001b[32m===================>\u001b[0m] 100% [test loss] 0.38164 [test acc] 87.23000  \n",
      "\u001b[33mtest acc improved from 86.59 to 87.23\u001b[0m\n",
      "Progress: [\u001b[32m===================>\u001b[0m] 100% [train loss] 0.21576  \n",
      "Progress: [\u001b[32m===================>\u001b[0m] 100% [test loss] 0.32860 [test acc] 89.06000  \n",
      "\u001b[33mtest acc improved from 87.23 to 89.06\u001b[0m\n",
      "Progress: [\u001b[32m===================>\u001b[0m] 100% [train loss] 0.17796  \n",
      "Progress: [\u001b[32m===================>\u001b[0m] 100% [test loss] 0.30572 [test acc] 89.77000  \n",
      "\u001b[33mtest acc improved from 89.06 to 89.77\u001b[0m\n",
      "Progress: [\u001b[32m===================>\u001b[0m] 100% [train loss] 0.14826  \n",
      "Progress: [\u001b[32m===================>\u001b[0m] 100% [test loss] 0.29035 [test acc] 90.45000  \n",
      "\u001b[33mtest acc improved from 89.77 to 90.45\u001b[0m\n",
      "Progress: [\u001b[32m===================>\u001b[0m] 100% [train loss] 0.13208  \n",
      "Progress: [\u001b[32m===================>\u001b[0m] 100% [test loss] 0.28872 [test acc] 90.66000  \n",
      "\u001b[33mtest acc improved from 90.45 to 90.66\u001b[0m\n"
     ]
    }
   ],
   "source": [
    "run_experiment(model_name=\"vgg\", model_cfg=\"vgg13\")"
   ]
  },
  {
   "cell_type": "code",
   "execution_count": 19,
   "metadata": {
    "scrolled": true
   },
   "outputs": [
    {
     "name": "stdout",
     "output_type": "stream",
     "text": [
      "Progress: [\u001b[32m===================>\u001b[0m] 100% [train loss] 2.49230  \n",
      "Progress: [\u001b[32m===================>\u001b[0m] 100% [test loss] 2.24595 [test acc] 14.35000  \n",
      "\u001b[33mtest acc improved from 0 to 14.35\u001b[0m\n",
      "Progress: [\u001b[32m===================>\u001b[0m] 100% [train loss] 1.97769  \n",
      "Progress: [\u001b[32m===================>\u001b[0m] 100% [test loss] 2.00301 [test acc] 23.58000  \n",
      "\u001b[33mtest acc improved from 14.35 to 23.58\u001b[0m\n",
      "Progress: [\u001b[32m===================>\u001b[0m] 100% [train loss] 1.65402  \n",
      "Progress: [\u001b[32m===================>\u001b[0m] 100% [test loss] 1.66933 [test acc] 40.78000  \n",
      "\u001b[33mtest acc improved from 23.58 to 40.78\u001b[0m\n",
      "Progress: [\u001b[32m===================>\u001b[0m] 100% [train loss] 1.33771  \n",
      "Progress: [\u001b[32m===================>\u001b[0m] 100% [test loss] 1.13723 [test acc] 60.03000  \n",
      "\u001b[33mtest acc improved from 40.78 to 60.03\u001b[0m\n",
      "Progress: [\u001b[32m===================>\u001b[0m] 100% [train loss] 1.06645  \n",
      "Progress: [\u001b[32m===================>\u001b[0m] 100% [test loss] 1.10258 [test acc] 61.46000  \n",
      "\u001b[33mtest acc improved from 60.03 to 61.46\u001b[0m\n",
      "Progress: [\u001b[32m===================>\u001b[0m] 100% [train loss] 0.90210  \n",
      "Progress: [\u001b[32m===================>\u001b[0m] 100% [test loss] 0.84698 [test acc] 71.38000  \n",
      "\u001b[33mtest acc improved from 61.46 to 71.38\u001b[0m\n",
      "Progress: [\u001b[32m===================>\u001b[0m] 100% [train loss] 0.78909  \n",
      "Progress: [\u001b[32m===================>\u001b[0m] 100% [test loss] 0.85340 [test acc] 71.80000  \n",
      "\u001b[33mtest acc improved from 71.38 to 71.8\u001b[0m\n",
      "Progress: [\u001b[32m===================>\u001b[0m] 100% [train loss] 0.71298  \n",
      "Progress: [\u001b[32m===================>\u001b[0m] 100% [test loss] 0.81018 [test acc] 73.08000  \n",
      "\u001b[33mtest acc improved from 71.8 to 73.08\u001b[0m\n",
      "Progress: [\u001b[32m===================>\u001b[0m] 100% [train loss] 0.64612  \n",
      "Progress: [\u001b[32m===================>\u001b[0m] 100% [test loss] 0.84514 [test acc] 71.12000  \n",
      "Progress: [\u001b[32m===================>\u001b[0m] 100% [train loss] 0.58225  \n",
      "Progress: [\u001b[32m===================>\u001b[0m] 100% [test loss] 0.72979 [test acc] 76.15000  \n",
      "\u001b[33mtest acc improved from 73.08 to 76.15\u001b[0m\n",
      "Progress: [\u001b[32m===================>\u001b[0m] 100% [train loss] 0.52955  \n",
      "Progress: [\u001b[32m===================>\u001b[0m] 100% [test loss] 0.60654 [test acc] 79.92000  \n",
      "\u001b[33mtest acc improved from 76.15 to 79.92\u001b[0m\n",
      "Progress: [\u001b[32m===================>\u001b[0m] 100% [train loss] 0.48558  \n",
      "Progress: [\u001b[32m===================>\u001b[0m] 100% [test loss] 0.52970 [test acc] 82.30000  \n",
      "\u001b[33mtest acc improved from 79.92 to 82.3\u001b[0m\n",
      "Progress: [\u001b[32m===================>\u001b[0m] 100% [train loss] 0.42712  \n",
      "Progress: [\u001b[32m===================>\u001b[0m] 100% [test loss] 0.55022 [test acc] 82.24000  \n",
      "Progress: [\u001b[32m===================>\u001b[0m] 100% [train loss] 0.37877  \n",
      "Progress: [\u001b[32m===================>\u001b[0m] 100% [test loss] 0.43747 [test acc] 85.24000  \n",
      "\u001b[33mtest acc improved from 82.3 to 85.24\u001b[0m\n",
      "Progress: [\u001b[32m===================>\u001b[0m] 100% [train loss] 0.33444  \n",
      "Progress: [\u001b[32m===================>\u001b[0m] 100% [test loss] 0.41765 [test acc] 85.75000  \n",
      "\u001b[33mtest acc improved from 85.24 to 85.75\u001b[0m\n",
      "Progress: [\u001b[32m===================>\u001b[0m] 100% [train loss] 0.28608  \n",
      "Progress: [\u001b[32m===================>\u001b[0m] 100% [test loss] 0.42421 [test acc] 86.08000  \n",
      "\u001b[33mtest acc improved from 85.75 to 86.08\u001b[0m\n",
      "Progress: [\u001b[32m===================>\u001b[0m] 100% [train loss] 0.23351  \n",
      "Progress: [\u001b[32m===================>\u001b[0m] 100% [test loss] 0.33544 [test acc] 88.79000  \n",
      "\u001b[33mtest acc improved from 86.08 to 88.79\u001b[0m\n",
      "Progress: [\u001b[32m===================>\u001b[0m] 100% [train loss] 0.19538  \n",
      "Progress: [\u001b[32m===================>\u001b[0m] 100% [test loss] 0.30805 [test acc] 90.05000  \n",
      "\u001b[33mtest acc improved from 88.79 to 90.05\u001b[0m\n",
      "Progress: [\u001b[32m===================>\u001b[0m] 100% [train loss] 0.16175  \n",
      "Progress: [\u001b[32m===================>\u001b[0m] 100% [test loss] 0.28934 [test acc] 90.63000  \n",
      "\u001b[33mtest acc improved from 90.05 to 90.63\u001b[0m\n",
      "Progress: [\u001b[32m===================>\u001b[0m] 100% [train loss] 0.14454  \n",
      "Progress: [\u001b[32m===================>\u001b[0m] 100% [test loss] 0.28464 [test acc] 90.81000  \n",
      "\u001b[33mtest acc improved from 90.63 to 90.81\u001b[0m\n"
     ]
    }
   ],
   "source": [
    "run_experiment(model_name=\"vgg\", model_cfg=\"vgg16\")"
   ]
  },
  {
   "cell_type": "code",
   "execution_count": 20,
   "metadata": {
    "scrolled": true
   },
   "outputs": [
    {
     "name": "stdout",
     "output_type": "stream",
     "text": [
      "Progress: [\u001b[32m===================>\u001b[0m] 100% [train loss] 2.36738  \n",
      "Progress: [\u001b[32m===================>\u001b[0m] 100% [test loss] 1.97781 [test acc] 21.20000  \n",
      "\u001b[33mtest acc improved from 0 to 21.2\u001b[0m\n",
      "Progress: [\u001b[32m===================>\u001b[0m] 100% [train loss] 1.93916  \n",
      "Progress: [\u001b[32m===================>\u001b[0m] 100% [test loss] 1.93952 [test acc] 22.01000  \n",
      "\u001b[33mtest acc improved from 21.2 to 22.01\u001b[0m\n",
      "Progress: [\u001b[32m===================>\u001b[0m] 100% [train loss] 1.85289  \n",
      "Progress: [\u001b[32m===================>\u001b[0m] 100% [test loss] 1.98220 [test acc] 26.42000  \n",
      "\u001b[33mtest acc improved from 22.01 to 26.42\u001b[0m\n",
      "Progress: [\u001b[32m===================>\u001b[0m] 100% [train loss] 1.70820  \n",
      "Progress: [\u001b[32m===================>\u001b[0m] 100% [test loss] 1.70799 [test acc] 35.32000  \n",
      "\u001b[33mtest acc improved from 26.42 to 35.32\u001b[0m\n",
      "Progress: [\u001b[32m===================>\u001b[0m] 100% [train loss] 1.52197  \n",
      "Progress: [\u001b[32m===================>\u001b[0m] 100% [test loss] 1.39538 [test acc] 48.63000  \n",
      "\u001b[33mtest acc improved from 35.32 to 48.63\u001b[0m\n",
      "Progress: [\u001b[32m===================>\u001b[0m] 100% [train loss] 1.39908  \n",
      "Progress: [\u001b[32m===================>\u001b[0m] 100% [test loss] 1.59189 [test acc] 48.71000  \n",
      "\u001b[33mtest acc improved from 48.63 to 48.71\u001b[0m\n",
      "Progress: [\u001b[32m===================>\u001b[0m] 100% [train loss] 1.24281  \n",
      "Progress: [\u001b[32m===================>\u001b[0m] 100% [test loss] 1.48484 [test acc] 48.50000  \n",
      "Progress: [\u001b[32m===================>\u001b[0m] 100% [train loss] 1.05808  \n",
      "Progress: [\u001b[32m===================>\u001b[0m] 100% [test loss] 1.15496 [test acc] 58.28000  \n",
      "\u001b[33mtest acc improved from 48.71 to 58.28\u001b[0m\n",
      "Progress: [\u001b[32m===================>\u001b[0m] 100% [train loss] 0.91882  \n",
      "Progress: [\u001b[32m===================>\u001b[0m] 100% [test loss] 1.10952 [test acc] 62.64000  \n",
      "\u001b[33mtest acc improved from 58.28 to 62.64\u001b[0m\n",
      "Progress: [\u001b[32m===================>\u001b[0m] 100% [train loss] 0.80825  \n",
      "Progress: [\u001b[32m===================>\u001b[0m] 100% [test loss] 0.93130 [test acc] 67.77000  \n",
      "\u001b[33mtest acc improved from 62.64 to 67.77\u001b[0m\n",
      "Progress: [\u001b[32m===================>\u001b[0m] 100% [train loss] 0.72778  \n",
      "Progress: [\u001b[32m===================>\u001b[0m] 100% [test loss] 0.75594 [test acc] 74.14000  \n",
      "\u001b[33mtest acc improved from 67.77 to 74.14\u001b[0m\n",
      "Progress: [\u001b[32m===================>\u001b[0m] 100% [train loss] 0.65767  \n",
      "Progress: [\u001b[32m===================>\u001b[0m] 100% [test loss] 0.86275 [test acc] 72.95000  \n",
      "Progress: [\u001b[32m===================>\u001b[0m] 100% [train loss] 0.59681  \n",
      "Progress: [\u001b[32m===================>\u001b[0m] 100% [test loss] 0.63934 [test acc] 78.87000  \n",
      "\u001b[33mtest acc improved from 74.14 to 78.87\u001b[0m\n",
      "Progress: [\u001b[32m===================>\u001b[0m] 100% [train loss] 0.52449  \n",
      "Progress: [\u001b[32m===================>\u001b[0m] 100% [test loss] 0.58232 [test acc] 80.56000  \n",
      "\u001b[33mtest acc improved from 78.87 to 80.56\u001b[0m\n",
      "Progress: [\u001b[32m===================>\u001b[0m] 100% [train loss] 0.47651  \n",
      "Progress: [\u001b[32m===================>\u001b[0m] 100% [test loss] 0.61759 [test acc] 79.96000  \n",
      "Progress: [\u001b[32m===================>\u001b[0m] 100% [train loss] 0.41082  \n",
      "Progress: [\u001b[32m===================>\u001b[0m] 100% [test loss] 0.47925 [test acc] 84.07000  \n",
      "\u001b[33mtest acc improved from 80.56 to 84.07\u001b[0m\n",
      "Progress: [\u001b[32m===================>\u001b[0m] 100% [train loss] 0.36357  \n",
      "Progress: [\u001b[32m===================>\u001b[0m] 100% [test loss] 0.42612 [test acc] 85.93000  \n",
      "\u001b[33mtest acc improved from 84.07 to 85.93\u001b[0m\n",
      "Progress: [\u001b[32m===================>\u001b[0m] 100% [train loss] 0.31390  \n",
      "Progress: [\u001b[32m===================>\u001b[0m] 100% [test loss] 0.40071 [test acc] 87.11000  \n",
      "\u001b[33mtest acc improved from 85.93 to 87.11\u001b[0m\n",
      "Progress: [\u001b[32m===================>\u001b[0m] 100% [train loss] 0.27374  \n",
      "Progress: [\u001b[32m===================>\u001b[0m] 100% [test loss] 0.37058 [test acc] 88.27000  \n",
      "\u001b[33mtest acc improved from 87.11 to 88.27\u001b[0m\n",
      "Progress: [\u001b[32m===================>\u001b[0m] 100% [train loss] 0.25003  \n",
      "Progress: [\u001b[32m===================>\u001b[0m] 100% [test loss] 0.36040 [test acc] 88.21000  \n"
     ]
    }
   ],
   "source": [
    "run_experiment(model_name=\"vgg\", model_cfg=\"vgg19\")"
   ]
  },
  {
   "cell_type": "code",
   "execution_count": 91,
   "metadata": {
    "scrolled": true
   },
   "outputs": [
    {
     "name": "stdout",
     "output_type": "stream",
     "text": [
      "Progress: [\u001b[32m===================>\u001b[0m] 100% [train loss] 1.85363  \n",
      "Progress: [\u001b[32m===================>\u001b[0m] 100% [test loss] 1.50344 [test acc] 45.19000  \n",
      "\u001b[33mtest acc improved from 0 to 45.19\u001b[0m\n",
      "Progress: [\u001b[32m===================>\u001b[0m] 100% [train loss] 1.39760  \n",
      "Progress: [\u001b[32m===================>\u001b[0m] 100% [test loss] 1.36675 [test acc] 51.39000  \n",
      "\u001b[33mtest acc improved from 45.19 to 51.39\u001b[0m\n",
      "Progress: [\u001b[32m===================>\u001b[0m] 100% [train loss] 1.10971  \n",
      "Progress: [\u001b[32m===================>\u001b[0m] 100% [test loss] 1.00291 [test acc] 64.05000  \n",
      "\u001b[33mtest acc improved from 51.39 to 64.05\u001b[0m\n",
      "Progress: [\u001b[32m===================>\u001b[0m] 100% [train loss] 0.91560  \n",
      "Progress: [\u001b[32m===================>\u001b[0m] 100% [test loss] 1.07837 [test acc] 63.15000  \n",
      "Progress: [\u001b[32m===================>\u001b[0m] 100% [train loss] 0.75763  \n",
      "Progress: [\u001b[32m===================>\u001b[0m] 100% [test loss] 0.81671 [test acc] 72.21000  \n",
      "\u001b[33mtest acc improved from 64.05 to 72.21\u001b[0m\n",
      "Progress: [\u001b[32m===================>\u001b[0m] 100% [train loss] 0.65539  \n",
      "Progress: [\u001b[32m===================>\u001b[0m] 100% [test loss] 0.73771 [test acc] 74.90000  \n",
      "\u001b[33mtest acc improved from 72.21 to 74.9\u001b[0m\n",
      "Progress: [\u001b[32m===================>\u001b[0m] 100% [train loss] 0.58522  \n",
      "Progress: [\u001b[32m===================>\u001b[0m] 100% [test loss] 0.76168 [test acc] 74.62000  \n",
      "Progress: [\u001b[32m===================>\u001b[0m] 100% [train loss] 0.53549  \n",
      "Progress: [\u001b[32m===================>\u001b[0m] 100% [test loss] 0.64815 [test acc] 78.03000  \n",
      "\u001b[33mtest acc improved from 74.9 to 78.03\u001b[0m\n",
      "Progress: [\u001b[32m===================>\u001b[0m] 100% [train loss] 0.49188  \n",
      "Progress: [\u001b[32m===================>\u001b[0m] 100% [test loss] 0.54227 [test acc] 81.41000  \n",
      "\u001b[33mtest acc improved from 78.03 to 81.41\u001b[0m\n",
      "Progress: [\u001b[32m===================>\u001b[0m] 100% [train loss] 0.44862  \n",
      "Progress: [\u001b[32m===================>\u001b[0m] 100% [test loss] 0.75183 [test acc] 77.86000  \n",
      "Progress: [\u001b[32m===================>\u001b[0m] 100% [train loss] 0.41324  \n",
      "Progress: [\u001b[32m===================>\u001b[0m] 100% [test loss] 0.45600 [test acc] 84.32000  \n",
      "\u001b[33mtest acc improved from 81.41 to 84.32\u001b[0m\n",
      "Progress: [\u001b[32m===================>\u001b[0m] 100% [train loss] 0.37006  \n",
      "Progress: [\u001b[32m===================>\u001b[0m] 100% [test loss] 0.52401 [test acc] 82.63000  \n",
      "Progress: [\u001b[32m===================>\u001b[0m] 100% [train loss] 0.32874  \n",
      "Progress: [\u001b[32m===================>\u001b[0m] 100% [test loss] 0.44176 [test acc] 85.46000  \n",
      "\u001b[33mtest acc improved from 84.32 to 85.46\u001b[0m\n",
      "Progress: [\u001b[32m===================>\u001b[0m] 100% [train loss] 0.28406  \n",
      "Progress: [\u001b[32m===================>\u001b[0m] 100% [test loss] 0.39078 [test acc] 86.84000  \n",
      "\u001b[33mtest acc improved from 85.46 to 86.84\u001b[0m\n",
      "Progress: [\u001b[32m===================>\u001b[0m] 100% [train loss] 0.24206  \n",
      "Progress: [\u001b[32m===================>\u001b[0m] 100% [test loss] 0.35797 [test acc] 87.93000  \n",
      "\u001b[33mtest acc improved from 86.84 to 87.93\u001b[0m\n",
      "Progress: [\u001b[32m===================>\u001b[0m] 100% [train loss] 0.20007  \n",
      "Progress: [\u001b[32m===================>\u001b[0m] 100% [test loss] 0.30316 [test acc] 90.00000  \n",
      "\u001b[33mtest acc improved from 87.93 to 90.0\u001b[0m\n",
      "Progress: [\u001b[32m===================>\u001b[0m] 100% [train loss] 0.15968  \n",
      "Progress: [\u001b[32m===================>\u001b[0m] 100% [test loss] 0.27374 [test acc] 91.14000  \n",
      "\u001b[33mtest acc improved from 90.0 to 91.14\u001b[0m\n",
      "Progress: [\u001b[32m===================>\u001b[0m] 100% [train loss] 0.12435  \n",
      "Progress: [\u001b[32m===================>\u001b[0m] 100% [test loss] 0.26047 [test acc] 91.40000  \n",
      "\u001b[33mtest acc improved from 91.14 to 91.4\u001b[0m\n",
      "Progress: [\u001b[32m===================>\u001b[0m] 100% [train loss] 0.09912  \n",
      "Progress: [\u001b[32m===================>\u001b[0m] 100% [test loss] 0.23887 [test acc] 92.20000  \n",
      "\u001b[33mtest acc improved from 91.4 to 92.2\u001b[0m\n",
      "Progress: [\u001b[32m===================>\u001b[0m] 100% [train loss] 0.08385  \n",
      "Progress: [\u001b[32m===================>\u001b[0m] 100% [test loss] 0.23715 [test acc] 92.26000  \n",
      "\u001b[33mtest acc improved from 92.2 to 92.26\u001b[0m\n"
     ]
    }
   ],
   "source": [
    "run_experiment(model_name=\"resnet\", model_cfg=\"resnet18\")"
   ]
  },
  {
   "cell_type": "code",
   "execution_count": 93,
   "metadata": {
    "scrolled": true
   },
   "outputs": [
    {
     "name": "stdout",
     "output_type": "stream",
     "text": [
      "Progress: [\u001b[32m===================>\u001b[0m] 100% [train loss] 2.49105   \n",
      "Progress: [\u001b[32m===================>\u001b[0m] 100% [test loss] 1.95167 [test acc] 22.99000  \n",
      "\u001b[33mtest acc improved from 0 to 22.99\u001b[0m\n",
      "Progress: [\u001b[32m===================>\u001b[0m] 100% [train loss] 1.84636  \n",
      "Progress: [\u001b[32m===================>\u001b[0m] 100% [test loss] 1.71040 [test acc] 34.28000  \n",
      "\u001b[33mtest acc improved from 22.99 to 34.28\u001b[0m\n",
      "Progress: [\u001b[32m===================>\u001b[0m] 100% [train loss] 1.59796  \n",
      "Progress: [\u001b[32m===================>\u001b[0m] 100% [test loss] 1.41821 [test acc] 46.98000  \n",
      "\u001b[33mtest acc improved from 34.28 to 46.98\u001b[0m\n",
      "Progress: [\u001b[32m===================>\u001b[0m] 100% [train loss] 1.32265  \n",
      "Progress: [\u001b[32m===================>\u001b[0m] 100% [test loss] 1.18074 [test acc] 56.99000  \n",
      "\u001b[33mtest acc improved from 46.98 to 56.99\u001b[0m\n",
      "Progress: [\u001b[32m===================>\u001b[0m] 100% [train loss] 1.13106  \n",
      "Progress: [\u001b[32m===================>\u001b[0m] 100% [test loss] 1.17298 [test acc] 57.31000  \n",
      "\u001b[33mtest acc improved from 56.99 to 57.31\u001b[0m\n",
      "Progress: [\u001b[32m===================>\u001b[0m] 100% [train loss] 1.00609  \n",
      "Progress: [\u001b[32m===================>\u001b[0m] 100% [test loss] 1.40445 [test acc] 52.20000  \n",
      "Progress: [\u001b[32m===================>\u001b[0m] 100% [train loss] 0.91767  \n",
      "Progress: [\u001b[32m===================>\u001b[0m] 100% [test loss] 1.04850 [test acc] 64.88000  \n",
      "\u001b[33mtest acc improved from 57.31 to 64.88\u001b[0m\n",
      "Progress: [\u001b[32m===================>\u001b[0m] 100% [train loss] 0.84548  \n",
      "Progress: [\u001b[32m===================>\u001b[0m] 100% [test loss] 0.86910 [test acc] 68.86000  \n",
      "\u001b[33mtest acc improved from 64.88 to 68.86\u001b[0m\n",
      "Progress: [\u001b[32m===================>\u001b[0m] 100% [train loss] 0.77406  \n",
      "Progress: [\u001b[32m===================>\u001b[0m] 100% [test loss] 0.80187 [test acc] 72.25000  \n",
      "\u001b[33mtest acc improved from 68.86 to 72.25\u001b[0m\n",
      "Progress: [\u001b[32m===================>\u001b[0m] 100% [train loss] 0.71192  \n",
      "Progress: [\u001b[32m===================>\u001b[0m] 100% [test loss] 0.73169 [test acc] 75.04000  \n",
      "\u001b[33mtest acc improved from 72.25 to 75.04\u001b[0m\n",
      "Progress: [\u001b[32m===================>\u001b[0m] 100% [train loss] 0.63558  \n",
      "Progress: [\u001b[32m===================>\u001b[0m] 100% [test loss] 0.80377 [test acc] 73.56000  \n",
      "Progress: [\u001b[32m===================>\u001b[0m] 100% [train loss] 0.57921  \n",
      "Progress: [\u001b[32m===================>\u001b[0m] 100% [test loss] 0.62985 [test acc] 78.65000  \n",
      "\u001b[33mtest acc improved from 75.04 to 78.65\u001b[0m\n",
      "Progress: [\u001b[32m===================>\u001b[0m] 100% [train loss] 0.52649  \n",
      "Progress: [\u001b[32m===================>\u001b[0m] 100% [test loss] 0.64654 [test acc] 77.70000  \n",
      "Progress: [\u001b[32m===================>\u001b[0m] 100% [train loss] 0.47134  \n",
      "Progress: [\u001b[32m===================>\u001b[0m] 100% [test loss] 0.55946 [test acc] 80.83000  \n",
      "\u001b[33mtest acc improved from 78.65 to 80.83\u001b[0m\n",
      "Progress: [\u001b[32m===================>\u001b[0m] 100% [train loss] 0.42190  \n",
      "Progress: [\u001b[32m===================>\u001b[0m] 100% [test loss] 0.51426 [test acc] 82.56000  \n",
      "\u001b[33mtest acc improved from 80.83 to 82.56\u001b[0m\n",
      "Progress: [\u001b[32m===================>\u001b[0m] 100% [train loss] 0.36953  \n",
      "Progress: [\u001b[32m===================>\u001b[0m] 100% [test loss] 0.43794 [test acc] 85.34000  \n",
      "\u001b[33mtest acc improved from 82.56 to 85.34\u001b[0m\n",
      "Progress: [\u001b[32m===================>\u001b[0m] 100% [train loss] 0.32161  \n",
      "Progress: [\u001b[32m===================>\u001b[0m] 100% [test loss] 0.41156 [test acc] 85.87000  \n",
      "\u001b[33mtest acc improved from 85.34 to 85.87\u001b[0m\n",
      "Progress: [\u001b[32m===================>\u001b[0m] 100% [train loss] 0.28001  \n",
      "Progress: [\u001b[32m===================>\u001b[0m] 100% [test loss] 0.35456 [test acc] 87.98000  \n",
      "\u001b[33mtest acc improved from 85.87 to 87.98\u001b[0m\n",
      "Progress: [\u001b[32m===================>\u001b[0m] 100% [train loss] 0.24272  \n",
      "Progress: [\u001b[32m===================>\u001b[0m] 100% [test loss] 0.32878 [test acc] 89.06000  \n",
      "\u001b[33mtest acc improved from 87.98 to 89.06\u001b[0m\n",
      "Progress: [\u001b[32m===================>\u001b[0m] 100% [train loss] 0.21911  \n",
      "Progress: [\u001b[32m===================>\u001b[0m] 100% [test loss] 0.32036 [test acc] 89.35000  \n",
      "\u001b[33mtest acc improved from 89.06 to 89.35\u001b[0m\n"
     ]
    }
   ],
   "source": [
    "run_experiment(model_name=\"resnet\", model_cfg=\"resnet50\")"
   ]
  },
  {
   "cell_type": "code",
   "execution_count": 95,
   "metadata": {
    "scrolled": true
   },
   "outputs": [
    {
     "name": "stdout",
     "output_type": "stream",
     "text": [
      "Progress: [\u001b[32m===================>\u001b[0m] 100% [train loss] 2.61806   \n",
      "Progress: [\u001b[32m===================>\u001b[0m] 100% [test loss] 1.98638 [test acc] 22.47000  \n",
      "\u001b[33mtest acc improved from 0 to 22.47\u001b[0m\n",
      "Progress: [\u001b[32m===================>\u001b[0m] 100% [train loss] 1.93957  \n",
      "Progress: [\u001b[32m===================>\u001b[0m] 100% [test loss] 1.79311 [test acc] 31.27000  \n",
      "\u001b[33mtest acc improved from 22.47 to 31.27\u001b[0m\n",
      "Progress: [\u001b[32m===================>\u001b[0m] 100% [train loss] 1.71470  \n",
      "Progress: [\u001b[32m===================>\u001b[0m] 100% [test loss] 1.57397 [test acc] 42.86000  \n",
      "\u001b[33mtest acc improved from 31.27 to 42.86\u001b[0m\n",
      "Progress: [\u001b[32m===================>\u001b[0m] 100% [train loss] 1.48099  \n",
      "Progress: [\u001b[32m===================>\u001b[0m] 100% [test loss] 1.40066 [test acc] 48.99000  \n",
      "\u001b[33mtest acc improved from 42.86 to 48.99\u001b[0m\n",
      "Progress: [\u001b[32m===================>\u001b[0m] 100% [train loss] 1.28673  \n",
      "Progress: [\u001b[32m===================>\u001b[0m] 100% [test loss] 1.25056 [test acc] 54.62000  \n",
      "\u001b[33mtest acc improved from 48.99 to 54.62\u001b[0m\n",
      "Progress: [\u001b[32m===================>\u001b[0m] 100% [train loss] 1.12041  \n",
      "Progress: [\u001b[32m===================>\u001b[0m] 100% [test loss] 1.02216 [test acc] 62.94000  \n",
      "\u001b[33mtest acc improved from 54.62 to 62.94\u001b[0m\n",
      "Progress: [\u001b[32m===================>\u001b[0m] 100% [train loss] 0.99068  \n",
      "Progress: [\u001b[32m===================>\u001b[0m] 100% [test loss] 1.01641 [test acc] 65.01000  \n",
      "\u001b[33mtest acc improved from 62.94 to 65.01\u001b[0m\n",
      "Progress: [\u001b[32m===================>\u001b[0m] 100% [train loss] 0.89672  \n",
      "Progress: [\u001b[32m===================>\u001b[0m] 100% [test loss] 1.08985 [test acc] 63.22000  \n",
      "Progress: [\u001b[32m===================>\u001b[0m] 100% [train loss] 0.80515  \n",
      "Progress: [\u001b[32m===================>\u001b[0m] 100% [test loss] 0.81202 [test acc] 71.26000  \n",
      "\u001b[33mtest acc improved from 65.01 to 71.26\u001b[0m\n",
      "Progress: [\u001b[32m===================>\u001b[0m] 100% [train loss] 0.72578  \n",
      "Progress: [\u001b[32m===================>\u001b[0m] 100% [test loss] 0.79400 [test acc] 72.15000  \n",
      "\u001b[33mtest acc improved from 71.26 to 72.15\u001b[0m\n",
      "Progress: [\u001b[32m===================>\u001b[0m] 100% [train loss] 0.65587  \n",
      "Progress: [\u001b[32m===================>\u001b[0m] 100% [test loss] 0.74817 [test acc] 74.46000  \n",
      "\u001b[33mtest acc improved from 72.15 to 74.46\u001b[0m\n",
      "Progress: [\u001b[32m===================>\u001b[0m] 100% [train loss] 0.58560  \n",
      "Progress: [\u001b[32m===================>\u001b[0m] 100% [test loss] 0.57894 [test acc] 80.03000  \n",
      "\u001b[33mtest acc improved from 74.46 to 80.03\u001b[0m\n",
      "Progress: [\u001b[32m===================>\u001b[0m] 100% [train loss] 0.53010  \n",
      "Progress: [\u001b[32m===================>\u001b[0m] 100% [test loss] 0.59598 [test acc] 79.81000  \n",
      "Progress: [\u001b[32m===================>\u001b[0m] 100% [train loss] 0.48260  \n",
      "Progress: [\u001b[32m===================>\u001b[0m] 100% [test loss] 0.61924 [test acc] 79.08000  \n",
      "Progress: [\u001b[32m===================>\u001b[0m] 100% [train loss] 0.42896  \n",
      "Progress: [\u001b[32m===================>\u001b[0m] 100% [test loss] 0.48719 [test acc] 83.62000  \n",
      "\u001b[33mtest acc improved from 80.03 to 83.62\u001b[0m\n",
      "Progress: [\u001b[32m===================>\u001b[0m] 100% [train loss] 0.37894  \n",
      "Progress: [\u001b[32m===================>\u001b[0m] 100% [test loss] 0.42114 [test acc] 85.93000  \n",
      "\u001b[33mtest acc improved from 83.62 to 85.93\u001b[0m\n",
      "Progress: [\u001b[32m===================>\u001b[0m] 100% [train loss] 0.32384  \n",
      "Progress: [\u001b[32m===================>\u001b[0m] 100% [test loss] 0.39248 [test acc] 86.80000  \n",
      "\u001b[33mtest acc improved from 85.93 to 86.8\u001b[0m\n",
      "Progress: [\u001b[32m===================>\u001b[0m] 100% [train loss] 0.27796  \n",
      "Progress: [\u001b[32m===================>\u001b[0m] 100% [test loss] 0.33872 [test acc] 88.75000  \n",
      "\u001b[33mtest acc improved from 86.8 to 88.75\u001b[0m\n",
      "Progress: [\u001b[32m===================>\u001b[0m] 100% [train loss] 0.24053  \n",
      "Progress: [\u001b[32m===================>\u001b[0m] 100% [test loss] 0.32085 [test acc] 89.48000  \n",
      "\u001b[33mtest acc improved from 88.75 to 89.48\u001b[0m\n",
      "Progress: [\u001b[32m===================>\u001b[0m] 100% [train loss] 0.21585  \n",
      "Progress: [\u001b[32m===================>\u001b[0m] 100% [test loss] 0.31588 [test acc] 89.77000  \n",
      "\u001b[33mtest acc improved from 89.48 to 89.77\u001b[0m\n"
     ]
    }
   ],
   "source": [
    "run_experiment(model_name=\"resnet\", model_cfg=\"resnet152\")"
   ]
  },
  {
   "cell_type": "markdown",
   "metadata": {
    "id": "4HBcgGTHlQqx"
   },
   "source": [
    "## Questions\n",
    "- Train and report test set metrics on three model types - LeNet, VGG, ResNet. \n",
    "- Which model performs the best and why?\n",
    "- Which model performs the worst and why?"
   ]
  },
  {
   "cell_type": "markdown",
   "metadata": {
    "id": "Jaf-PO1-l6c3"
   },
   "source": [
    "- Number of the Epochs run = 20\n",
    "<div align=\"center\">\n",
    "\n",
    "|Sl No|Model Name |Test set Accuracies in Percentage(%)|\n",
    "|:--:|:-----------:|:------------------------------------:|\n",
    "|1. |LeNEt |62.57|\n",
    "|2.| VGG11 | 88.49|\n",
    "|3.| VGG13 | 90.66|\n",
    "|4.| VGG16 | 90.81|\n",
    "|5.| VGG19 | 88.27|\n",
    "|6.| ResNet18| 92.26|\n",
    "|7.| ResNet50| 89.35|\n",
    "|8.| ResNet152| 89.77|\n",
    "\n",
    "\n",
    "</div>\n"
   ]
  },
  {
   "cell_type": "markdown",
   "metadata": {},
   "source": [
    "1. The performance of LeNet is not so good. Lenet performs the worst because of shallow architecture and no better optimisation to push the accuracy.\n",
    "\n",
    "\n",
    "2. Resnet performs better ,The principle on which ResNets work is to build a deeper networks compared to other plain networks and simultaneously find a optimised number of layers to negate the vanishing gradient problem.\n",
    "* Note : Increased Resenet performs worst than its lower versions , so one need to find the fit properly according to the dataset and model to be used"
   ]
  },
  {
   "cell_type": "markdown",
   "metadata": {},
   "source": [
    "#### Bonus Marks\n",
    "Separate File (```EE21S055_Tutorial6_Bonus.ipynb```) \\\n",
    "1 Increased the channel from 16 to 32 \n",
    "* 16->32 Accuracy Moved from 62.57% to 64.48%\n",
    "\n",
    "2 Increased the channel from 32 to 64\n",
    "* 32->64  Accuracy Moved from  64.48% to 71.33\n",
    "\n",
    "This clearly shows that the increase in the channel number increased the accuracies "
   ]
  }
 ],
 "metadata": {
  "accelerator": "GPU",
  "colab": {
   "collapsed_sections": [],
   "provenance": []
  },
  "gpuClass": "standard",
  "kernelspec": {
   "display_name": "Python 3.9.12 ('DLI')",
   "language": "python",
   "name": "python3"
  },
  "language_info": {
   "codemirror_mode": {
    "name": "ipython",
    "version": 3
   },
   "file_extension": ".py",
   "mimetype": "text/x-python",
   "name": "python",
   "nbconvert_exporter": "python",
   "pygments_lexer": "ipython3",
   "version": "3.9.12"
  },
  "vscode": {
   "interpreter": {
    "hash": "00a1ae1e6deaa37076d141dc26cd1e058ef740ecaf1a0d690f5f0ccaa51e4cb2"
   }
  },
  "widgets": {
   "application/vnd.jupyter.widget-state+json": {
    "06207f42aceb4a8b8d0137af9022f4c3": {
     "model_module": "@jupyter-widgets/controls",
     "model_module_version": "1.5.0",
     "model_name": "ProgressStyleModel",
     "state": {
      "_model_module": "@jupyter-widgets/controls",
      "_model_module_version": "1.5.0",
      "_model_name": "ProgressStyleModel",
      "_view_count": null,
      "_view_module": "@jupyter-widgets/base",
      "_view_module_version": "1.2.0",
      "_view_name": "StyleView",
      "bar_color": null,
      "description_width": ""
     }
    },
    "080d88887c78489e8351298ca4128f8d": {
     "model_module": "@jupyter-widgets/controls",
     "model_module_version": "1.5.0",
     "model_name": "DescriptionStyleModel",
     "state": {
      "_model_module": "@jupyter-widgets/controls",
      "_model_module_version": "1.5.0",
      "_model_name": "DescriptionStyleModel",
      "_view_count": null,
      "_view_module": "@jupyter-widgets/base",
      "_view_module_version": "1.2.0",
      "_view_name": "StyleView",
      "description_width": ""
     }
    },
    "26fa1345d7874f65908baacf637b44df": {
     "model_module": "@jupyter-widgets/controls",
     "model_module_version": "1.5.0",
     "model_name": "HBoxModel",
     "state": {
      "_dom_classes": [],
      "_model_module": "@jupyter-widgets/controls",
      "_model_module_version": "1.5.0",
      "_model_name": "HBoxModel",
      "_view_count": null,
      "_view_module": "@jupyter-widgets/controls",
      "_view_module_version": "1.5.0",
      "_view_name": "HBoxView",
      "box_style": "",
      "children": [
       "IPY_MODEL_d1d1b169249b45bf821ac6da3cb8a0b1",
       "IPY_MODEL_685ad53540ab4c0aa0d24f7fe46c4362",
       "IPY_MODEL_d632174679ca4f5ca60f0fd9808b5904"
      ],
      "layout": "IPY_MODEL_3dbfc107a8144247be99e87c85aa7482"
     }
    },
    "3dbfc107a8144247be99e87c85aa7482": {
     "model_module": "@jupyter-widgets/base",
     "model_module_version": "1.2.0",
     "model_name": "LayoutModel",
     "state": {
      "_model_module": "@jupyter-widgets/base",
      "_model_module_version": "1.2.0",
      "_model_name": "LayoutModel",
      "_view_count": null,
      "_view_module": "@jupyter-widgets/base",
      "_view_module_version": "1.2.0",
      "_view_name": "LayoutView",
      "align_content": null,
      "align_items": null,
      "align_self": null,
      "border": null,
      "bottom": null,
      "display": null,
      "flex": null,
      "flex_flow": null,
      "grid_area": null,
      "grid_auto_columns": null,
      "grid_auto_flow": null,
      "grid_auto_rows": null,
      "grid_column": null,
      "grid_gap": null,
      "grid_row": null,
      "grid_template_areas": null,
      "grid_template_columns": null,
      "grid_template_rows": null,
      "height": null,
      "justify_content": null,
      "justify_items": null,
      "left": null,
      "margin": null,
      "max_height": null,
      "max_width": null,
      "min_height": null,
      "min_width": null,
      "object_fit": null,
      "object_position": null,
      "order": null,
      "overflow": null,
      "overflow_x": null,
      "overflow_y": null,
      "padding": null,
      "right": null,
      "top": null,
      "visibility": null,
      "width": null
     }
    },
    "640fc0583bd644a0bbe30c90eaa8326a": {
     "model_module": "@jupyter-widgets/base",
     "model_module_version": "1.2.0",
     "model_name": "LayoutModel",
     "state": {
      "_model_module": "@jupyter-widgets/base",
      "_model_module_version": "1.2.0",
      "_model_name": "LayoutModel",
      "_view_count": null,
      "_view_module": "@jupyter-widgets/base",
      "_view_module_version": "1.2.0",
      "_view_name": "LayoutView",
      "align_content": null,
      "align_items": null,
      "align_self": null,
      "border": null,
      "bottom": null,
      "display": null,
      "flex": null,
      "flex_flow": null,
      "grid_area": null,
      "grid_auto_columns": null,
      "grid_auto_flow": null,
      "grid_auto_rows": null,
      "grid_column": null,
      "grid_gap": null,
      "grid_row": null,
      "grid_template_areas": null,
      "grid_template_columns": null,
      "grid_template_rows": null,
      "height": null,
      "justify_content": null,
      "justify_items": null,
      "left": null,
      "margin": null,
      "max_height": null,
      "max_width": null,
      "min_height": null,
      "min_width": null,
      "object_fit": null,
      "object_position": null,
      "order": null,
      "overflow": null,
      "overflow_x": null,
      "overflow_y": null,
      "padding": null,
      "right": null,
      "top": null,
      "visibility": null,
      "width": null
     }
    },
    "685ad53540ab4c0aa0d24f7fe46c4362": {
     "model_module": "@jupyter-widgets/controls",
     "model_module_version": "1.5.0",
     "model_name": "FloatProgressModel",
     "state": {
      "_dom_classes": [],
      "_model_module": "@jupyter-widgets/controls",
      "_model_module_version": "1.5.0",
      "_model_name": "FloatProgressModel",
      "_view_count": null,
      "_view_module": "@jupyter-widgets/controls",
      "_view_module_version": "1.5.0",
      "_view_name": "ProgressView",
      "bar_style": "success",
      "description": "",
      "description_tooltip": null,
      "layout": "IPY_MODEL_db0e28a49e644d90bf0cdbc2731341a4",
      "max": 170498071,
      "min": 0,
      "orientation": "horizontal",
      "style": "IPY_MODEL_06207f42aceb4a8b8d0137af9022f4c3",
      "value": 170498071
     }
    },
    "c41c44ba515e4db09c3198a82abb8732": {
     "model_module": "@jupyter-widgets/base",
     "model_module_version": "1.2.0",
     "model_name": "LayoutModel",
     "state": {
      "_model_module": "@jupyter-widgets/base",
      "_model_module_version": "1.2.0",
      "_model_name": "LayoutModel",
      "_view_count": null,
      "_view_module": "@jupyter-widgets/base",
      "_view_module_version": "1.2.0",
      "_view_name": "LayoutView",
      "align_content": null,
      "align_items": null,
      "align_self": null,
      "border": null,
      "bottom": null,
      "display": null,
      "flex": null,
      "flex_flow": null,
      "grid_area": null,
      "grid_auto_columns": null,
      "grid_auto_flow": null,
      "grid_auto_rows": null,
      "grid_column": null,
      "grid_gap": null,
      "grid_row": null,
      "grid_template_areas": null,
      "grid_template_columns": null,
      "grid_template_rows": null,
      "height": null,
      "justify_content": null,
      "justify_items": null,
      "left": null,
      "margin": null,
      "max_height": null,
      "max_width": null,
      "min_height": null,
      "min_width": null,
      "object_fit": null,
      "object_position": null,
      "order": null,
      "overflow": null,
      "overflow_x": null,
      "overflow_y": null,
      "padding": null,
      "right": null,
      "top": null,
      "visibility": null,
      "width": null
     }
    },
    "d1d1b169249b45bf821ac6da3cb8a0b1": {
     "model_module": "@jupyter-widgets/controls",
     "model_module_version": "1.5.0",
     "model_name": "HTMLModel",
     "state": {
      "_dom_classes": [],
      "_model_module": "@jupyter-widgets/controls",
      "_model_module_version": "1.5.0",
      "_model_name": "HTMLModel",
      "_view_count": null,
      "_view_module": "@jupyter-widgets/controls",
      "_view_module_version": "1.5.0",
      "_view_name": "HTMLView",
      "description": "",
      "description_tooltip": null,
      "layout": "IPY_MODEL_c41c44ba515e4db09c3198a82abb8732",
      "placeholder": "​",
      "style": "IPY_MODEL_d3499a4d309d4e489d25ab795f379ae6",
      "value": "100%"
     }
    },
    "d3499a4d309d4e489d25ab795f379ae6": {
     "model_module": "@jupyter-widgets/controls",
     "model_module_version": "1.5.0",
     "model_name": "DescriptionStyleModel",
     "state": {
      "_model_module": "@jupyter-widgets/controls",
      "_model_module_version": "1.5.0",
      "_model_name": "DescriptionStyleModel",
      "_view_count": null,
      "_view_module": "@jupyter-widgets/base",
      "_view_module_version": "1.2.0",
      "_view_name": "StyleView",
      "description_width": ""
     }
    },
    "d632174679ca4f5ca60f0fd9808b5904": {
     "model_module": "@jupyter-widgets/controls",
     "model_module_version": "1.5.0",
     "model_name": "HTMLModel",
     "state": {
      "_dom_classes": [],
      "_model_module": "@jupyter-widgets/controls",
      "_model_module_version": "1.5.0",
      "_model_name": "HTMLModel",
      "_view_count": null,
      "_view_module": "@jupyter-widgets/controls",
      "_view_module_version": "1.5.0",
      "_view_name": "HTMLView",
      "description": "",
      "description_tooltip": null,
      "layout": "IPY_MODEL_640fc0583bd644a0bbe30c90eaa8326a",
      "placeholder": "​",
      "style": "IPY_MODEL_080d88887c78489e8351298ca4128f8d",
      "value": " 170498071/170498071 [00:14&lt;00:00, 12540841.25it/s]"
     }
    },
    "db0e28a49e644d90bf0cdbc2731341a4": {
     "model_module": "@jupyter-widgets/base",
     "model_module_version": "1.2.0",
     "model_name": "LayoutModel",
     "state": {
      "_model_module": "@jupyter-widgets/base",
      "_model_module_version": "1.2.0",
      "_model_name": "LayoutModel",
      "_view_count": null,
      "_view_module": "@jupyter-widgets/base",
      "_view_module_version": "1.2.0",
      "_view_name": "LayoutView",
      "align_content": null,
      "align_items": null,
      "align_self": null,
      "border": null,
      "bottom": null,
      "display": null,
      "flex": null,
      "flex_flow": null,
      "grid_area": null,
      "grid_auto_columns": null,
      "grid_auto_flow": null,
      "grid_auto_rows": null,
      "grid_column": null,
      "grid_gap": null,
      "grid_row": null,
      "grid_template_areas": null,
      "grid_template_columns": null,
      "grid_template_rows": null,
      "height": null,
      "justify_content": null,
      "justify_items": null,
      "left": null,
      "margin": null,
      "max_height": null,
      "max_width": null,
      "min_height": null,
      "min_width": null,
      "object_fit": null,
      "object_position": null,
      "order": null,
      "overflow": null,
      "overflow_x": null,
      "overflow_y": null,
      "padding": null,
      "right": null,
      "top": null,
      "visibility": null,
      "width": null
     }
    }
   }
  }
 },
 "nbformat": 4,
 "nbformat_minor": 1
}
