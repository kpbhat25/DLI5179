{
  "cells": [
    {
      "cell_type": "markdown",
      "metadata": {
        "id": "BrUVXuMSkDQQ"
      },
      "source": [
        "## Imports"
      ]
    },
    {
      "cell_type": "code",
      "execution_count": 1,
      "metadata": {
        "id": "A9EtAGtyTQJ8"
      },
      "outputs": [],
      "source": [
        "import torch\n",
        "import torchvision\n",
        "import torchvision.transforms as transforms\n",
        "from torch.utils.data import Dataset, DataLoader\n",
        "import torch.nn as nn\n",
        "import torch.nn.functional as F\n",
        "import sys\n",
        "import numpy as np\n",
        "import os"
      ]
    },
    {
      "cell_type": "markdown",
      "metadata": {
        "id": "h_AuUCJJkRiD"
      },
      "source": [
        "## Utilising GPU using Pytorch"
      ]
    },
    {
      "cell_type": "code",
      "execution_count": 2,
      "metadata": {
        "colab": {
          "base_uri": "https://localhost:8080/"
        },
        "id": "ERUEzqqakS3e",
        "outputId": "04c56967-6799-418a-a95e-5301d3f0ab2d"
      },
      "outputs": [
        {
          "output_type": "stream",
          "name": "stdout",
          "text": [
            "cpu\n",
            "cuda:0\n"
          ]
        }
      ],
      "source": [
        "# cpu-gpu\n",
        "a = torch.randn((3, 4))\n",
        "print(a.device)\n",
        "\n",
        "device = torch.device(\"cuda\")\n",
        "a = a.to(device)\n",
        "print(a.device)\n",
        "\n",
        "# a more generic code\n",
        "device = torch.device('cuda' if torch.cuda.is_available() else 'cpu')"
      ]
    },
    {
      "cell_type": "code",
      "execution_count": 3,
      "metadata": {
        "colab": {
          "base_uri": "https://localhost:8080/"
        },
        "id": "p477v4h5ctKS",
        "outputId": "af615a87-2f7b-4d7a-cadb-745237c9e6ce"
      },
      "outputs": [
        {
          "output_type": "execute_result",
          "data": {
            "text/plain": [
              "True"
            ]
          },
          "metadata": {},
          "execution_count": 3
        }
      ],
      "source": [
        "torch.cuda.is_available() "
      ]
    },
    {
      "cell_type": "code",
      "execution_count": 4,
      "metadata": {
        "colab": {
          "base_uri": "https://localhost:8080/"
        },
        "id": "n474i7A4kjm3",
        "outputId": "43b46999-d491-47c3-8df5-6bd362b8218e"
      },
      "outputs": [
        {
          "output_type": "stream",
          "name": "stdout",
          "text": [
            "Sun Sep 18 11:55:15 2022       \n",
            "+-----------------------------------------------------------------------------+\n",
            "| NVIDIA-SMI 460.32.03    Driver Version: 460.32.03    CUDA Version: 11.2     |\n",
            "|-------------------------------+----------------------+----------------------+\n",
            "| GPU  Name        Persistence-M| Bus-Id        Disp.A | Volatile Uncorr. ECC |\n",
            "| Fan  Temp  Perf  Pwr:Usage/Cap|         Memory-Usage | GPU-Util  Compute M. |\n",
            "|                               |                      |               MIG M. |\n",
            "|===============================+======================+======================|\n",
            "|   0  Tesla T4            Off  | 00000000:00:04.0 Off |                    0 |\n",
            "| N/A   45C    P0    26W /  70W |    612MiB / 15109MiB |      1%      Default |\n",
            "|                               |                      |                  N/A |\n",
            "+-------------------------------+----------------------+----------------------+\n",
            "                                                                               \n",
            "+-----------------------------------------------------------------------------+\n",
            "| Processes:                                                                  |\n",
            "|  GPU   GI   CI        PID   Type   Process name                  GPU Memory |\n",
            "|        ID   ID                                                   Usage      |\n",
            "|=============================================================================|\n",
            "+-----------------------------------------------------------------------------+\n"
          ]
        }
      ],
      "source": [
        "!nvidia-smi"
      ]
    },
    {
      "cell_type": "markdown",
      "metadata": {
        "id": "NxjZWEfIkn7X"
      },
      "source": [
        "## Dataset and Transforms"
      ]
    },
    {
      "cell_type": "code",
      "execution_count": 5,
      "metadata": {
        "colab": {
          "base_uri": "https://localhost:8080/",
          "height": 101,
          "referenced_widgets": [
            "4335111cac2d48fb944c0607742afbd6",
            "032250ea48954e9680cc3ed0f6bcc48b",
            "93f73f6b79c5408c986660a0167b1558",
            "96011ad9c0d740608509809f7cbaf38f",
            "cf9ba358de354335b5dfd64fc784d3b8",
            "34f951d77a284bc4a47e8e551dff7e96",
            "fabfcc0c6adc45d5bf4d2db8f7e24bec",
            "0dfff69d0df340d7b5a369d88244cdde",
            "268c699ef24942ff8fbdb24701b4a339",
            "bb95cfec48b74e0daa7d24a50a71757f",
            "e083a05e02944b4285c0faf38abaefa7"
          ]
        },
        "id": "Afh2_n-PTc_U",
        "outputId": "f92cf775-1532-476e-df16-fa7b249437e9"
      },
      "outputs": [
        {
          "output_type": "stream",
          "name": "stdout",
          "text": [
            "Downloading https://www.cs.toronto.edu/~kriz/cifar-10-python.tar.gz to data/cifar-10-python.tar.gz\n"
          ]
        },
        {
          "output_type": "display_data",
          "data": {
            "text/plain": [
              "  0%|          | 0/170498071 [00:00<?, ?it/s]"
            ],
            "application/vnd.jupyter.widget-view+json": {
              "version_major": 2,
              "version_minor": 0,
              "model_id": "4335111cac2d48fb944c0607742afbd6"
            }
          },
          "metadata": {}
        },
        {
          "output_type": "stream",
          "name": "stdout",
          "text": [
            "Extracting data/cifar-10-python.tar.gz to data/\n",
            "Files already downloaded and verified\n"
          ]
        }
      ],
      "source": [
        "train_transform = transforms.Compose([\n",
        "  transforms.RandomCrop(32, padding=4),\n",
        "  transforms.RandomHorizontalFlip(),\n",
        "  transforms.ToTensor(),\n",
        "  transforms.Normalize((0.4914, 0.4822, 0.4465), (0.2023, 0.1994, 0.2010)),\n",
        "])\n",
        "test_transform = transforms.Compose([\n",
        "  transforms.ToTensor(),\n",
        "  transforms.Normalize((0.4914, 0.4822, 0.4465), (0.2023, 0.1994, 0.2010)),\n",
        "])\n",
        "\n",
        "train_dset = torchvision.datasets.CIFAR10(root=\"data/\", train=True, transform=train_transform, download=True)\n",
        "test_dset = torchvision.datasets.CIFAR10(root=\"data/\", train=False, transform=test_transform, download=True)"
      ]
    },
    {
      "cell_type": "code",
      "execution_count": 6,
      "metadata": {
        "colab": {
          "base_uri": "https://localhost:8080/"
        },
        "id": "rwrVIg6BUUKI",
        "outputId": "109311a5-ac5b-41ee-a50a-0ecbbea6a296"
      },
      "outputs": [
        {
          "output_type": "stream",
          "name": "stdout",
          "text": [
            "# of train samples: 50000\n",
            "# of test samples: 10000\n"
          ]
        }
      ],
      "source": [
        "print(f\"# of train samples: {len(train_dset)}\")\n",
        "print(f\"# of test samples: {len(test_dset)}\")"
      ]
    },
    {
      "cell_type": "code",
      "execution_count": 7,
      "metadata": {
        "id": "R_RniHmyUgsz"
      },
      "outputs": [],
      "source": [
        "train_loader = DataLoader(train_dset, batch_size=100, shuffle=True, num_workers=2)\n",
        "test_loader = DataLoader(test_dset, batch_size=100, shuffle=False, num_workers=2)"
      ]
    },
    {
      "cell_type": "code",
      "execution_count": 8,
      "metadata": {
        "colab": {
          "base_uri": "https://localhost:8080/"
        },
        "id": "4GoIkiN8VJXx",
        "outputId": "c463aa49-6d73-4b0e-85b0-d1310661dbbe"
      },
      "outputs": [
        {
          "output_type": "stream",
          "name": "stdout",
          "text": [
            "# of train batches: 500\n",
            "# of test batches: 100\n"
          ]
        }
      ],
      "source": [
        "print(f\"# of train batches: {len(train_loader)}\")\n",
        "print(f\"# of test batches: {len(test_loader)}\")"
      ]
    },
    {
      "cell_type": "code",
      "execution_count": 9,
      "metadata": {
        "colab": {
          "base_uri": "https://localhost:8080/"
        },
        "id": "uokKboX4VO02",
        "outputId": "12c20d45-10ee-4c12-8084-f80c831267a8"
      },
      "outputs": [
        {
          "output_type": "stream",
          "name": "stdout",
          "text": [
            "sample i/o sizes\n",
            "input size: torch.Size([100, 3, 32, 32])\n",
            "output size: torch.Size([100])\n"
          ]
        }
      ],
      "source": [
        "print(\"sample i/o sizes\")\n",
        "data = next(iter(train_loader))\n",
        "img, target = data\n",
        "print(f\"input size: {img.shape}\")\n",
        "print(f\"output size: {target.shape}\")"
      ]
    },
    {
      "cell_type": "markdown",
      "metadata": {
        "id": "JSJjyNdKkr1t"
      },
      "source": [
        "## LeNet"
      ]
    },
    {
      "cell_type": "code",
      "execution_count": 43,
      "metadata": {
        "id": "Usjem5RSVdso"
      },
      "outputs": [],
      "source": [
        "class LeNet(nn.Module):\n",
        "  def __init__(self):\n",
        "    super(LeNet, self).__init__()\n",
        "    self.conv1 = nn.Conv2d(3, 6, kernel_size=5)\n",
        "    self.conv2 = nn.Conv2d(6, 32, kernel_size=5)\n",
        "    self.conv3 = nn.Conv2d(32, 64, kernel_size=5)\n",
        "    # TODO: missing input feature size\n",
        "    self.fc1   = nn.Linear(64*5*5, 120)\n",
        "    self.fc2   = nn.Linear(120, 84)\n",
        "    # TODO: missing output feature size\n",
        "    self.fc3   = nn.Linear(84, 10)\n",
        "    self.activ = nn.ReLU()\n",
        "\n",
        "  # TODO: add maxpool operation of given kernel size\n",
        "  # https://pytorch.org/docs/stable/nn.functional.html\n",
        "  def pool(self, x, kernel_size=2):\n",
        "    out = F.max_pool2d(x,kernel_size)\n",
        "    return out\n",
        "\n",
        "  def forward(self, x):\n",
        "    out = self.activ(self.conv1(x))\n",
        "    out = self.pool(out)\n",
        "    out = self.activ(self.conv2(out))\n",
        "    out = self.pool(out)\n",
        "    out = self.activ(self.conv3(out))\n",
        "    out = self.pool(out)\n",
        "\n",
        "\n",
        "    # TODO: flatten\n",
        "    out = out.view(out.size(0),-1)\n",
        "    out = self.activ(self.fc1(out))\n",
        "    out = self.activ(self.fc2(out))\n",
        "    out = self.fc3(out)\n",
        "    return out"
      ]
    },
    {
      "cell_type": "markdown",
      "metadata": {
        "id": "K4ywUDe3k0ZQ"
      },
      "source": [
        "## Utility functions (can ignore)"
      ]
    },
    {
      "cell_type": "code",
      "execution_count": 20,
      "metadata": {
        "id": "iUXIGxAvfdBc"
      },
      "outputs": [],
      "source": [
        "def pbar(p=0, msg=\"\", bar_len=20):\n",
        "    sys.stdout.write(\"\\033[K\")\n",
        "    sys.stdout.write(\"\\x1b[2K\" + \"\\r\")\n",
        "    block = int(round(bar_len * p))\n",
        "    text = \"Progress: [{}] {}% {}\".format(\n",
        "        \"\\x1b[32m\" + \"=\" * (block - 1) + \">\" + \"\\033[0m\" + \"-\" * (bar_len - block),\n",
        "        round(p * 100, 2),\n",
        "        msg,\n",
        "    )\n",
        "    print(text, end=\"\\r\")\n",
        "    if p == 1:\n",
        "        print()\n",
        "\n",
        "\n",
        "class AvgMeter:\n",
        "    def __init__(self):\n",
        "        self.reset()\n",
        "\n",
        "    def reset(self):\n",
        "        self.metrics = {}\n",
        "\n",
        "    def add(self, batch_metrics):\n",
        "        if self.metrics == {}:\n",
        "            for key, value in batch_metrics.items():\n",
        "                self.metrics[key] = [value]\n",
        "        else:\n",
        "            for key, value in batch_metrics.items():\n",
        "                self.metrics[key].append(value)\n",
        "\n",
        "    def get(self):\n",
        "        return {key: np.mean(value) for key, value in self.metrics.items()}\n",
        "\n",
        "    def msg(self):\n",
        "        avg_metrics = {key: np.mean(value) for key, value in self.metrics.items()}\n",
        "        return \"\".join([\"[{}] {:.5f} \".format(key, value) for key, value in avg_metrics.items()])"
      ]
    },
    {
      "cell_type": "markdown",
      "metadata": {
        "id": "cM4qJwaDlBwD"
      },
      "source": [
        "## Training"
      ]
    },
    {
      "cell_type": "code",
      "execution_count": 21,
      "metadata": {
        "id": "XdwembsSja6-"
      },
      "outputs": [],
      "source": [
        "def train(model, optim, lr_sched=None, epochs=20, device=torch.device(\"cuda\" if torch.cuda.is_available() else \"cpu\"), criterion=None, metric_meter=None, out_dir=\"out/\"):\n",
        "  model.to(device)\n",
        "  best_acc = 0\n",
        "  for epoch in range(epochs):\n",
        "    model.train()\n",
        "    metric_meter.reset()\n",
        "    for indx, (img, target) in enumerate(train_loader):\n",
        "      # TODO: send to device (cpu or gpu)\n",
        "      img = img.to(device)\n",
        "      target = target.to(device)\n",
        "\n",
        "      # TODO: missing forward pass\n",
        "      out = model(img)\n",
        "      loss = criterion(out, target)\n",
        "      # TODO: missing backward, parameter update\n",
        "      optim.zero_grad()\n",
        "      loss.backward()\n",
        "      optim.step()\n",
        "      metric_meter.add({\"train loss\": loss.item()})\n",
        "      pbar(indx / len(train_loader), msg=metric_meter.msg())\n",
        "    pbar(1, msg=metric_meter.msg())\n",
        "\n",
        "    model.eval()\n",
        "    metric_meter.reset()\n",
        "    for indx, (img, target) in enumerate(test_loader):\n",
        "      # TODO: send to device (cpu or gpu)\n",
        "      img = img.to(device)\n",
        "      target = target.to(device)\n",
        "\n",
        "      # TODO: missing forward pass\n",
        "      out = model(img)\n",
        "      loss = criterion(out, target)\n",
        "      # TODO: compute accuracy\n",
        "      acc = (out.argmax(1) == target).type(torch.float).sum().item()\n",
        "\n",
        "      metric_meter.add({\"test loss\": loss.item(), \"test acc\": acc})\n",
        "      pbar(indx / len(test_loader), msg=metric_meter.msg())\n",
        "    pbar(1, msg=metric_meter.msg())\n",
        "    \n",
        "    test_metrics = metric_meter.get()\n",
        "    if test_metrics[\"test acc\"] > best_acc:\n",
        "      print(\n",
        "          \"\\x1b[33m\"\n",
        "          + f\"test acc improved from {round(best_acc, 5)} to {round(test_metrics['test acc'], 5)}\"\n",
        "          + \"\\033[0m\"\n",
        "      )\n",
        "      best_acc = test_metrics['test acc']\n",
        "      torch.save(model.state_dict(), os.path.join(out_dir, \"best.ckpt\"))\n",
        "    lr_sched.step()"
      ]
    },
    {
      "cell_type": "markdown",
      "metadata": {
        "id": "7QSyZus3lD7f"
      },
      "source": [
        "## Run Experiments"
      ]
    },
    {
      "cell_type": "code",
      "execution_count": 22,
      "metadata": {
        "id": "1Wy8hIQfiGqS"
      },
      "outputs": [],
      "source": [
        "def run_experiment(model_name=\"lenet\", model_cfg=None, epochs=20):\n",
        "  if model_name == \"lenet\":\n",
        "    model = LeNet()\n",
        "  optim = torch.optim.SGD(model.parameters(), lr=1e-1, momentum=0.9, weight_decay=5e-4)\n",
        "  lr_sched = torch.optim.lr_scheduler.CosineAnnealingLR(optim, T_max=epochs)\n",
        "  criterion = nn.CrossEntropyLoss()\n",
        "  metric_meter = AvgMeter()\n",
        "  out_dir = f\"{model_name}_{model_cfg}\"\n",
        "  os.makedirs(out_dir, exist_ok=True)\n",
        "  train(model, optim, lr_sched, epochs=epochs, criterion=criterion, metric_meter=metric_meter, out_dir=out_dir)"
      ]
    },
    {
      "cell_type": "code",
      "execution_count": 23,
      "metadata": {
        "colab": {
          "base_uri": "https://localhost:8080/"
        },
        "id": "jgYPvSM4jUEH",
        "outputId": "069bac9a-0e14-45ce-bbc9-00995a30c28c",
        "scrolled": true
      },
      "outputs": [
        {
          "output_type": "stream",
          "name": "stdout",
          "text": [
            "Progress: [\u001b[32m===================>\u001b[0m] 100% [train loss] 2.09773 \n",
            "Progress: [\u001b[32m===================>\u001b[0m] 100% [test loss] 2.00331 [test acc] 25.95000 \n",
            "\u001b[33mtest acc improved from 0 to 25.95\u001b[0m\n",
            "Progress: [\u001b[32m===================>\u001b[0m] 100% [train loss] 1.90805 \n",
            "Progress: [\u001b[32m===================>\u001b[0m] 100% [test loss] 1.88315 [test acc] 29.02000 \n",
            "\u001b[33mtest acc improved from 25.95 to 29.02\u001b[0m\n",
            "Progress: [\u001b[32m===================>\u001b[0m] 100% [train loss] 1.87238 \n",
            "Progress: [\u001b[32m===================>\u001b[0m] 100% [test loss] 1.82579 [test acc] 33.49000 \n",
            "\u001b[33mtest acc improved from 29.02 to 33.49\u001b[0m\n",
            "Progress: [\u001b[32m===================>\u001b[0m] 100% [train loss] 1.84685 \n",
            "Progress: [\u001b[32m===================>\u001b[0m] 100% [test loss] 1.84448 [test acc] 31.75000 \n",
            "Progress: [\u001b[32m===================>\u001b[0m] 100% [train loss] 1.81004 \n",
            "Progress: [\u001b[32m===================>\u001b[0m] 100% [test loss] 1.71023 [test acc] 36.34000 \n",
            "\u001b[33mtest acc improved from 33.49 to 36.34\u001b[0m\n",
            "Progress: [\u001b[32m===================>\u001b[0m] 100% [train loss] 1.76901 \n",
            "Progress: [\u001b[32m===================>\u001b[0m] 100% [test loss] 1.74466 [test acc] 36.95000 \n",
            "\u001b[33mtest acc improved from 36.34 to 36.95\u001b[0m\n",
            "Progress: [\u001b[32m===================>\u001b[0m] 100% [train loss] 1.72513 \n",
            "Progress: [\u001b[32m===================>\u001b[0m] 100% [test loss] 1.65723 [test acc] 37.38000 \n",
            "\u001b[33mtest acc improved from 36.95 to 37.38\u001b[0m\n",
            "Progress: [\u001b[32m===================>\u001b[0m] 100% [train loss] 1.68298 \n",
            "Progress: [\u001b[32m===================>\u001b[0m] 100% [test loss] 1.55102 [test acc] 43.42000 \n",
            "\u001b[33mtest acc improved from 37.38 to 43.42\u001b[0m\n",
            "Progress: [\u001b[32m===================>\u001b[0m] 100% [train loss] 1.62786 \n",
            "Progress: [\u001b[32m===================>\u001b[0m] 100% [test loss] 1.54186 [test acc] 44.17000 \n",
            "\u001b[33mtest acc improved from 43.42 to 44.17\u001b[0m\n",
            "Progress: [\u001b[32m===================>\u001b[0m] 100% [train loss] 1.57178 \n",
            "Progress: [\u001b[32m===================>\u001b[0m] 100% [test loss] 1.54262 [test acc] 44.66000 \n",
            "\u001b[33mtest acc improved from 44.17 to 44.66\u001b[0m\n",
            "Progress: [\u001b[32m===================>\u001b[0m] 100% [train loss] 1.52041 \n",
            "Progress: [\u001b[32m===================>\u001b[0m] 100% [test loss] 1.47860 [test acc] 46.27000 \n",
            "\u001b[33mtest acc improved from 44.66 to 46.27\u001b[0m\n",
            "Progress: [\u001b[32m===================>\u001b[0m] 100% [train loss] 1.46437 \n",
            "Progress: [\u001b[32m===================>\u001b[0m] 100% [test loss] 1.41450 [test acc] 48.96000 \n",
            "\u001b[33mtest acc improved from 46.27 to 48.96\u001b[0m\n",
            "Progress: [\u001b[32m===================>\u001b[0m] 100% [train loss] 1.39063 \n",
            "Progress: [\u001b[32m===================>\u001b[0m] 100% [test loss] 1.31499 [test acc] 53.62000 \n",
            "\u001b[33mtest acc improved from 48.96 to 53.62\u001b[0m\n",
            "Progress: [\u001b[32m===================>\u001b[0m] 100% [train loss] 1.31890 \n",
            "Progress: [\u001b[32m===================>\u001b[0m] 100% [test loss] 1.21614 [test acc] 56.95000 \n",
            "\u001b[33mtest acc improved from 53.62 to 56.95\u001b[0m\n",
            "Progress: [\u001b[32m===================>\u001b[0m] 100% [train loss] 1.27173 \n",
            "Progress: [\u001b[32m===================>\u001b[0m] 100% [test loss] 1.18751 [test acc] 58.10000 \n",
            "\u001b[33mtest acc improved from 56.95 to 58.1\u001b[0m\n",
            "Progress: [\u001b[32m===================>\u001b[0m] 100% [train loss] 1.20838 \n",
            "Progress: [\u001b[32m===================>\u001b[0m] 100% [test loss] 1.14827 [test acc] 59.24000 \n",
            "\u001b[33mtest acc improved from 58.1 to 59.24\u001b[0m\n",
            "Progress: [\u001b[32m===================>\u001b[0m] 100% [train loss] 1.15214 \n",
            "Progress: [\u001b[32m===================>\u001b[0m] 100% [test loss] 1.10608 [test acc] 61.27000 \n",
            "\u001b[33mtest acc improved from 59.24 to 61.27\u001b[0m\n",
            "Progress: [\u001b[32m===================>\u001b[0m] 100% [train loss] 1.11630 \n",
            "Progress: [\u001b[32m===================>\u001b[0m] 100% [test loss] 1.04973 [test acc] 62.81000 \n",
            "\u001b[33mtest acc improved from 61.27 to 62.81\u001b[0m\n",
            "Progress: [\u001b[32m===================>\u001b[0m] 100% [train loss] 1.07916 \n",
            "Progress: [\u001b[32m===================>\u001b[0m] 100% [test loss] 1.03096 [test acc] 63.75000 \n",
            "\u001b[33mtest acc improved from 62.81 to 63.75\u001b[0m\n",
            "Progress: [\u001b[32m===================>\u001b[0m] 100% [train loss] 1.06248 \n",
            "Progress: [\u001b[32m===================>\u001b[0m] 100% [test loss] 1.02110 [test acc] 64.48000 \n",
            "\u001b[33mtest acc improved from 63.75 to 64.48\u001b[0m\n"
          ]
        }
      ],
      "source": [
        "run_experiment(model_name=\"lenet\")"
      ]
    },
    {
      "cell_type": "markdown",
      "metadata": {
        "id": "cLQ47o5ectKh"
      },
      "source": [
        "16->32  Accuracy Moved from 62.57% to 64.48%\n"
      ]
    },
    {
      "cell_type": "code",
      "source": [
        "def run_experiment(model_name=\"lenet\", model_cfg=None, epochs=20):\n",
        "  if model_name == \"lenet\":\n",
        "    model = LeNet()\n",
        "  optim = torch.optim.SGD(model.parameters(), lr=1e-1, momentum=0.9, weight_decay=5e-4)\n",
        "  lr_sched = torch.optim.lr_scheduler.CosineAnnealingLR(optim, T_max=epochs)\n",
        "  criterion = nn.CrossEntropyLoss()\n",
        "  metric_meter = AvgMeter()\n",
        "  out_dir = f\"{model_name}_{model_cfg}\"\n",
        "  os.makedirs(out_dir, exist_ok=True)\n",
        "  train(model, optim, lr_sched, epochs=epochs, criterion=criterion, metric_meter=metric_meter, out_dir=out_dir)"
      ],
      "metadata": {
        "id": "xfYClV77hPNF"
      },
      "execution_count": 37,
      "outputs": []
    },
    {
      "cell_type": "code",
      "source": [
        "run_experiment(model_name=\"lenet\")"
      ],
      "metadata": {
        "colab": {
          "base_uri": "https://localhost:8080/"
        },
        "id": "NBosJxuXhPZy",
        "outputId": "6313da80-308d-45e0-9b05-dcbca82566cf"
      },
      "execution_count": 42,
      "outputs": [
        {
          "output_type": "stream",
          "name": "stdout",
          "text": [
            "Progress: [\u001b[32m===================>\u001b[0m] 100% [train loss] 2.00005 \n",
            "Progress: [\u001b[32m===================>\u001b[0m] 100% [test loss] 1.84241 [test acc] 27.50000 \n",
            "\u001b[33mtest acc improved from 0 to 27.5\u001b[0m\n",
            "Progress: [\u001b[32m===================>\u001b[0m] 100% [train loss] 1.88387 \n",
            "Progress: [\u001b[32m===================>\u001b[0m] 100% [test loss] 1.87203 [test acc] 28.54000 \n",
            "\u001b[33mtest acc improved from 27.5 to 28.54\u001b[0m\n",
            "Progress: [\u001b[32m===================>\u001b[0m] 100% [train loss] 1.83851 \n",
            "Progress: [\u001b[32m===================>\u001b[0m] 100% [test loss] 1.86013 [test acc] 32.68000 \n",
            "\u001b[33mtest acc improved from 28.54 to 32.68\u001b[0m\n",
            "Progress: [\u001b[32m===================>\u001b[0m] 100% [train loss] 1.75704 \n",
            "Progress: [\u001b[32m===================>\u001b[0m] 100% [test loss] 1.65365 [test acc] 40.93000 \n",
            "\u001b[33mtest acc improved from 32.68 to 40.93\u001b[0m\n",
            "Progress: [\u001b[32m===================>\u001b[0m] 100% [train loss] 1.69457 \n",
            "Progress: [\u001b[32m===================>\u001b[0m] 100% [test loss] 1.64754 [test acc] 41.67000 \n",
            "\u001b[33mtest acc improved from 40.93 to 41.67\u001b[0m\n",
            "Progress: [\u001b[32m===================>\u001b[0m] 100% [train loss] 1.65990 \n",
            "Progress: [\u001b[32m===================>\u001b[0m] 100% [test loss] 1.60931 [test acc] 43.41000 \n",
            "\u001b[33mtest acc improved from 41.67 to 43.41\u001b[0m\n",
            "Progress: [\u001b[32m===================>\u001b[0m] 100% [train loss] 1.59530 \n",
            "Progress: [\u001b[32m===================>\u001b[0m] 100% [test loss] 1.54697 [test acc] 44.27000 \n",
            "\u001b[33mtest acc improved from 43.41 to 44.27\u001b[0m\n",
            "Progress: [\u001b[32m===================>\u001b[0m] 100% [train loss] 1.54157 \n",
            "Progress: [\u001b[32m===================>\u001b[0m] 100% [test loss] 1.45000 [test acc] 46.65000 \n",
            "\u001b[33mtest acc improved from 44.27 to 46.65\u001b[0m\n",
            "Progress: [\u001b[32m===================>\u001b[0m] 100% [train loss] 1.48376 \n",
            "Progress: [\u001b[32m===================>\u001b[0m] 100% [test loss] 1.45143 [test acc] 49.88000 \n",
            "\u001b[33mtest acc improved from 46.65 to 49.88\u001b[0m\n",
            "Progress: [\u001b[32m===================>\u001b[0m] 100% [train loss] 1.43155 \n",
            "Progress: [\u001b[32m===================>\u001b[0m] 100% [test loss] 1.33434 [test acc] 52.40000 \n",
            "\u001b[33mtest acc improved from 49.88 to 52.4\u001b[0m\n",
            "Progress: [\u001b[32m===================>\u001b[0m] 100% [train loss] 1.36831 \n",
            "Progress: [\u001b[32m===================>\u001b[0m] 100% [test loss] 1.26346 [test acc] 56.50000 \n",
            "\u001b[33mtest acc improved from 52.4 to 56.5\u001b[0m\n",
            "Progress: [\u001b[32m===================>\u001b[0m] 100% [train loss] 1.29312 \n",
            "Progress: [\u001b[32m===================>\u001b[0m] 100% [test loss] 1.16919 [test acc] 59.38000 \n",
            "\u001b[33mtest acc improved from 56.5 to 59.38\u001b[0m\n",
            "Progress: [\u001b[32m===================>\u001b[0m] 100% [train loss] 1.21105 \n",
            "Progress: [\u001b[32m===================>\u001b[0m] 100% [test loss] 1.08434 [test acc] 63.02000 \n",
            "\u001b[33mtest acc improved from 59.38 to 63.02\u001b[0m\n",
            "Progress: [\u001b[32m===================>\u001b[0m] 100% [train loss] 1.14628 \n",
            "Progress: [\u001b[32m===================>\u001b[0m] 100% [test loss] 1.07678 [test acc] 62.69000 \n",
            "Progress: [\u001b[32m===================>\u001b[0m] 100% [train loss] 1.07332 \n",
            "Progress: [\u001b[32m===================>\u001b[0m] 100% [test loss] 1.00292 [test acc] 65.20000 \n",
            "\u001b[33mtest acc improved from 63.02 to 65.2\u001b[0m\n",
            "Progress: [\u001b[32m===================>\u001b[0m] 100% [train loss] 1.01084 \n",
            "Progress: [\u001b[32m===================>\u001b[0m] 100% [test loss] 0.93889 [test acc] 67.80000 \n",
            "\u001b[33mtest acc improved from 65.2 to 67.8\u001b[0m\n",
            "Progress: [\u001b[32m===================>\u001b[0m] 100% [train loss] 0.95182 \n",
            "Progress: [\u001b[32m===================>\u001b[0m] 100% [test loss] 0.88403 [test acc] 69.45000 \n",
            "\u001b[33mtest acc improved from 67.8 to 69.45\u001b[0m\n",
            "Progress: [\u001b[32m===================>\u001b[0m] 100% [train loss] 0.91050 \n",
            "Progress: [\u001b[32m===================>\u001b[0m] 100% [test loss] 0.85413 [test acc] 70.31000 \n",
            "\u001b[33mtest acc improved from 69.45 to 70.31\u001b[0m\n",
            "Progress: [\u001b[32m===================>\u001b[0m] 100% [train loss] 0.86950 \n",
            "Progress: [\u001b[32m===================>\u001b[0m] 100% [test loss] 0.83311 [test acc] 70.96000 \n",
            "\u001b[33mtest acc improved from 70.31 to 70.96\u001b[0m\n",
            "Progress: [\u001b[32m===================>\u001b[0m] 100% [train loss] 0.85926 \n",
            "Progress: [\u001b[32m===================>\u001b[0m] 100% [test loss] 0.82271 [test acc] 71.33000 \n",
            "\u001b[33mtest acc improved from 70.96 to 71.33\u001b[0m\n"
          ]
        }
      ]
    },
    {
      "cell_type": "markdown",
      "source": [
        "32->64  Accuracy Moved from  64.48% to 71.33\n"
      ],
      "metadata": {
        "id": "Ou6djKT-jTCv"
      }
    },
    {
      "cell_type": "code",
      "source": [],
      "metadata": {
        "id": "gxiBlpiJkYE6"
      },
      "execution_count": null,
      "outputs": []
    },
    {
      "cell_type": "code",
      "source": [],
      "metadata": {
        "id": "JAGbXEiKkYL9"
      },
      "execution_count": null,
      "outputs": []
    }
  ],
  "metadata": {
    "accelerator": "GPU",
    "colab": {
      "collapsed_sections": [],
      "provenance": []
    },
    "gpuClass": "standard",
    "kernelspec": {
      "display_name": "Python 3.9.12 ('akash')",
      "language": "python",
      "name": "python3"
    },
    "language_info": {
      "codemirror_mode": {
        "name": "ipython",
        "version": 3
      },
      "file_extension": ".py",
      "mimetype": "text/x-python",
      "name": "python",
      "nbconvert_exporter": "python",
      "pygments_lexer": "ipython3",
      "version": "3.9.12"
    },
    "vscode": {
      "interpreter": {
        "hash": "f1de3b9ee186006078563b1124b47f29514e72c02f245931eac9a49602c4451b"
      }
    },
    "widgets": {
      "application/vnd.jupyter.widget-state+json": {
        "4335111cac2d48fb944c0607742afbd6": {
          "model_module": "@jupyter-widgets/controls",
          "model_name": "HBoxModel",
          "model_module_version": "1.5.0",
          "state": {
            "_dom_classes": [],
            "_model_module": "@jupyter-widgets/controls",
            "_model_module_version": "1.5.0",
            "_model_name": "HBoxModel",
            "_view_count": null,
            "_view_module": "@jupyter-widgets/controls",
            "_view_module_version": "1.5.0",
            "_view_name": "HBoxView",
            "box_style": "",
            "children": [
              "IPY_MODEL_032250ea48954e9680cc3ed0f6bcc48b",
              "IPY_MODEL_93f73f6b79c5408c986660a0167b1558",
              "IPY_MODEL_96011ad9c0d740608509809f7cbaf38f"
            ],
            "layout": "IPY_MODEL_cf9ba358de354335b5dfd64fc784d3b8"
          }
        },
        "032250ea48954e9680cc3ed0f6bcc48b": {
          "model_module": "@jupyter-widgets/controls",
          "model_name": "HTMLModel",
          "model_module_version": "1.5.0",
          "state": {
            "_dom_classes": [],
            "_model_module": "@jupyter-widgets/controls",
            "_model_module_version": "1.5.0",
            "_model_name": "HTMLModel",
            "_view_count": null,
            "_view_module": "@jupyter-widgets/controls",
            "_view_module_version": "1.5.0",
            "_view_name": "HTMLView",
            "description": "",
            "description_tooltip": null,
            "layout": "IPY_MODEL_34f951d77a284bc4a47e8e551dff7e96",
            "placeholder": "​",
            "style": "IPY_MODEL_fabfcc0c6adc45d5bf4d2db8f7e24bec",
            "value": "100%"
          }
        },
        "93f73f6b79c5408c986660a0167b1558": {
          "model_module": "@jupyter-widgets/controls",
          "model_name": "FloatProgressModel",
          "model_module_version": "1.5.0",
          "state": {
            "_dom_classes": [],
            "_model_module": "@jupyter-widgets/controls",
            "_model_module_version": "1.5.0",
            "_model_name": "FloatProgressModel",
            "_view_count": null,
            "_view_module": "@jupyter-widgets/controls",
            "_view_module_version": "1.5.0",
            "_view_name": "ProgressView",
            "bar_style": "success",
            "description": "",
            "description_tooltip": null,
            "layout": "IPY_MODEL_0dfff69d0df340d7b5a369d88244cdde",
            "max": 170498071,
            "min": 0,
            "orientation": "horizontal",
            "style": "IPY_MODEL_268c699ef24942ff8fbdb24701b4a339",
            "value": 170498071
          }
        },
        "96011ad9c0d740608509809f7cbaf38f": {
          "model_module": "@jupyter-widgets/controls",
          "model_name": "HTMLModel",
          "model_module_version": "1.5.0",
          "state": {
            "_dom_classes": [],
            "_model_module": "@jupyter-widgets/controls",
            "_model_module_version": "1.5.0",
            "_model_name": "HTMLModel",
            "_view_count": null,
            "_view_module": "@jupyter-widgets/controls",
            "_view_module_version": "1.5.0",
            "_view_name": "HTMLView",
            "description": "",
            "description_tooltip": null,
            "layout": "IPY_MODEL_bb95cfec48b74e0daa7d24a50a71757f",
            "placeholder": "​",
            "style": "IPY_MODEL_e083a05e02944b4285c0faf38abaefa7",
            "value": " 170498071/170498071 [00:13&lt;00:00, 13022070.65it/s]"
          }
        },
        "cf9ba358de354335b5dfd64fc784d3b8": {
          "model_module": "@jupyter-widgets/base",
          "model_name": "LayoutModel",
          "model_module_version": "1.2.0",
          "state": {
            "_model_module": "@jupyter-widgets/base",
            "_model_module_version": "1.2.0",
            "_model_name": "LayoutModel",
            "_view_count": null,
            "_view_module": "@jupyter-widgets/base",
            "_view_module_version": "1.2.0",
            "_view_name": "LayoutView",
            "align_content": null,
            "align_items": null,
            "align_self": null,
            "border": null,
            "bottom": null,
            "display": null,
            "flex": null,
            "flex_flow": null,
            "grid_area": null,
            "grid_auto_columns": null,
            "grid_auto_flow": null,
            "grid_auto_rows": null,
            "grid_column": null,
            "grid_gap": null,
            "grid_row": null,
            "grid_template_areas": null,
            "grid_template_columns": null,
            "grid_template_rows": null,
            "height": null,
            "justify_content": null,
            "justify_items": null,
            "left": null,
            "margin": null,
            "max_height": null,
            "max_width": null,
            "min_height": null,
            "min_width": null,
            "object_fit": null,
            "object_position": null,
            "order": null,
            "overflow": null,
            "overflow_x": null,
            "overflow_y": null,
            "padding": null,
            "right": null,
            "top": null,
            "visibility": null,
            "width": null
          }
        },
        "34f951d77a284bc4a47e8e551dff7e96": {
          "model_module": "@jupyter-widgets/base",
          "model_name": "LayoutModel",
          "model_module_version": "1.2.0",
          "state": {
            "_model_module": "@jupyter-widgets/base",
            "_model_module_version": "1.2.0",
            "_model_name": "LayoutModel",
            "_view_count": null,
            "_view_module": "@jupyter-widgets/base",
            "_view_module_version": "1.2.0",
            "_view_name": "LayoutView",
            "align_content": null,
            "align_items": null,
            "align_self": null,
            "border": null,
            "bottom": null,
            "display": null,
            "flex": null,
            "flex_flow": null,
            "grid_area": null,
            "grid_auto_columns": null,
            "grid_auto_flow": null,
            "grid_auto_rows": null,
            "grid_column": null,
            "grid_gap": null,
            "grid_row": null,
            "grid_template_areas": null,
            "grid_template_columns": null,
            "grid_template_rows": null,
            "height": null,
            "justify_content": null,
            "justify_items": null,
            "left": null,
            "margin": null,
            "max_height": null,
            "max_width": null,
            "min_height": null,
            "min_width": null,
            "object_fit": null,
            "object_position": null,
            "order": null,
            "overflow": null,
            "overflow_x": null,
            "overflow_y": null,
            "padding": null,
            "right": null,
            "top": null,
            "visibility": null,
            "width": null
          }
        },
        "fabfcc0c6adc45d5bf4d2db8f7e24bec": {
          "model_module": "@jupyter-widgets/controls",
          "model_name": "DescriptionStyleModel",
          "model_module_version": "1.5.0",
          "state": {
            "_model_module": "@jupyter-widgets/controls",
            "_model_module_version": "1.5.0",
            "_model_name": "DescriptionStyleModel",
            "_view_count": null,
            "_view_module": "@jupyter-widgets/base",
            "_view_module_version": "1.2.0",
            "_view_name": "StyleView",
            "description_width": ""
          }
        },
        "0dfff69d0df340d7b5a369d88244cdde": {
          "model_module": "@jupyter-widgets/base",
          "model_name": "LayoutModel",
          "model_module_version": "1.2.0",
          "state": {
            "_model_module": "@jupyter-widgets/base",
            "_model_module_version": "1.2.0",
            "_model_name": "LayoutModel",
            "_view_count": null,
            "_view_module": "@jupyter-widgets/base",
            "_view_module_version": "1.2.0",
            "_view_name": "LayoutView",
            "align_content": null,
            "align_items": null,
            "align_self": null,
            "border": null,
            "bottom": null,
            "display": null,
            "flex": null,
            "flex_flow": null,
            "grid_area": null,
            "grid_auto_columns": null,
            "grid_auto_flow": null,
            "grid_auto_rows": null,
            "grid_column": null,
            "grid_gap": null,
            "grid_row": null,
            "grid_template_areas": null,
            "grid_template_columns": null,
            "grid_template_rows": null,
            "height": null,
            "justify_content": null,
            "justify_items": null,
            "left": null,
            "margin": null,
            "max_height": null,
            "max_width": null,
            "min_height": null,
            "min_width": null,
            "object_fit": null,
            "object_position": null,
            "order": null,
            "overflow": null,
            "overflow_x": null,
            "overflow_y": null,
            "padding": null,
            "right": null,
            "top": null,
            "visibility": null,
            "width": null
          }
        },
        "268c699ef24942ff8fbdb24701b4a339": {
          "model_module": "@jupyter-widgets/controls",
          "model_name": "ProgressStyleModel",
          "model_module_version": "1.5.0",
          "state": {
            "_model_module": "@jupyter-widgets/controls",
            "_model_module_version": "1.5.0",
            "_model_name": "ProgressStyleModel",
            "_view_count": null,
            "_view_module": "@jupyter-widgets/base",
            "_view_module_version": "1.2.0",
            "_view_name": "StyleView",
            "bar_color": null,
            "description_width": ""
          }
        },
        "bb95cfec48b74e0daa7d24a50a71757f": {
          "model_module": "@jupyter-widgets/base",
          "model_name": "LayoutModel",
          "model_module_version": "1.2.0",
          "state": {
            "_model_module": "@jupyter-widgets/base",
            "_model_module_version": "1.2.0",
            "_model_name": "LayoutModel",
            "_view_count": null,
            "_view_module": "@jupyter-widgets/base",
            "_view_module_version": "1.2.0",
            "_view_name": "LayoutView",
            "align_content": null,
            "align_items": null,
            "align_self": null,
            "border": null,
            "bottom": null,
            "display": null,
            "flex": null,
            "flex_flow": null,
            "grid_area": null,
            "grid_auto_columns": null,
            "grid_auto_flow": null,
            "grid_auto_rows": null,
            "grid_column": null,
            "grid_gap": null,
            "grid_row": null,
            "grid_template_areas": null,
            "grid_template_columns": null,
            "grid_template_rows": null,
            "height": null,
            "justify_content": null,
            "justify_items": null,
            "left": null,
            "margin": null,
            "max_height": null,
            "max_width": null,
            "min_height": null,
            "min_width": null,
            "object_fit": null,
            "object_position": null,
            "order": null,
            "overflow": null,
            "overflow_x": null,
            "overflow_y": null,
            "padding": null,
            "right": null,
            "top": null,
            "visibility": null,
            "width": null
          }
        },
        "e083a05e02944b4285c0faf38abaefa7": {
          "model_module": "@jupyter-widgets/controls",
          "model_name": "DescriptionStyleModel",
          "model_module_version": "1.5.0",
          "state": {
            "_model_module": "@jupyter-widgets/controls",
            "_model_module_version": "1.5.0",
            "_model_name": "DescriptionStyleModel",
            "_view_count": null,
            "_view_module": "@jupyter-widgets/base",
            "_view_module_version": "1.2.0",
            "_view_name": "StyleView",
            "description_width": ""
          }
        }
      }
    }
  },
  "nbformat": 4,
  "nbformat_minor": 0
}